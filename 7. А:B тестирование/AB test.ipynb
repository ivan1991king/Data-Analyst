{
 "cells": [
  {
   "cell_type": "markdown",
   "id": "c1dd96c2",
   "metadata": {},
   "source": [
    "# А/B тестирование. Аналитика крупного интернет-магазина\n"
   ]
  },
  {
   "cell_type": "markdown",
   "id": "49cb2439",
   "metadata": {},
   "source": [
    "Вы — аналитик крупного интернет-магазина. Вместе с отделом маркетинга вы подготовили список гипотез для увеличения выручки.\n",
    "Приоритизируйте гипотезы, запустите A/B-тест и проанализируйте результаты.\n",
    "\n",
    "Проект состоит из 2 частей:\n",
    "\n",
    "1. Приоритизация гипотез\n",
    "2. Анализ A/B-теста"
   ]
  },
  {
   "cell_type": "markdown",
   "id": "4bd6eea2",
   "metadata": {},
   "source": [
    "***Описание данных***\n",
    "\n",
    "Структура `hypothesis.csv`:\n",
    "* `Hypothesis` — краткое описание гипотезы,  \n",
    "* `Reach` — охват пользователей по 10-балльной шкале,  \n",
    "* `Impact` — влияние на пользователей по 10-балльной шкале,  \n",
    "* `Confidence` — уверенность в гипотезе по 10-балльной шкале,\n",
    "* `Efforts` — затраты ресурсов на проверку гипотезы по 10-балльной шкале. Чем больше значение Efforts, тем дороже проверка гипотезы.\n",
    "\n",
    "Структура `orders.csv`:\n",
    "* `transactionId` — идентификатор заказа,\n",
    "* `visitorId` — идентификатор пользователя, совершившего заказ,\n",
    "* `date` — дата, когда был совершён заказ,\n",
    "* `revenue` — выручка заказа,\n",
    "* `group` — группа A/B-теста, в которую попал заказ.\n",
    "\n",
    "Структура `visitors.csv`:\n",
    "* `date` — дата,\n",
    "* `group` — группа A/B-теста,\n",
    "* `visitors` — количество пользователей в указанную дату в указанной группе A/B-теста."
   ]
  },
  {
   "cell_type": "markdown",
   "id": "7787f5c3",
   "metadata": {},
   "source": [
    "**Подготовка**"
   ]
  },
  {
   "cell_type": "code",
   "execution_count": 1,
   "id": "7d4a5841",
   "metadata": {},
   "outputs": [],
   "source": [
    "# Импорт необходимых библиотек\n",
    "\n",
    "import pandas as pd\n",
    "import matplotlib.pyplot as plt\n",
    "import seaborn as sns\n",
    "import numpy as np\n",
    "import scipy.stats as stats\n",
    "from scipy import stats as st\n",
    "import math"
   ]
  },
  {
   "cell_type": "code",
   "execution_count": 2,
   "id": "c663aaac",
   "metadata": {},
   "outputs": [],
   "source": [
    "# Увеличим ширину отображаемых столбцов\n",
    "pd.options.display.max_colwidth = 200"
   ]
  },
  {
   "cell_type": "code",
   "execution_count": 3,
   "id": "a5626167",
   "metadata": {},
   "outputs": [],
   "source": [
    "# Загрузка данных\n",
    "\n",
    "# гипотезы\n",
    "try:\n",
    "    hypothesis = pd.read_csv('hypothesis.csv')\n",
    "except FileNotFoundError:\n",
    "    hypothesis = pd.read_csv('/datasets/hypothesis.csv')\n",
    "\n",
    "# покупки    \n",
    "try:\n",
    "    orders = pd.read_csv('orders.csv')\n",
    "except FileNotFoundError:\n",
    "    orders = pd.read_csv('/datasets/orders.csv')\n",
    "\n",
    "# посетители   \n",
    "try:\n",
    "    visitors = pd.read_csv('visitors.csv')\n",
    "except FileNotFoundError:\n",
    "    visitors = pd.read_csv('/datasets/visitors.csv')"
   ]
  },
  {
   "cell_type": "markdown",
   "id": "d88130c2",
   "metadata": {},
   "source": [
    "### Часть 1. Приоритизация гипотез."
   ]
  },
  {
   "cell_type": "code",
   "execution_count": 4,
   "id": "c3823705",
   "metadata": {},
   "outputs": [
    {
     "data": {
      "text/html": [
       "<div>\n",
       "<style scoped>\n",
       "    .dataframe tbody tr th:only-of-type {\n",
       "        vertical-align: middle;\n",
       "    }\n",
       "\n",
       "    .dataframe tbody tr th {\n",
       "        vertical-align: top;\n",
       "    }\n",
       "\n",
       "    .dataframe thead th {\n",
       "        text-align: right;\n",
       "    }\n",
       "</style>\n",
       "<table border=\"1\" class=\"dataframe\">\n",
       "  <thead>\n",
       "    <tr style=\"text-align: right;\">\n",
       "      <th></th>\n",
       "      <th>Hypothesis</th>\n",
       "      <th>Reach</th>\n",
       "      <th>Impact</th>\n",
       "      <th>Confidence</th>\n",
       "      <th>Efforts</th>\n",
       "    </tr>\n",
       "  </thead>\n",
       "  <tbody>\n",
       "    <tr>\n",
       "      <th>0</th>\n",
       "      <td>Добавить два новых канала привлечения трафика, что позволит привлекать на 30% больше пользователей</td>\n",
       "      <td>3</td>\n",
       "      <td>10</td>\n",
       "      <td>8</td>\n",
       "      <td>6</td>\n",
       "    </tr>\n",
       "    <tr>\n",
       "      <th>1</th>\n",
       "      <td>Запустить собственную службу доставки, что сократит срок доставки заказов</td>\n",
       "      <td>2</td>\n",
       "      <td>5</td>\n",
       "      <td>4</td>\n",
       "      <td>10</td>\n",
       "    </tr>\n",
       "    <tr>\n",
       "      <th>2</th>\n",
       "      <td>Добавить блоки рекомендаций товаров на сайт интернет магазина, чтобы повысить конверсию и средний чек заказа</td>\n",
       "      <td>8</td>\n",
       "      <td>3</td>\n",
       "      <td>7</td>\n",
       "      <td>3</td>\n",
       "    </tr>\n",
       "    <tr>\n",
       "      <th>3</th>\n",
       "      <td>Изменить структура категорий, что увеличит конверсию, т.к. пользователи быстрее найдут нужный товар</td>\n",
       "      <td>8</td>\n",
       "      <td>3</td>\n",
       "      <td>3</td>\n",
       "      <td>8</td>\n",
       "    </tr>\n",
       "    <tr>\n",
       "      <th>4</th>\n",
       "      <td>Изменить цвет фона главной страницы, чтобы увеличить вовлеченность пользователей</td>\n",
       "      <td>3</td>\n",
       "      <td>1</td>\n",
       "      <td>1</td>\n",
       "      <td>1</td>\n",
       "    </tr>\n",
       "    <tr>\n",
       "      <th>5</th>\n",
       "      <td>Добавить страницу отзывов клиентов о магазине, что позволит увеличить количество заказов</td>\n",
       "      <td>3</td>\n",
       "      <td>2</td>\n",
       "      <td>2</td>\n",
       "      <td>3</td>\n",
       "    </tr>\n",
       "    <tr>\n",
       "      <th>6</th>\n",
       "      <td>Показать на главной странице баннеры с актуальными акциями и распродажами, чтобы увеличить конверсию</td>\n",
       "      <td>5</td>\n",
       "      <td>3</td>\n",
       "      <td>8</td>\n",
       "      <td>3</td>\n",
       "    </tr>\n",
       "    <tr>\n",
       "      <th>7</th>\n",
       "      <td>Добавить форму подписки на все основные страницы, чтобы собрать базу клиентов для email-рассылок</td>\n",
       "      <td>10</td>\n",
       "      <td>7</td>\n",
       "      <td>8</td>\n",
       "      <td>5</td>\n",
       "    </tr>\n",
       "    <tr>\n",
       "      <th>8</th>\n",
       "      <td>Запустить акцию, дающую скидку на товар в день рождения</td>\n",
       "      <td>1</td>\n",
       "      <td>9</td>\n",
       "      <td>9</td>\n",
       "      <td>5</td>\n",
       "    </tr>\n",
       "  </tbody>\n",
       "</table>\n",
       "</div>"
      ],
      "text/plain": [
       "                                                                                                     Hypothesis  \\\n",
       "0            Добавить два новых канала привлечения трафика, что позволит привлекать на 30% больше пользователей   \n",
       "1                                     Запустить собственную службу доставки, что сократит срок доставки заказов   \n",
       "2  Добавить блоки рекомендаций товаров на сайт интернет магазина, чтобы повысить конверсию и средний чек заказа   \n",
       "3           Изменить структура категорий, что увеличит конверсию, т.к. пользователи быстрее найдут нужный товар   \n",
       "4                              Изменить цвет фона главной страницы, чтобы увеличить вовлеченность пользователей   \n",
       "5                      Добавить страницу отзывов клиентов о магазине, что позволит увеличить количество заказов   \n",
       "6          Показать на главной странице баннеры с актуальными акциями и распродажами, чтобы увеличить конверсию   \n",
       "7              Добавить форму подписки на все основные страницы, чтобы собрать базу клиентов для email-рассылок   \n",
       "8                                                       Запустить акцию, дающую скидку на товар в день рождения   \n",
       "\n",
       "   Reach  Impact  Confidence  Efforts  \n",
       "0      3      10           8        6  \n",
       "1      2       5           4       10  \n",
       "2      8       3           7        3  \n",
       "3      8       3           3        8  \n",
       "4      3       1           1        1  \n",
       "5      3       2           2        3  \n",
       "6      5       3           8        3  \n",
       "7     10       7           8        5  \n",
       "8      1       9           9        5  "
      ]
     },
     "execution_count": 4,
     "metadata": {},
     "output_type": "execute_result"
    }
   ],
   "source": [
    "hypothesis.head(10)"
   ]
  },
  {
   "cell_type": "code",
   "execution_count": 5,
   "id": "4bb19e3b",
   "metadata": {},
   "outputs": [
    {
     "name": "stdout",
     "output_type": "stream",
     "text": [
      "<class 'pandas.core.frame.DataFrame'>\n",
      "RangeIndex: 9 entries, 0 to 8\n",
      "Data columns (total 5 columns):\n",
      " #   Column      Non-Null Count  Dtype \n",
      "---  ------      --------------  ----- \n",
      " 0   Hypothesis  9 non-null      object\n",
      " 1   Reach       9 non-null      int64 \n",
      " 2   Impact      9 non-null      int64 \n",
      " 3   Confidence  9 non-null      int64 \n",
      " 4   Efforts     9 non-null      int64 \n",
      "dtypes: int64(4), object(1)\n",
      "memory usage: 488.0+ bytes\n"
     ]
    }
   ],
   "source": [
    "hypothesis.info()"
   ]
  },
  {
   "cell_type": "code",
   "execution_count": 6,
   "id": "a0fc8a22",
   "metadata": {},
   "outputs": [],
   "source": [
    "# Поправим регистр\n",
    "hypothesis.columns= hypothesis.columns.str.lower()"
   ]
  },
  {
   "cell_type": "markdown",
   "id": "566218c2",
   "metadata": {},
   "source": [
    "#### 1.1 Применим фреймворк ICE для приоритизации гипотез. Отсортируем их по убыванию приоритета."
   ]
  },
  {
   "cell_type": "code",
   "execution_count": 7,
   "id": "a3686575",
   "metadata": {},
   "outputs": [
    {
     "data": {
      "text/html": [
       "<div>\n",
       "<style scoped>\n",
       "    .dataframe tbody tr th:only-of-type {\n",
       "        vertical-align: middle;\n",
       "    }\n",
       "\n",
       "    .dataframe tbody tr th {\n",
       "        vertical-align: top;\n",
       "    }\n",
       "\n",
       "    .dataframe thead th {\n",
       "        text-align: right;\n",
       "    }\n",
       "</style>\n",
       "<table border=\"1\" class=\"dataframe\">\n",
       "  <thead>\n",
       "    <tr style=\"text-align: right;\">\n",
       "      <th></th>\n",
       "      <th>hypothesis</th>\n",
       "      <th>ICE</th>\n",
       "    </tr>\n",
       "  </thead>\n",
       "  <tbody>\n",
       "    <tr>\n",
       "      <th>8</th>\n",
       "      <td>Запустить акцию, дающую скидку на товар в день рождения</td>\n",
       "      <td>16.2</td>\n",
       "    </tr>\n",
       "    <tr>\n",
       "      <th>0</th>\n",
       "      <td>Добавить два новых канала привлечения трафика, что позволит привлекать на 30% больше пользователей</td>\n",
       "      <td>13.3</td>\n",
       "    </tr>\n",
       "    <tr>\n",
       "      <th>7</th>\n",
       "      <td>Добавить форму подписки на все основные страницы, чтобы собрать базу клиентов для email-рассылок</td>\n",
       "      <td>11.2</td>\n",
       "    </tr>\n",
       "    <tr>\n",
       "      <th>6</th>\n",
       "      <td>Показать на главной странице баннеры с актуальными акциями и распродажами, чтобы увеличить конверсию</td>\n",
       "      <td>8.0</td>\n",
       "    </tr>\n",
       "    <tr>\n",
       "      <th>2</th>\n",
       "      <td>Добавить блоки рекомендаций товаров на сайт интернет магазина, чтобы повысить конверсию и средний чек заказа</td>\n",
       "      <td>7.0</td>\n",
       "    </tr>\n",
       "    <tr>\n",
       "      <th>1</th>\n",
       "      <td>Запустить собственную службу доставки, что сократит срок доставки заказов</td>\n",
       "      <td>2.0</td>\n",
       "    </tr>\n",
       "    <tr>\n",
       "      <th>5</th>\n",
       "      <td>Добавить страницу отзывов клиентов о магазине, что позволит увеличить количество заказов</td>\n",
       "      <td>1.3</td>\n",
       "    </tr>\n",
       "    <tr>\n",
       "      <th>3</th>\n",
       "      <td>Изменить структура категорий, что увеличит конверсию, т.к. пользователи быстрее найдут нужный товар</td>\n",
       "      <td>1.1</td>\n",
       "    </tr>\n",
       "    <tr>\n",
       "      <th>4</th>\n",
       "      <td>Изменить цвет фона главной страницы, чтобы увеличить вовлеченность пользователей</td>\n",
       "      <td>1.0</td>\n",
       "    </tr>\n",
       "  </tbody>\n",
       "</table>\n",
       "</div>"
      ],
      "text/plain": [
       "                                                                                                     hypothesis  \\\n",
       "8                                                       Запустить акцию, дающую скидку на товар в день рождения   \n",
       "0            Добавить два новых канала привлечения трафика, что позволит привлекать на 30% больше пользователей   \n",
       "7              Добавить форму подписки на все основные страницы, чтобы собрать базу клиентов для email-рассылок   \n",
       "6          Показать на главной странице баннеры с актуальными акциями и распродажами, чтобы увеличить конверсию   \n",
       "2  Добавить блоки рекомендаций товаров на сайт интернет магазина, чтобы повысить конверсию и средний чек заказа   \n",
       "1                                     Запустить собственную службу доставки, что сократит срок доставки заказов   \n",
       "5                      Добавить страницу отзывов клиентов о магазине, что позволит увеличить количество заказов   \n",
       "3           Изменить структура категорий, что увеличит конверсию, т.к. пользователи быстрее найдут нужный товар   \n",
       "4                              Изменить цвет фона главной страницы, чтобы увеличить вовлеченность пользователей   \n",
       "\n",
       "    ICE  \n",
       "8  16.2  \n",
       "0  13.3  \n",
       "7  11.2  \n",
       "6   8.0  \n",
       "2   7.0  \n",
       "1   2.0  \n",
       "5   1.3  \n",
       "3   1.1  \n",
       "4   1.0  "
      ]
     },
     "execution_count": 7,
     "metadata": {},
     "output_type": "execute_result"
    }
   ],
   "source": [
    "hypothesis['ICE'] = round(hypothesis['impact'] * hypothesis['confidence'] / hypothesis['efforts'], 1)\n",
    "hypothesis[['hypothesis', 'ICE']].sort_values(by='ICE', ascending=False)"
   ]
  },
  {
   "cell_type": "markdown",
   "id": "af89f6a4",
   "metadata": {},
   "source": [
    "#### 1.2 Применим фреймворк RICE для приоритизации гипотез. Отсортируем их по убыванию приоритета."
   ]
  },
  {
   "cell_type": "code",
   "execution_count": 8,
   "id": "f56f474f",
   "metadata": {},
   "outputs": [
    {
     "data": {
      "text/html": [
       "<div>\n",
       "<style scoped>\n",
       "    .dataframe tbody tr th:only-of-type {\n",
       "        vertical-align: middle;\n",
       "    }\n",
       "\n",
       "    .dataframe tbody tr th {\n",
       "        vertical-align: top;\n",
       "    }\n",
       "\n",
       "    .dataframe thead th {\n",
       "        text-align: right;\n",
       "    }\n",
       "</style>\n",
       "<table border=\"1\" class=\"dataframe\">\n",
       "  <thead>\n",
       "    <tr style=\"text-align: right;\">\n",
       "      <th></th>\n",
       "      <th>hypothesis</th>\n",
       "      <th>RICE</th>\n",
       "    </tr>\n",
       "  </thead>\n",
       "  <tbody>\n",
       "    <tr>\n",
       "      <th>7</th>\n",
       "      <td>Добавить форму подписки на все основные страницы, чтобы собрать базу клиентов для email-рассылок</td>\n",
       "      <td>112.0</td>\n",
       "    </tr>\n",
       "    <tr>\n",
       "      <th>2</th>\n",
       "      <td>Добавить блоки рекомендаций товаров на сайт интернет магазина, чтобы повысить конверсию и средний чек заказа</td>\n",
       "      <td>56.0</td>\n",
       "    </tr>\n",
       "    <tr>\n",
       "      <th>0</th>\n",
       "      <td>Добавить два новых канала привлечения трафика, что позволит привлекать на 30% больше пользователей</td>\n",
       "      <td>40.0</td>\n",
       "    </tr>\n",
       "    <tr>\n",
       "      <th>6</th>\n",
       "      <td>Показать на главной странице баннеры с актуальными акциями и распродажами, чтобы увеличить конверсию</td>\n",
       "      <td>40.0</td>\n",
       "    </tr>\n",
       "    <tr>\n",
       "      <th>8</th>\n",
       "      <td>Запустить акцию, дающую скидку на товар в день рождения</td>\n",
       "      <td>16.2</td>\n",
       "    </tr>\n",
       "    <tr>\n",
       "      <th>3</th>\n",
       "      <td>Изменить структура категорий, что увеличит конверсию, т.к. пользователи быстрее найдут нужный товар</td>\n",
       "      <td>9.0</td>\n",
       "    </tr>\n",
       "    <tr>\n",
       "      <th>1</th>\n",
       "      <td>Запустить собственную службу доставки, что сократит срок доставки заказов</td>\n",
       "      <td>4.0</td>\n",
       "    </tr>\n",
       "    <tr>\n",
       "      <th>5</th>\n",
       "      <td>Добавить страницу отзывов клиентов о магазине, что позволит увеличить количество заказов</td>\n",
       "      <td>4.0</td>\n",
       "    </tr>\n",
       "    <tr>\n",
       "      <th>4</th>\n",
       "      <td>Изменить цвет фона главной страницы, чтобы увеличить вовлеченность пользователей</td>\n",
       "      <td>3.0</td>\n",
       "    </tr>\n",
       "  </tbody>\n",
       "</table>\n",
       "</div>"
      ],
      "text/plain": [
       "                                                                                                     hypothesis  \\\n",
       "7              Добавить форму подписки на все основные страницы, чтобы собрать базу клиентов для email-рассылок   \n",
       "2  Добавить блоки рекомендаций товаров на сайт интернет магазина, чтобы повысить конверсию и средний чек заказа   \n",
       "0            Добавить два новых канала привлечения трафика, что позволит привлекать на 30% больше пользователей   \n",
       "6          Показать на главной странице баннеры с актуальными акциями и распродажами, чтобы увеличить конверсию   \n",
       "8                                                       Запустить акцию, дающую скидку на товар в день рождения   \n",
       "3           Изменить структура категорий, что увеличит конверсию, т.к. пользователи быстрее найдут нужный товар   \n",
       "1                                     Запустить собственную службу доставки, что сократит срок доставки заказов   \n",
       "5                      Добавить страницу отзывов клиентов о магазине, что позволит увеличить количество заказов   \n",
       "4                              Изменить цвет фона главной страницы, чтобы увеличить вовлеченность пользователей   \n",
       "\n",
       "    RICE  \n",
       "7  112.0  \n",
       "2   56.0  \n",
       "0   40.0  \n",
       "6   40.0  \n",
       "8   16.2  \n",
       "3    9.0  \n",
       "1    4.0  \n",
       "5    4.0  \n",
       "4    3.0  "
      ]
     },
     "execution_count": 8,
     "metadata": {},
     "output_type": "execute_result"
    }
   ],
   "source": [
    "hypothesis['RICE'] = round(hypothesis['reach'] * hypothesis['impact'] *\n",
    "                      hypothesis['confidence'] / hypothesis['efforts'], 1)\n",
    "hypothesis[['hypothesis', 'RICE']].sort_values(by='RICE', ascending=False)"
   ]
  },
  {
   "cell_type": "markdown",
   "id": "fce6df8d",
   "metadata": {},
   "source": [
    "#### 1.2 Выясним, как изменилась приоритизация гипотез при применении RICE вместо ICE."
   ]
  },
  {
   "cell_type": "markdown",
   "id": "99a29894",
   "metadata": {},
   "source": [
    "Наиболее эффективные гипотезы по фреймфорку ICE с индексом: 8, 0, 7, 6.\n",
    "Наиболее эффективные гипотезы по фреймворку RICE с индексом: 7, 2, 0, 6. \n",
    "\n",
    "Гипотеза 8 с низким показателем Reach ушла с первого места, уступив гипотизе 7 c высоким Reach."
   ]
  },
  {
   "cell_type": "markdown",
   "id": "b2ae3af4",
   "metadata": {},
   "source": [
    "### Часть 2. Анализ A/B-теста"
   ]
  },
  {
   "cell_type": "markdown",
   "id": "7e5e2262",
   "metadata": {},
   "source": [
    "**Таблица orders**"
   ]
  },
  {
   "cell_type": "code",
   "execution_count": 9,
   "id": "5972f9e3",
   "metadata": {},
   "outputs": [
    {
     "data": {
      "text/html": [
       "<div>\n",
       "<style scoped>\n",
       "    .dataframe tbody tr th:only-of-type {\n",
       "        vertical-align: middle;\n",
       "    }\n",
       "\n",
       "    .dataframe tbody tr th {\n",
       "        vertical-align: top;\n",
       "    }\n",
       "\n",
       "    .dataframe thead th {\n",
       "        text-align: right;\n",
       "    }\n",
       "</style>\n",
       "<table border=\"1\" class=\"dataframe\">\n",
       "  <thead>\n",
       "    <tr style=\"text-align: right;\">\n",
       "      <th></th>\n",
       "      <th>transactionId</th>\n",
       "      <th>visitorId</th>\n",
       "      <th>date</th>\n",
       "      <th>revenue</th>\n",
       "      <th>group</th>\n",
       "    </tr>\n",
       "  </thead>\n",
       "  <tbody>\n",
       "    <tr>\n",
       "      <th>0</th>\n",
       "      <td>3667963787</td>\n",
       "      <td>3312258926</td>\n",
       "      <td>2019-08-15</td>\n",
       "      <td>1650</td>\n",
       "      <td>B</td>\n",
       "    </tr>\n",
       "    <tr>\n",
       "      <th>1</th>\n",
       "      <td>2804400009</td>\n",
       "      <td>3642806036</td>\n",
       "      <td>2019-08-15</td>\n",
       "      <td>730</td>\n",
       "      <td>B</td>\n",
       "    </tr>\n",
       "    <tr>\n",
       "      <th>2</th>\n",
       "      <td>2961555356</td>\n",
       "      <td>4069496402</td>\n",
       "      <td>2019-08-15</td>\n",
       "      <td>400</td>\n",
       "      <td>A</td>\n",
       "    </tr>\n",
       "    <tr>\n",
       "      <th>3</th>\n",
       "      <td>3797467345</td>\n",
       "      <td>1196621759</td>\n",
       "      <td>2019-08-15</td>\n",
       "      <td>9759</td>\n",
       "      <td>B</td>\n",
       "    </tr>\n",
       "    <tr>\n",
       "      <th>4</th>\n",
       "      <td>2282983706</td>\n",
       "      <td>2322279887</td>\n",
       "      <td>2019-08-15</td>\n",
       "      <td>2308</td>\n",
       "      <td>B</td>\n",
       "    </tr>\n",
       "  </tbody>\n",
       "</table>\n",
       "</div>"
      ],
      "text/plain": [
       "   transactionId   visitorId        date  revenue group\n",
       "0     3667963787  3312258926  2019-08-15     1650     B\n",
       "1     2804400009  3642806036  2019-08-15      730     B\n",
       "2     2961555356  4069496402  2019-08-15      400     A\n",
       "3     3797467345  1196621759  2019-08-15     9759     B\n",
       "4     2282983706  2322279887  2019-08-15     2308     B"
      ]
     },
     "execution_count": 9,
     "metadata": {},
     "output_type": "execute_result"
    }
   ],
   "source": [
    "orders.head()"
   ]
  },
  {
   "cell_type": "code",
   "execution_count": 10,
   "id": "39599ec9",
   "metadata": {},
   "outputs": [
    {
     "name": "stdout",
     "output_type": "stream",
     "text": [
      "<class 'pandas.core.frame.DataFrame'>\n",
      "RangeIndex: 1197 entries, 0 to 1196\n",
      "Data columns (total 5 columns):\n",
      " #   Column         Non-Null Count  Dtype \n",
      "---  ------         --------------  ----- \n",
      " 0   transactionId  1197 non-null   int64 \n",
      " 1   visitorId      1197 non-null   int64 \n",
      " 2   date           1197 non-null   object\n",
      " 3   revenue        1197 non-null   int64 \n",
      " 4   group          1197 non-null   object\n",
      "dtypes: int64(3), object(2)\n",
      "memory usage: 46.9+ KB\n"
     ]
    }
   ],
   "source": [
    "orders.info()"
   ]
  },
  {
   "cell_type": "code",
   "execution_count": 11,
   "id": "161b3c98",
   "metadata": {},
   "outputs": [],
   "source": [
    "# приведем к формату даты\n",
    "orders['date'] = pd.to_datetime(orders['date'], format='%Y-%m-%d')"
   ]
  },
  {
   "cell_type": "code",
   "execution_count": 12,
   "id": "b4fcf125",
   "metadata": {},
   "outputs": [
    {
     "data": {
      "text/plain": [
       "0"
      ]
     },
     "execution_count": 12,
     "metadata": {},
     "output_type": "execute_result"
    }
   ],
   "source": [
    "# проверим количество дубликатов\n",
    "orders.duplicated().sum()"
   ]
  },
  {
   "cell_type": "markdown",
   "id": "85fed34c",
   "metadata": {},
   "source": [
    "Проверим принадлежность пользователей к сразу двум группам."
   ]
  },
  {
   "cell_type": "code",
   "execution_count": 13,
   "id": "d4038030",
   "metadata": {},
   "outputs": [],
   "source": [
    "# через множества\n",
    "#a_visitors = set(orders['visitorId'].loc[orders['group'] == 'A'])\n",
    "#b_visitors = set(orders['visitorId'].loc[orders['group'] == 'B'])\n",
    "#len(a_visitors.intersection(b_visitors))"
   ]
  },
  {
   "cell_type": "code",
   "execution_count": 14,
   "id": "86bab34b",
   "metadata": {},
   "outputs": [
    {
     "data": {
      "text/plain": [
       "58"
      ]
     },
     "execution_count": 14,
     "metadata": {},
     "output_type": "execute_result"
    }
   ],
   "source": [
    "# через pandas\n",
    "a_visitors = orders['visitorId'].loc[orders['group'] == 'A']\n",
    "orders['visitorId'].loc[(orders['group'] == 'B') & (orders['visitorId'].isin(a_visitors))].nunique()"
   ]
  },
  {
   "cell_type": "markdown",
   "id": "45fb3fb6",
   "metadata": {},
   "source": [
    "58 пользователей попали одновременно 2 две группы. \n",
    "\n",
    "Мы не знаем наверняка было ли на них какое-то воздействие или нет. В данной задаче мы предполагаем, что разбиение на группы было проведено корректно и, оставив всех пользователей в тестовой группе, продолжим исследование."
   ]
  },
  {
   "cell_type": "markdown",
   "id": "68c98242",
   "metadata": {},
   "source": [
    "**Таблица visitors**"
   ]
  },
  {
   "cell_type": "code",
   "execution_count": 15,
   "id": "a7d098f0",
   "metadata": {},
   "outputs": [
    {
     "data": {
      "text/html": [
       "<div>\n",
       "<style scoped>\n",
       "    .dataframe tbody tr th:only-of-type {\n",
       "        vertical-align: middle;\n",
       "    }\n",
       "\n",
       "    .dataframe tbody tr th {\n",
       "        vertical-align: top;\n",
       "    }\n",
       "\n",
       "    .dataframe thead th {\n",
       "        text-align: right;\n",
       "    }\n",
       "</style>\n",
       "<table border=\"1\" class=\"dataframe\">\n",
       "  <thead>\n",
       "    <tr style=\"text-align: right;\">\n",
       "      <th></th>\n",
       "      <th>date</th>\n",
       "      <th>group</th>\n",
       "      <th>visitors</th>\n",
       "    </tr>\n",
       "  </thead>\n",
       "  <tbody>\n",
       "    <tr>\n",
       "      <th>0</th>\n",
       "      <td>2019-08-01</td>\n",
       "      <td>A</td>\n",
       "      <td>719</td>\n",
       "    </tr>\n",
       "    <tr>\n",
       "      <th>1</th>\n",
       "      <td>2019-08-02</td>\n",
       "      <td>A</td>\n",
       "      <td>619</td>\n",
       "    </tr>\n",
       "    <tr>\n",
       "      <th>2</th>\n",
       "      <td>2019-08-03</td>\n",
       "      <td>A</td>\n",
       "      <td>507</td>\n",
       "    </tr>\n",
       "    <tr>\n",
       "      <th>3</th>\n",
       "      <td>2019-08-04</td>\n",
       "      <td>A</td>\n",
       "      <td>717</td>\n",
       "    </tr>\n",
       "    <tr>\n",
       "      <th>4</th>\n",
       "      <td>2019-08-05</td>\n",
       "      <td>A</td>\n",
       "      <td>756</td>\n",
       "    </tr>\n",
       "  </tbody>\n",
       "</table>\n",
       "</div>"
      ],
      "text/plain": [
       "         date group  visitors\n",
       "0  2019-08-01     A       719\n",
       "1  2019-08-02     A       619\n",
       "2  2019-08-03     A       507\n",
       "3  2019-08-04     A       717\n",
       "4  2019-08-05     A       756"
      ]
     },
     "execution_count": 15,
     "metadata": {},
     "output_type": "execute_result"
    }
   ],
   "source": [
    "visitors.head()"
   ]
  },
  {
   "cell_type": "code",
   "execution_count": 16,
   "id": "eeddde87",
   "metadata": {},
   "outputs": [
    {
     "name": "stdout",
     "output_type": "stream",
     "text": [
      "<class 'pandas.core.frame.DataFrame'>\n",
      "RangeIndex: 62 entries, 0 to 61\n",
      "Data columns (total 3 columns):\n",
      " #   Column    Non-Null Count  Dtype \n",
      "---  ------    --------------  ----- \n",
      " 0   date      62 non-null     object\n",
      " 1   group     62 non-null     object\n",
      " 2   visitors  62 non-null     int64 \n",
      "dtypes: int64(1), object(2)\n",
      "memory usage: 1.6+ KB\n"
     ]
    }
   ],
   "source": [
    "visitors.info()"
   ]
  },
  {
   "cell_type": "code",
   "execution_count": 17,
   "id": "897cf88a",
   "metadata": {},
   "outputs": [],
   "source": [
    "# приведем к формату даты\n",
    "visitors['date'] = pd.to_datetime(visitors['date'], format='%Y-%m-%d')"
   ]
  },
  {
   "cell_type": "code",
   "execution_count": 18,
   "id": "765024f7",
   "metadata": {},
   "outputs": [
    {
     "data": {
      "text/plain": [
       "0"
      ]
     },
     "execution_count": 18,
     "metadata": {},
     "output_type": "execute_result"
    }
   ],
   "source": [
    "# проверим количество дубликатов\n",
    "visitors.duplicated().sum()"
   ]
  },
  {
   "cell_type": "markdown",
   "id": "f8cdc936",
   "metadata": {},
   "source": [
    "#### 2.1 Построим график кумулятивной выручки по группам."
   ]
  },
  {
   "cell_type": "code",
   "execution_count": 19,
   "id": "8101cab1",
   "metadata": {},
   "outputs": [],
   "source": [
    "# создаем массив уникальных пар значений дат и групп теста\n",
    "datesGroups = orders[['date','group']].drop_duplicates()"
   ]
  },
  {
   "cell_type": "code",
   "execution_count": 20,
   "id": "04faf4b7",
   "metadata": {},
   "outputs": [],
   "source": [
    "# получаем агрегированные кумулятивные по дням данные о заказах \n",
    "ordersAggregated = datesGroups.apply(lambda x: orders[np.logical_and(orders['date'] <= x['date'], \n",
    "                                                                     orders['group'] == x['group'])]\\\n",
    "                                     .agg({'date' : 'max', \n",
    "                                           'group' : 'max', \n",
    "                                           'transactionId' : pd.Series.nunique, \n",
    "                                           'visitorId' : pd.Series.nunique, \n",
    "                                           'revenue' : 'sum'}), axis=1).sort_values(by=['date','group'])"
   ]
  },
  {
   "cell_type": "code",
   "execution_count": 21,
   "id": "a0b501e8",
   "metadata": {},
   "outputs": [],
   "source": [
    "# получаем агрегированные кумулятивные по дням данные о посетителях интернет-магазина \n",
    "visitorsAggregated = (datesGroups.apply(lambda x: visitors[np.logical_and(visitors['date'] <= x['date'], \n",
    "                                                                         visitors['group'] == x['group'])]\n",
    "                                       .agg({'date' : 'max', 'group' : 'max', 'visitors' : 'sum'}), axis=1)\n",
    "                                       .sort_values(by=['date','group']))"
   ]
  },
  {
   "cell_type": "code",
   "execution_count": 22,
   "id": "be820d05",
   "metadata": {},
   "outputs": [
    {
     "data": {
      "text/html": [
       "<div>\n",
       "<style scoped>\n",
       "    .dataframe tbody tr th:only-of-type {\n",
       "        vertical-align: middle;\n",
       "    }\n",
       "\n",
       "    .dataframe tbody tr th {\n",
       "        vertical-align: top;\n",
       "    }\n",
       "\n",
       "    .dataframe thead th {\n",
       "        text-align: right;\n",
       "    }\n",
       "</style>\n",
       "<table border=\"1\" class=\"dataframe\">\n",
       "  <thead>\n",
       "    <tr style=\"text-align: right;\">\n",
       "      <th></th>\n",
       "      <th>date</th>\n",
       "      <th>group</th>\n",
       "      <th>orders</th>\n",
       "      <th>buyers</th>\n",
       "      <th>revenue</th>\n",
       "      <th>visitors</th>\n",
       "    </tr>\n",
       "  </thead>\n",
       "  <tbody>\n",
       "    <tr>\n",
       "      <th>0</th>\n",
       "      <td>2019-08-01</td>\n",
       "      <td>A</td>\n",
       "      <td>24</td>\n",
       "      <td>20</td>\n",
       "      <td>148579</td>\n",
       "      <td>719</td>\n",
       "    </tr>\n",
       "    <tr>\n",
       "      <th>1</th>\n",
       "      <td>2019-08-01</td>\n",
       "      <td>B</td>\n",
       "      <td>21</td>\n",
       "      <td>20</td>\n",
       "      <td>101217</td>\n",
       "      <td>713</td>\n",
       "    </tr>\n",
       "    <tr>\n",
       "      <th>2</th>\n",
       "      <td>2019-08-02</td>\n",
       "      <td>A</td>\n",
       "      <td>44</td>\n",
       "      <td>38</td>\n",
       "      <td>242401</td>\n",
       "      <td>1338</td>\n",
       "    </tr>\n",
       "    <tr>\n",
       "      <th>3</th>\n",
       "      <td>2019-08-02</td>\n",
       "      <td>B</td>\n",
       "      <td>45</td>\n",
       "      <td>43</td>\n",
       "      <td>266748</td>\n",
       "      <td>1294</td>\n",
       "    </tr>\n",
       "    <tr>\n",
       "      <th>4</th>\n",
       "      <td>2019-08-03</td>\n",
       "      <td>A</td>\n",
       "      <td>68</td>\n",
       "      <td>62</td>\n",
       "      <td>354874</td>\n",
       "      <td>1845</td>\n",
       "    </tr>\n",
       "  </tbody>\n",
       "</table>\n",
       "</div>"
      ],
      "text/plain": [
       "        date group  orders  buyers  revenue  visitors\n",
       "0 2019-08-01     A      24      20   148579       719\n",
       "1 2019-08-01     B      21      20   101217       713\n",
       "2 2019-08-02     A      44      38   242401      1338\n",
       "3 2019-08-02     B      45      43   266748      1294\n",
       "4 2019-08-03     A      68      62   354874      1845"
      ]
     },
     "execution_count": 22,
     "metadata": {},
     "output_type": "execute_result"
    }
   ],
   "source": [
    "# определим переменную cumulativeData\n",
    "cumulativeData = ordersAggregated.merge(visitorsAggregated, left_on=['date', 'group'], right_on=['date', 'group'])\n",
    "cumulativeData.columns = ['date', 'group', 'orders', 'buyers', 'revenue', 'visitors']\n",
    "cumulativeData.head(5)"
   ]
  },
  {
   "cell_type": "code",
   "execution_count": 23,
   "id": "cba7b676",
   "metadata": {
    "scrolled": false
   },
   "outputs": [
    {
     "data": {
      "image/png": "[encoded data removed]",
      "text/plain": [
       "<Figure size 1296x432 with 1 Axes>"
      ]
     },
     "metadata": {
      "needs_background": "light"
     },
     "output_type": "display_data"
    }
   ],
   "source": [
    "# датафрейм с кумулятивным количеством заказов и кумулятивной выручкой по дням в группе А\n",
    "cumulativeRevenueA = cumulativeData[cumulativeData['group']=='A'][['date','revenue', 'orders']]\n",
    "\n",
    "# датафрейм с кумулятивным количеством заказов и кумулятивной выручкой по дням в группе B\n",
    "cumulativeRevenueB = cumulativeData[cumulativeData['group']=='B'][['date','revenue', 'orders']]\n",
    "\n",
    "# строим графики\n",
    "plt.figure(figsize=(18,6))\n",
    "# строим график выручки группы А\n",
    "plt.plot(cumulativeRevenueA['date'], cumulativeRevenueA['revenue'], label='A')\n",
    "\n",
    "# строим график выручки группы B\n",
    "plt.plot(cumulativeRevenueB['date'], cumulativeRevenueB['revenue'], label='B')\n",
    "\n",
    "plt.xticks(rotation=45)\n",
    "plt.legend()\n",
    "plt.xlabel('Дата', size = 14)\n",
    "plt.ylabel('Выручка', size = 14)\n",
    "plt.title('График кумулятивной выручки по группам', size = 14)\n",
    "plt.show()"
   ]
  },
  {
   "cell_type": "markdown",
   "id": "9b4ea53f",
   "metadata": {},
   "source": [
    "**Вывод:**  \n",
    "Выручка для обеих групп увеличивается в течение всего теста. Наблюдаем вплеск в выборке В на 18.08.2019."
   ]
  },
  {
   "cell_type": "markdown",
   "id": "0db8c2b8",
   "metadata": {},
   "source": [
    "#### 2.2 Построим график кумулятивного среднего чека по группам."
   ]
  },
  {
   "cell_type": "code",
   "execution_count": 24,
   "id": "1b5fb692",
   "metadata": {},
   "outputs": [
    {
     "data": {
      "image/png": "[encoded data removed]",
      "text/plain": [
       "<Figure size 1296x432 with 1 Axes>"
      ]
     },
     "metadata": {
      "needs_background": "light"
     },
     "output_type": "display_data"
    }
   ],
   "source": [
    "cumulativeRevenueA = cumulativeData[cumulativeData['group'] == 'A'][['date', 'revenue', 'orders']]\n",
    "cumulativeRevenueB = cumulativeData[cumulativeData['group'] == 'B'][['date', 'revenue', 'orders']]\n",
    "\n",
    "plt.figure(figsize=(18,6))\n",
    "\n",
    "plt.plot(cumulativeRevenueA['date'], cumulativeRevenueA['revenue']/cumulativeRevenueA['orders'], label='A')\n",
    "plt.plot(cumulativeRevenueB['date'], cumulativeRevenueB['revenue']/cumulativeRevenueB['orders'], label='B')\n",
    "plt.xticks(rotation=45)\n",
    "plt.legend()\n",
    "plt.xlabel('Дата', size=14)\n",
    "plt.ylabel('Средний чек', size=14)\n",
    "plt.title('График кумулятивного среднего чека по группам', size=14)\n",
    "plt.show()"
   ]
  },
  {
   "cell_type": "markdown",
   "id": "992e2f7b",
   "metadata": {},
   "source": [
    "**Вывод:**   \n",
    "Также наблюдаем  вплеск в выборке B на 2019-08-18. После чего идет небольшое снижение и выравнивание."
   ]
  },
  {
   "cell_type": "markdown",
   "id": "f18073cf",
   "metadata": {},
   "source": [
    "#### 2.3 Построим график относительного изменения кумулятивного среднего чека группы B к группе A. "
   ]
  },
  {
   "cell_type": "code",
   "execution_count": 25,
   "id": "2a699b0e",
   "metadata": {},
   "outputs": [
    {
     "data": {
      "image/png": "[encoded data removed]",
      "text/plain": [
       "<Figure size 1296x432 with 1 Axes>"
      ]
     },
     "metadata": {
      "needs_background": "light"
     },
     "output_type": "display_data"
    }
   ],
   "source": [
    "# собираем данные в одном датафрейме\n",
    "mergedCumulativeRevenue = cumulativeRevenueA.merge(cumulativeRevenueB, left_on='date', \n",
    "                                                   right_on='date', how='left', suffixes=['A', 'B'])\n",
    "\n",
    "# cтроим отношение средних чеков\n",
    "plt.figure(figsize=(18,6))\n",
    "plt.plot(mergedCumulativeRevenue['date'], (mergedCumulativeRevenue['revenueB']/\n",
    "                                           mergedCumulativeRevenue['ordersB'])/(mergedCumulativeRevenue['revenueA']/mergedCumulativeRevenue['ordersA'])-1)\n",
    "\n",
    "# добавляем ось X\n",
    "plt.axhline(y=0, color='black', linestyle='--')\n",
    "plt.xticks(rotation=45)\n",
    "plt.xlabel('Дата', size=14)\n",
    "plt.ylabel('Относительное изменение среднего чека', size=14)\n",
    "plt.title('График относительного изменения кумулятивного среднего чека группы B к группе A', size=14)\n",
    "\n",
    "plt.show()"
   ]
  },
  {
   "cell_type": "markdown",
   "id": "668ea0e2",
   "metadata": {},
   "source": [
    "**Вывод:**  \n",
    "Наблюдаем частые скачки графика. В эти даты скорее всего были совершены очень большие заказы."
   ]
  },
  {
   "cell_type": "markdown",
   "id": "24112c90",
   "metadata": {},
   "source": [
    "#### 2.4 Построим график кумулятивного среднего количества заказов (конверсию) по группам. "
   ]
  },
  {
   "cell_type": "code",
   "execution_count": 26,
   "id": "6e88f657",
   "metadata": {},
   "outputs": [
    {
     "data": {
      "image/png": "[encoded data removed]",
      "text/plain": [
       "<Figure size 1296x432 with 1 Axes>"
      ]
     },
     "metadata": {
      "needs_background": "light"
     },
     "output_type": "display_data"
    }
   ],
   "source": [
    "# считаем кумулятивную конверсию\n",
    "cumulativeData['conversion'] = cumulativeData['orders']/cumulativeData['visitors']\n",
    "\n",
    "# отделяем данные по группе A\n",
    "cumulativeDataA = cumulativeData[cumulativeData['group']=='A']\n",
    "\n",
    "# отделяем данные по группе B\n",
    "cumulativeDataB = cumulativeData[cumulativeData['group']=='B']\n",
    "\n",
    "# строим графики\n",
    "plt.figure(figsize=(18,6))\n",
    "plt.plot(cumulativeDataA['date'], cumulativeDataA['conversion'], label='A')\n",
    "plt.plot(cumulativeDataB['date'], cumulativeDataB['conversion'], label='B')\n",
    "plt.legend()\n",
    "plt.xticks(rotation=45)\n",
    "plt.xlabel('Дата', size=14)\n",
    "plt.ylabel('Конверсия', size=14)\n",
    "plt.title('График кумулятивной конверсии по группам', size=14)\n",
    "plt.show()\n"
   ]
  },
  {
   "cell_type": "markdown",
   "id": "80c724f3",
   "metadata": {},
   "source": [
    "**Вывод:**  \n",
    "Конверсия группы В находится выше А. Но в самом начале аблюдений группа А была выше по конверсии, но затем она упала."
   ]
  },
  {
   "cell_type": "markdown",
   "id": "31ed51ee",
   "metadata": {},
   "source": [
    "#### 2.5 Построим график относительного изменения кумулятивного среднего количества заказов  (конверсии) группы B к группе A"
   ]
  },
  {
   "cell_type": "code",
   "execution_count": 27,
   "id": "f672e34d",
   "metadata": {},
   "outputs": [
    {
     "data": {
      "image/png": "[encoded data removed]",
      "text/plain": [
       "<Figure size 1296x432 with 1 Axes>"
      ]
     },
     "metadata": {
      "needs_background": "light"
     },
     "output_type": "display_data"
    }
   ],
   "source": [
    "mergedCumulativeConversions = cumulativeDataA[['date','conversion']].merge(cumulativeDataB[['date','conversion']], left_on='date', right_on='date', how='left', suffixes=['A', 'B'])\n",
    "\n",
    "plt.figure(figsize=(18,6))\n",
    "plt.plot(mergedCumulativeConversions['date'], mergedCumulativeConversions['conversionB']/mergedCumulativeConversions['conversionA']-1, label=\"Относительный прирост конверсии группы B относительно группы A\")\n",
    "plt.legend()\n",
    "plt.xticks(rotation=45)\n",
    "plt.xlabel('Дата', size=14)\n",
    "plt.ylabel('Относительное изменение коверсии', size=14)\n",
    "plt.title('График относительного изменения кумулятивной конверсии группы B к группе A', size=14)\n",
    "plt.axhline(y=0, color='black', linestyle='--')\n",
    "#plt.axhline(y= 0.2, color='grey', linestyle='--')\n",
    "plt.show()"
   ]
  },
  {
   "cell_type": "markdown",
   "id": "248e0ab2",
   "metadata": {},
   "source": [
    "**Вывод:**  \n",
    "Группа B растет больше чем группа А."
   ]
  },
  {
   "cell_type": "markdown",
   "id": "79649648",
   "metadata": {},
   "source": [
    "#### 2.6 Построим точечный график количества заказов по пользователям."
   ]
  },
  {
   "cell_type": "code",
   "execution_count": 28,
   "id": "abb34f35",
   "metadata": {},
   "outputs": [
    {
     "data": {
      "text/html": [
       "<div>\n",
       "<style scoped>\n",
       "    .dataframe tbody tr th:only-of-type {\n",
       "        vertical-align: middle;\n",
       "    }\n",
       "\n",
       "    .dataframe tbody tr th {\n",
       "        vertical-align: top;\n",
       "    }\n",
       "\n",
       "    .dataframe thead th {\n",
       "        text-align: right;\n",
       "    }\n",
       "</style>\n",
       "<table border=\"1\" class=\"dataframe\">\n",
       "  <thead>\n",
       "    <tr style=\"text-align: right;\">\n",
       "      <th></th>\n",
       "      <th>visitorId</th>\n",
       "      <th>orders</th>\n",
       "    </tr>\n",
       "  </thead>\n",
       "  <tbody>\n",
       "    <tr>\n",
       "      <th>1023</th>\n",
       "      <td>4256040402</td>\n",
       "      <td>11</td>\n",
       "    </tr>\n",
       "    <tr>\n",
       "      <th>591</th>\n",
       "      <td>2458001652</td>\n",
       "      <td>11</td>\n",
       "    </tr>\n",
       "    <tr>\n",
       "      <th>569</th>\n",
       "      <td>2378935119</td>\n",
       "      <td>9</td>\n",
       "    </tr>\n",
       "    <tr>\n",
       "      <th>487</th>\n",
       "      <td>2038680547</td>\n",
       "      <td>8</td>\n",
       "    </tr>\n",
       "    <tr>\n",
       "      <th>44</th>\n",
       "      <td>199603092</td>\n",
       "      <td>5</td>\n",
       "    </tr>\n",
       "    <tr>\n",
       "      <th>744</th>\n",
       "      <td>3062433592</td>\n",
       "      <td>5</td>\n",
       "    </tr>\n",
       "    <tr>\n",
       "      <th>55</th>\n",
       "      <td>237748145</td>\n",
       "      <td>5</td>\n",
       "    </tr>\n",
       "    <tr>\n",
       "      <th>917</th>\n",
       "      <td>3803269165</td>\n",
       "      <td>5</td>\n",
       "    </tr>\n",
       "    <tr>\n",
       "      <th>299</th>\n",
       "      <td>1230306981</td>\n",
       "      <td>5</td>\n",
       "    </tr>\n",
       "    <tr>\n",
       "      <th>897</th>\n",
       "      <td>3717692402</td>\n",
       "      <td>5</td>\n",
       "    </tr>\n",
       "  </tbody>\n",
       "</table>\n",
       "</div>"
      ],
      "text/plain": [
       "       visitorId  orders\n",
       "1023  4256040402      11\n",
       "591   2458001652      11\n",
       "569   2378935119       9\n",
       "487   2038680547       8\n",
       "44     199603092       5\n",
       "744   3062433592       5\n",
       "55     237748145       5\n",
       "917   3803269165       5\n",
       "299   1230306981       5\n",
       "897   3717692402       5"
      ]
     },
     "execution_count": 28,
     "metadata": {},
     "output_type": "execute_result"
    }
   ],
   "source": [
    "ordersByUsers = (orders.groupby('visitorId', as_index=False).agg({'transactionId': 'nunique'}))\n",
    "ordersByUsers.columns = ['visitorId', 'orders']\n",
    "\n",
    "ordersByUsers.sort_values(by='orders', ascending=False).head(10)"
   ]
  },
  {
   "cell_type": "code",
   "execution_count": 29,
   "id": "ac5aa693",
   "metadata": {},
   "outputs": [
    {
     "data": {
      "image/png": "[encoded data removed]",
      "text/plain": [
       "<Figure size 432x288 with 1 Axes>"
      ]
     },
     "metadata": {
      "needs_background": "light"
     },
     "output_type": "display_data"
    }
   ],
   "source": [
    "# серия из чисел от 0 до количества наблюдений в ordersByUsers\n",
    "x_values = pd.Series(range(0, len(ordersByUsers)))\n",
    "plt.scatter(x_values, ordersByUsers['orders'])\n",
    "plt.ylabel('Количество заказов')\n",
    "plt.title('График количества заказов по пользователям')\n",
    "plt.show()"
   ]
  },
  {
   "cell_type": "markdown",
   "id": "c49b7fae",
   "metadata": {},
   "source": [
    "**Вывод:**  \n",
    "Основная концентрация приходится на 1-2 заказа. Выше 4 заказов очень мало."
   ]
  },
  {
   "cell_type": "markdown",
   "id": "e8f81946",
   "metadata": {},
   "source": [
    "#### 2.7 Посчитаем 95-й и 99-й перцентили количества заказов на пользователя."
   ]
  },
  {
   "cell_type": "code",
   "execution_count": 30,
   "id": "78f588bc",
   "metadata": {},
   "outputs": [
    {
     "data": {
      "text/plain": [
       "array([2., 4.])"
      ]
     },
     "execution_count": 30,
     "metadata": {},
     "output_type": "execute_result"
    }
   ],
   "source": [
    "np.percentile(ordersByUsers['orders'], [95, 99])"
   ]
  },
  {
   "cell_type": "markdown",
   "id": "89b9bdaa",
   "metadata": {},
   "source": [
    "**Вывод:**  \n",
    "Не более 5% пользователей совершали больше 2х заказов. Не более 1% пользователей совершали больше 4х заказов. За границу для определения аномальных пользователей можно взять 99-й перцентиль."
   ]
  },
  {
   "cell_type": "markdown",
   "id": "b490af5d",
   "metadata": {},
   "source": [
    "#### 2.8 Построим точечный график стоимостей заказов."
   ]
  },
  {
   "cell_type": "code",
   "execution_count": 31,
   "id": "1164d06b",
   "metadata": {
    "scrolled": true
   },
   "outputs": [
    {
     "data": {
      "text/plain": [
       "Text(0.5, 1.0, 'График стоимости заказов по пользователям')"
      ]
     },
     "execution_count": 31,
     "metadata": {},
     "output_type": "execute_result"
    },
    {
     "data": {
      "image/png": "[encoded data removed]",
      "text/plain": [
       "<Figure size 432x288 with 1 Axes>"
      ]
     },
     "metadata": {
      "needs_background": "light"
     },
     "output_type": "display_data"
    }
   ],
   "source": [
    "x_values = pd.Series(range(0, len(orders['revenue'])))\n",
    "\n",
    "plt.scatter(x_values, orders['revenue'])\n",
    "plt.ylabel('Стоимость заказов')\n",
    "plt.title('График стоимости заказов по пользователям')\n",
    "#plt.axis([0,1200, 0, 80000])"
   ]
  },
  {
   "cell_type": "code",
   "execution_count": 32,
   "id": "0836ad07",
   "metadata": {},
   "outputs": [
    {
     "data": {
      "text/plain": [
       "(0.0, 1200.0, 0.0, 80000.0)"
      ]
     },
     "execution_count": 32,
     "metadata": {},
     "output_type": "execute_result"
    },
    {
     "data": {
      "image/png": "[encoded data removed]",
      "text/plain": [
       "<Figure size 432x288 with 1 Axes>"
      ]
     },
     "metadata": {
      "needs_background": "light"
     },
     "output_type": "display_data"
    }
   ],
   "source": [
    "x_values = pd.Series(range(0, len(orders['revenue'])))\n",
    "\n",
    "plt.scatter(x_values, orders['revenue'])\n",
    "plt.ylabel('Стоимость заказов')\n",
    "plt.title('График стоимости заказов по пользователям')\n",
    "plt.axis([0,1200, 0, 80000])"
   ]
  },
  {
   "cell_type": "markdown",
   "id": "d7408b31",
   "metadata": {},
   "source": [
    "**Вывод:** \n",
    "Наблюдаем 2 выброса.\n"
   ]
  },
  {
   "cell_type": "markdown",
   "id": "002dfd85",
   "metadata": {},
   "source": [
    "#### 2.9 Посчитаем 95-й и 99-й перцентили стоимости заказов."
   ]
  },
  {
   "cell_type": "code",
   "execution_count": 33,
   "id": "4de9fc09",
   "metadata": {},
   "outputs": [
    {
     "data": {
      "text/plain": [
       "array([28000. , 58233.2])"
      ]
     },
     "execution_count": 33,
     "metadata": {},
     "output_type": "execute_result"
    }
   ],
   "source": [
    "np.percentile(orders['revenue'], [95, 99])"
   ]
  },
  {
   "cell_type": "markdown",
   "id": "549d06a3",
   "metadata": {},
   "source": [
    "**Вывод:**  \n",
    "Не более 5% пользователей совершали заказы на более чем 28000 руб. Не более 1% пользователей совершали заказы на более чем 58233 руб. За границу для определения аномальных пользователей можно взять значение между 95 и 99-м перцентилем."
   ]
  },
  {
   "cell_type": "markdown",
   "id": "0a8ddcc7",
   "metadata": {},
   "source": [
    "#### 2.10 Посчитаем статистическую значимость различий в среднем количестве заказов (конверсии) между группами по «сырым» данным. "
   ]
  },
  {
   "cell_type": "markdown",
   "id": "ddf1dcb8",
   "metadata": {},
   "source": [
    "Сформулируем гипотезы.\n",
    "\n",
    "- *Нулевая гипотеза: различий в конверсии между группами нет.*  \n",
    "- *Альтернативная гипотеза: различия в конверсии между группами есть.*\n",
    "\n",
    "Критический уровень статистической значимости p-value = 0,05  \n",
    "Для A/B-тестирования, будем применять критерий Манна-Уитни (st.mannwhitneyu)."
   ]
  },
  {
   "cell_type": "code",
   "execution_count": 34,
   "id": "934e6589",
   "metadata": {},
   "outputs": [],
   "source": [
    "visitorsADaily = visitors[visitors['group'] == 'A'][['date', 'visitors']]\n",
    "visitorsADaily.columns = ['date', 'visitorsPerDateA']\n",
    "\n",
    "visitorsACummulative = visitorsADaily.apply(\n",
    "    lambda x: visitorsADaily[visitorsADaily['date'] <= x['date']].agg(\n",
    "        {'date': 'max', 'visitorsPerDateA': 'sum'}\n",
    "    ),\n",
    "    axis=1,\n",
    ")\n",
    "visitorsACummulative.columns = ['date', 'visitorsCummulativeA']\n",
    "\n",
    "visitorsBDaily = visitors[visitors['group'] == 'B'][['date', 'visitors']]\n",
    "visitorsBDaily.columns = ['date', 'visitorsPerDateB']\n",
    "\n",
    "visitorsBCummulative = visitorsBDaily.apply(\n",
    "    lambda x: visitorsBDaily[visitorsBDaily['date'] <= x['date']].agg(\n",
    "        {'date': 'max', 'visitorsPerDateB': 'sum'}\n",
    "    ),\n",
    "    axis=1,\n",
    ")\n",
    "visitorsBCummulative.columns = ['date', 'visitorsCummulativeB']\n",
    "\n",
    "ordersADaily = (\n",
    "    orders[orders['group'] == 'A'][['date', 'transactionId', 'visitorId', 'revenue']]\n",
    "    .groupby('date', as_index=False)\n",
    "    .agg({'transactionId': pd.Series.nunique, 'revenue': 'sum'})\n",
    ")\n",
    "ordersADaily.columns = ['date', 'ordersPerDateA', 'revenuePerDateA']\n",
    "\n",
    "ordersACummulative = ordersADaily.apply(\n",
    "    lambda x: ordersADaily[ordersADaily['date'] <= x['date']].agg(\n",
    "        {'date': 'max', 'ordersPerDateA': 'sum', 'revenuePerDateA': 'sum'}\n",
    "    ),\n",
    "    axis=1,\n",
    ").sort_values(by=['date'])\n",
    "ordersACummulative.columns = [\n",
    "    'date',\n",
    "    'ordersCummulativeA',\n",
    "    'revenueCummulativeA',\n",
    "]\n",
    "\n",
    "ordersBDaily = (\n",
    "    orders[orders['group'] == 'B'][['date', 'transactionId', 'visitorId', 'revenue']]\n",
    "    .groupby('date', as_index=False)\n",
    "    .agg({'transactionId': pd.Series.nunique, 'revenue': 'sum'})\n",
    ")\n",
    "ordersBDaily.columns = ['date', 'ordersPerDateB', 'revenuePerDateB']\n",
    "\n",
    "ordersBCummulative = ordersBDaily.apply(\n",
    "    lambda x: ordersBDaily[ordersBDaily['date'] <= x['date']].agg(\n",
    "        {'date': 'max', 'ordersPerDateB': 'sum', 'revenuePerDateB': 'sum'}\n",
    "    ),\n",
    "    axis=1,\n",
    ").sort_values(by=['date'])\n",
    "ordersBCummulative.columns = [\n",
    "    'date',\n",
    "    'ordersCummulativeB',\n",
    "    'revenueCummulativeB',\n",
    "]\n",
    "\n",
    "data = (\n",
    "    ordersADaily.merge(\n",
    "        ordersBDaily, left_on='date', right_on='date', how='left'\n",
    "    )\n",
    "    .merge(ordersACummulative, left_on='date', right_on='date', how='left')\n",
    "    .merge(ordersBCummulative, left_on='date', right_on='date', how='left')\n",
    "    .merge(visitorsADaily, left_on='date', right_on='date', how='left')\n",
    "    .merge(visitorsBDaily, left_on='date', right_on='date', how='left')\n",
    "    .merge(visitorsACummulative, left_on='date', right_on='date', how='left')\n",
    "    .merge(visitorsBCummulative, left_on='date', right_on='date', how='left')\n",
    ")"
   ]
  },
  {
   "cell_type": "code",
   "execution_count": 35,
   "id": "ca548289",
   "metadata": {},
   "outputs": [],
   "source": [
    "ordersByUsersA = (\n",
    "    orders[orders['group'] == 'A']\n",
    "    .groupby('visitorId', as_index=False)\n",
    "    .agg({'transactionId': pd.Series.nunique})\n",
    ")\n",
    "ordersByUsersA.columns = ['visitorId', 'orders']\n",
    "\n",
    "ordersByUsersB = (\n",
    "    orders[orders['group'] == 'B']\n",
    "    .groupby('visitorId', as_index=False)\n",
    "    .agg({'transactionId': pd.Series.nunique})\n",
    ")\n",
    "ordersByUsersB.columns = ['visitorId', 'orders']\n"
   ]
  },
  {
   "cell_type": "code",
   "execution_count": 36,
   "id": "2d79b63a",
   "metadata": {},
   "outputs": [],
   "source": [
    "sampleA = pd.concat([ordersByUsersA['orders'],\n",
    "                     pd.Series(0, index=np.arange(data['visitorsPerDateA'].sum() - len(ordersByUsersA['orders'])),\n",
    "                     name='orders')],axis=0)\n",
    "\n",
    "sampleB = pd.concat([ordersByUsersB['orders'],\n",
    "                     pd.Series(0, index=np.arange(data['visitorsPerDateB'].sum() - len(ordersByUsersB['orders'])),\n",
    "                     name='orders')],axis=0)"
   ]
  },
  {
   "cell_type": "code",
   "execution_count": 37,
   "id": "c56ec065",
   "metadata": {
    "scrolled": true
   },
   "outputs": [
    {
     "name": "stdout",
     "output_type": "stream",
     "text": [
      "p-value = 0.017\n",
      "относительный прирост = 0.138\n"
     ]
    }
   ],
   "source": [
    "# Воспользуемся критерием Манна-Уитни\n",
    "print(\"p-value = {0:.3f}\".format(stats.mannwhitneyu(sampleA, sampleB)[1]))\n",
    "\n",
    "print(\"относительный прирост = {0:.3f}\".format(sampleB.mean() / sampleA.mean() - 1))\n",
    " "
   ]
  },
  {
   "cell_type": "markdown",
   "id": "716d87e9",
   "metadata": {},
   "source": [
    "**Вывод:**  \n",
    "- Первое число p-value = 0.017, что меньше 0.05.  Значит, нулевую гипотезу о том, что статистически значимых различий в среднем числе заказов между группами нет, отвергаем. \n",
    "- Относительный выигрыш группы B равен 13.8% — второе число в выводе.    "
   ]
  },
  {
   "cell_type": "markdown",
   "id": "0e8e5ea3",
   "metadata": {},
   "source": [
    "#### 2.11 Посчитаем статистическую значимость различий в среднем чеке заказа между группами по «сырым» данным. "
   ]
  },
  {
   "cell_type": "markdown",
   "id": "56e84d18",
   "metadata": {},
   "source": [
    "Сформулируем гипотезы.\n",
    "\n",
    "- *Нулевая гипотеза: различий в среднем чеке между группами нет.*  \n",
    "- *Альтернативная гипотеза: различия в среднем чеке между группами есть.*\n",
    "\n",
    "Критический уровень статистической значимости p-value = 0,05  \n",
    "Для A/B-тестирования, будем применять критерий Манна-Уитни (st.mannwhitneyu)."
   ]
  },
  {
   "cell_type": "code",
   "execution_count": 38,
   "id": "a55f15f8",
   "metadata": {},
   "outputs": [
    {
     "name": "stdout",
     "output_type": "stream",
     "text": [
      "p-value = 0.729\n",
      "относительный прирост = 0.259\n"
     ]
    }
   ],
   "source": [
    "# Воспользуемся критерием Манна-Уитни\n",
    "print(\"p-value = {0:.3f}\".format(stats.mannwhitneyu(orders[orders['group']=='A']['revenue'], \n",
    "                                          orders[orders['group']=='B']['revenue'])[1]))\n",
    "print(\"относительный прирост = {0:.3f}\".format(orders[orders['group']=='B']['revenue'].mean()/\n",
    "                       orders[orders['group']=='A']['revenue'].mean()-1))"
   ]
  },
  {
   "cell_type": "markdown",
   "id": "8f806d4b",
   "metadata": {},
   "source": [
    "**Вывод:**  \n",
    "- P-value значительно больше 0.05. Значит, причин отвергать нулевую гипотезу и считать, что в среднем чеке есть различия, нет. \n",
    "- Средний чек группы B значительно выше среднего чека группы A."
   ]
  },
  {
   "cell_type": "markdown",
   "id": "b4dc8db0",
   "metadata": {},
   "source": [
    "####  2.12 Посчитаем статистическую значимость различий в конверсии между группами по «очищенным» данным. "
   ]
  },
  {
   "cell_type": "markdown",
   "id": "c5f33dd4",
   "metadata": {},
   "source": [
    "Подготовим очищенные от аномалий данные.\n",
    "95-й и 99-й перцентили средних чеков равны 28000 и 58233 рублям. А 95-й и 99-й перцентили числа заказов на одного пользователя равны 2 и 4 заказам на пользователя.\n",
    "Примем за аномальных пользователей тех, кто совершил 4 заказа и более, или совершил заказ на сумму свыше 40 000 рублей. Так мы уберём 1% пользователей с наибольшим числом заказов и от 1% до 5% заказов с наибольшей стоимостью."
   ]
  },
  {
   "cell_type": "code",
   "execution_count": 39,
   "id": "da1e6dcc",
   "metadata": {},
   "outputs": [
    {
     "name": "stdout",
     "output_type": "stream",
     "text": [
      "1099    148427295\n",
      "18      199603092\n",
      "23      237748145\n",
      "684     358944393\n",
      "648     382846391\n",
      "Name: visitorId, dtype: int64\n",
      "34\n"
     ]
    }
   ],
   "source": [
    "usersWithManyOrders = pd.concat(\n",
    "    [\n",
    "        ordersByUsersA[ordersByUsersA['orders'] >= 4]['visitorId'],\n",
    "        ordersByUsersB[ordersByUsersB['orders'] >= 4]['visitorId'],\n",
    "    ],\n",
    "    axis=0,\n",
    ")\n",
    "usersWithExpensiveOrders = orders[orders['revenue'] > 40000]['visitorId']\n",
    "abnormalUsers = (\n",
    "    pd.concat([usersWithManyOrders, usersWithExpensiveOrders], axis=0)\n",
    "    .drop_duplicates()\n",
    "    .sort_values()\n",
    ")\n",
    "print(abnormalUsers.head(5))\n",
    "print(abnormalUsers.shape[0])"
   ]
  },
  {
   "cell_type": "markdown",
   "id": "4f215f05",
   "metadata": {},
   "source": [
    "Найдено 34 аномальных случаев. Отфильтруем группы."
   ]
  },
  {
   "cell_type": "markdown",
   "id": "aa5d0fed",
   "metadata": {},
   "source": [
    "Сформулируем гипотезы.\n",
    "\n",
    "- *Нулевая гипотеза: различий в конверсии между группами нет.*  \n",
    "- *Альтернативная гипотеза: различия в конверсии между группами есть.*\n",
    "\n",
    "Критический уровень статистической значимости p-value = 0,05  \n",
    "Для A/B-тестирования, будем применять критерий Манна-Уитни (st.mannwhitneyu)."
   ]
  },
  {
   "cell_type": "code",
   "execution_count": 40,
   "id": "3a1316ee",
   "metadata": {},
   "outputs": [
    {
     "name": "stdout",
     "output_type": "stream",
     "text": [
      "p-value = 0.00931\n",
      "относительный прирост = 0.164\n"
     ]
    }
   ],
   "source": [
    "sampleAFiltered = pd.concat(\n",
    "    [\n",
    "        ordersByUsersA[\n",
    "            np.logical_not(ordersByUsersA['visitorId'].isin(abnormalUsers))\n",
    "        ]['orders'],\n",
    "        pd.Series(\n",
    "            0,\n",
    "            index=np.arange(\n",
    "                data['visitorsPerDateA'].sum() - len(ordersByUsersA['orders'])\n",
    "            ),\n",
    "            name='orders',\n",
    "        ),\n",
    "    ],\n",
    "    axis=0,\n",
    ")\n",
    "\n",
    "sampleBFiltered = pd.concat(\n",
    "    [\n",
    "        ordersByUsersB[\n",
    "            np.logical_not(ordersByUsersB['visitorId'].isin(abnormalUsers))\n",
    "        ]['orders'],\n",
    "        pd.Series(\n",
    "            0,\n",
    "            index=np.arange(\n",
    "                data['visitorsPerDateB'].sum() - len(ordersByUsersB['orders'])\n",
    "            ),\n",
    "            name='orders',\n",
    "        ),\n",
    "    ],\n",
    "    axis=0,\n",
    ")\n",
    "# Воспользуемся критерием Манна-Уитни\n",
    "\n",
    "print('p-value = {0:.5f}'.format(stats.mannwhitneyu(sampleAFiltered, sampleBFiltered)[1]))\n",
    "print('относительный прирост = {0:.3f}'.format(sampleBFiltered.mean()/sampleAFiltered.mean()-1))"
   ]
  },
  {
   "cell_type": "markdown",
   "id": "05366a60",
   "metadata": {},
   "source": [
    "**Вывод:**  \n",
    "- Величина P-value меньше 0.05. Значит, нулевую гипотезу о том, что статистически значимых различий в конверсии между группами нет, отвергаем.  \n",
    "- Относительный выигрыш группы B равен 16.4% — второе число в выводе. Это выше (был 13.8%) чем в \"сырых данных\".\n",
    "- Сильных различий в \"сырых\" и \"очищенных\" не наблюдаем.\n",
    "   "
   ]
  },
  {
   "cell_type": "markdown",
   "id": "bc6c2c45",
   "metadata": {},
   "source": [
    "#### 2.13 Посчитайте статистическую значимость различий в среднем чеке заказа между группами по «очищенным» данным."
   ]
  },
  {
   "cell_type": "markdown",
   "id": "bd2d7dbb",
   "metadata": {},
   "source": [
    "Сформулируем гипотезы.\n",
    "\n",
    "- *Нулевая гипотеза: различий в среднем чеке между группами нет.*  \n",
    "- *Альтернативная гипотеза: различия в среднем чеке между группами есть.*\n",
    "\n",
    "Критический уровень статистической значимости p-value = 0,05  \n",
    "Для A/B-тестирования, будем применять критерий Манна-Уитни (st.mannwhitneyu)."
   ]
  },
  {
   "cell_type": "code",
   "execution_count": 41,
   "id": "2c7de533",
   "metadata": {},
   "outputs": [
    {
     "name": "stdout",
     "output_type": "stream",
     "text": [
      "p-value = 0.711\n",
      "относительный прирост = 0.060\n"
     ]
    }
   ],
   "source": [
    "print(\n",
    "    'p-value = {0:.3f}'.format(\n",
    "        stats.mannwhitneyu(\n",
    "            orders[\n",
    "                np.logical_and(\n",
    "                    orders['group'] == 'A',\n",
    "                    np.logical_not(orders['visitorId'].isin(abnormalUsers)),\n",
    "                )\n",
    "            ]['revenue'],\n",
    "            orders[\n",
    "                np.logical_and(\n",
    "                    orders['group'] == 'B',\n",
    "                    np.logical_not(orders['visitorId'].isin(abnormalUsers)),\n",
    "                )\n",
    "            ]['revenue'],\n",
    "        )[1]\n",
    "    )\n",
    ")\n",
    "\n",
    "print(\n",
    "    \"относительный прирост = {0:.3f}\".format(\n",
    "        orders[\n",
    "            np.logical_and(\n",
    "                orders['group'] == 'B',\n",
    "                np.logical_not(orders['visitorId'].isin(abnormalUsers)),\n",
    "            )\n",
    "        ]['revenue'].mean()\n",
    "        / orders[\n",
    "            np.logical_and(\n",
    "                orders['group'] == 'A',\n",
    "                np.logical_not(orders['visitorId'].isin(abnormalUsers)),\n",
    "            )\n",
    "        ]['revenue'].mean()\n",
    "        - 1\n",
    "    )\n",
    ")"
   ]
  },
  {
   "cell_type": "markdown",
   "id": "245594ac",
   "metadata": {},
   "source": [
    "**Вывод:**  "
   ]
  },
  {
   "cell_type": "markdown",
   "id": "dc1fefcc",
   "metadata": {},
   "source": [
    "- P-value значительно больше 0.05. Значит, причин отвергать нулевую гипотезу и считать, что в среднем чеке есть различия, нет. \n",
    "- Средний чек группы B немного выше среднего чека группы A.\n",
    "- Сильных различий в \"сырых\" и \"очищенных\" не наблюдаем."
   ]
  },
  {
   "cell_type": "markdown",
   "id": "754a4d1f",
   "metadata": {},
   "source": [
    "#### 2.14 Примем решение по результатам теста.\n"
   ]
  },
  {
   "cell_type": "markdown",
   "id": "393919e3",
   "metadata": {},
   "source": [
    "- Наблюдаем статистически значимые различия по конверсии между группами А и В как для случая с \"сырыми\" данными, так и с \"очищенными\".\n",
    "- Видим существенное преобладание группы B по конверсии в обоих исследованиях.\n",
    "- После чистки наблюдаем, что преобладание среднего чека у группы B стало несколько ниже (возможно это было обусловлено наличием какого-то крупного заказа). Однако нельзя сделать вывод о статистически значимом различим по среднему  чеку между группами А и В как для случая с \"сырыми\" данными, так и с \"очищенными\".\n",
    "\n",
    "Исходя из этого, останавливаем тест, группу B считаем лучше."
   ]
  },
  {
   "cell_type": "markdown",
   "id": "40693ae8",
   "metadata": {},
   "source": [
    "### Общий вывод:  \n",
    "\n",
    "\n",
    "#### Часть 1. Приоритизация гипотез\n",
    "\n",
    "Для приоритизации гипотез были применены фреймворк ICE и RICE.   \n",
    "Наиболее эффективные гипотезы по фреймфорку ICE с индексом: 8, 0, 7, 6.  \n",
    "Наиболее эффективные гипотезы по фреймворку RICE с индексом: 7, 2, 0, 6.   \n",
    "  \n",
    "Гипотеза 8 с низким показателем Reach ушла с первого места, уступив гипотизе 7 c высоким Reach.  \n",
    "\n",
    "\n",
    "#### Часть 2. Анализ A/B-теста:  \n",
    "\n",
    "- Построены графики кумулятивной выручки и кумулятивного среднего чека по группам;\n",
    "- Построены графики кумулятивной конверсии по группам, относительного изменения конверсии;\n",
    "- Построены графики относительного изменения кумулятивного среднего чека группы B к группе A;\n",
    "- Построен точечный график количества заказов по пользователям и стоимостей заказов;\n",
    "- Посчитаны 95-й и 99-й перцентили количества заказов на пользователя и стоимости заказов;\n",
    "- Посчитаны статистические значимости различий в конверсии и среднем чеке заказа между группами по «сырым» данным;\n",
    "- Посчитаны статистические значимости различий в конверсии и среднем чеке заказа между группами по «очищеным» данным;\n",
    "\n",
    "По итогам теста принято решение об остановке теста и признания его успешным. \n",
    " \n",
    "Группа B статистически значимо лучше группы A.\n",
    "Среднее количество заказов увеличилось при отсутствии значимых изменений по среднему чеку. Следовательно, увеличилась и выручка, так как пользователи стали покупать чаще."
   ]
  },
  {
   "cell_type": "code",
   "execution_count": null,
   "id": "b1df0214",
   "metadata": {},
   "outputs": [],
   "source": []
  }
 ],
 "metadata": {
  "ExecuteTimeLog": [
   {
    "duration": 1093,
    "start_time": "2022-11-19T14:54:11.155Z"
   },
   {
    "duration": 3,
    "start_time": "2022-11-19T14:54:12.250Z"
   },
   {
    "duration": 313,
    "start_time": "2022-11-19T14:54:12.255Z"
   },
   {
    "duration": 15,
    "start_time": "2022-11-19T14:54:12.573Z"
   },
   {
    "duration": 9,
    "start_time": "2022-11-19T14:54:12.590Z"
   },
   {
    "duration": 5,
    "start_time": "2022-11-19T14:54:12.601Z"
   },
   {
    "duration": 17,
    "start_time": "2022-11-19T14:54:12.607Z"
   },
   {
    "duration": 20,
    "start_time": "2022-11-19T14:54:12.626Z"
   },
   {
    "duration": 7,
    "start_time": "2022-11-19T14:54:12.647Z"
   },
   {
    "duration": 174,
    "start_time": "2022-11-19T14:54:12.656Z"
   },
   {
    "duration": 126,
    "start_time": "2022-11-19T14:54:12.831Z"
   },
   {
    "duration": 11,
    "start_time": "2022-11-19T14:54:12.959Z"
   },
   {
    "duration": 306,
    "start_time": "2022-11-19T14:54:12.972Z"
   },
   {
    "duration": 286,
    "start_time": "2022-11-19T14:54:13.280Z"
   },
   {
    "duration": 345,
    "start_time": "2022-11-19T14:54:13.568Z"
   },
   {
    "duration": 282,
    "start_time": "2022-11-19T14:54:13.920Z"
   },
   {
    "duration": 399,
    "start_time": "2022-11-19T14:54:14.204Z"
   },
   {
    "duration": 20,
    "start_time": "2022-11-19T14:54:14.604Z"
   },
   {
    "duration": 105,
    "start_time": "2022-11-19T14:54:14.626Z"
   },
   {
    "duration": 5,
    "start_time": "2022-11-19T14:54:14.732Z"
   },
   {
    "duration": 141,
    "start_time": "2022-11-19T14:54:14.738Z"
   },
   {
    "duration": 5,
    "start_time": "2022-11-19T14:54:14.881Z"
   },
   {
    "duration": 299,
    "start_time": "2022-11-19T14:54:14.887Z"
   },
   {
    "duration": 122,
    "start_time": "2022-11-19T14:54:15.187Z"
   },
   {
    "duration": 5,
    "start_time": "2022-11-19T14:54:15.321Z"
   },
   {
    "duration": 26,
    "start_time": "2022-11-19T14:54:15.328Z"
   },
   {
    "duration": 9,
    "start_time": "2022-11-19T14:54:15.355Z"
   },
   {
    "duration": 8,
    "start_time": "2022-11-19T14:54:15.367Z"
   },
   {
    "duration": 69,
    "start_time": "2022-11-19T14:54:15.376Z"
   },
   {
    "duration": 18,
    "start_time": "2022-11-19T14:54:15.447Z"
   },
   {
    "duration": 1098,
    "start_time": "2022-11-19T15:16:47.801Z"
   },
   {
    "duration": 3,
    "start_time": "2022-11-19T15:16:48.901Z"
   },
   {
    "duration": 134,
    "start_time": "2022-11-19T15:16:48.905Z"
   },
   {
    "duration": 11,
    "start_time": "2022-11-19T15:16:49.041Z"
   },
   {
    "duration": 14,
    "start_time": "2022-11-19T15:16:49.053Z"
   },
   {
    "duration": 8,
    "start_time": "2022-11-19T15:16:49.069Z"
   },
   {
    "duration": 13,
    "start_time": "2022-11-19T15:16:49.078Z"
   },
   {
    "duration": 10,
    "start_time": "2022-11-19T15:16:49.092Z"
   },
   {
    "duration": 6,
    "start_time": "2022-11-19T15:16:49.104Z"
   },
   {
    "duration": 182,
    "start_time": "2022-11-19T15:16:49.112Z"
   },
   {
    "duration": 105,
    "start_time": "2022-11-19T15:16:49.295Z"
   },
   {
    "duration": 21,
    "start_time": "2022-11-19T15:16:49.401Z"
   },
   {
    "duration": 301,
    "start_time": "2022-11-19T15:16:49.423Z"
   },
   {
    "duration": 284,
    "start_time": "2022-11-19T15:16:49.725Z"
   },
   {
    "duration": 388,
    "start_time": "2022-11-19T15:16:50.020Z"
   },
   {
    "duration": 300,
    "start_time": "2022-11-19T15:16:50.409Z"
   },
   {
    "duration": 372,
    "start_time": "2022-11-19T15:16:50.710Z"
   },
   {
    "duration": 10,
    "start_time": "2022-11-19T15:16:51.083Z"
   },
   {
    "duration": 108,
    "start_time": "2022-11-19T15:16:51.094Z"
   },
   {
    "duration": 5,
    "start_time": "2022-11-19T15:16:51.204Z"
   },
   {
    "duration": 121,
    "start_time": "2022-11-19T15:16:51.220Z"
   },
   {
    "duration": 5,
    "start_time": "2022-11-19T15:16:51.342Z"
   },
   {
    "duration": 275,
    "start_time": "2022-11-19T15:16:51.348Z"
   },
   {
    "duration": 129,
    "start_time": "2022-11-19T15:16:51.625Z"
   },
   {
    "duration": 5,
    "start_time": "2022-11-19T15:16:51.756Z"
   },
   {
    "duration": 24,
    "start_time": "2022-11-19T15:16:51.762Z"
   },
   {
    "duration": 8,
    "start_time": "2022-11-19T15:16:51.787Z"
   },
   {
    "duration": 27,
    "start_time": "2022-11-19T15:16:51.798Z"
   },
   {
    "duration": 27,
    "start_time": "2022-11-19T15:16:51.827Z"
   },
   {
    "duration": 12,
    "start_time": "2022-11-19T15:16:51.855Z"
   },
   {
    "duration": 1047,
    "start_time": "2022-11-21T05:46:05.059Z"
   },
   {
    "duration": 2,
    "start_time": "2022-11-21T05:46:06.108Z"
   },
   {
    "duration": 259,
    "start_time": "2022-11-21T05:46:06.111Z"
   },
   {
    "duration": 11,
    "start_time": "2022-11-21T05:46:06.372Z"
   },
   {
    "duration": 19,
    "start_time": "2022-11-21T05:46:06.385Z"
   },
   {
    "duration": 13,
    "start_time": "2022-11-21T05:46:06.406Z"
   },
   {
    "duration": 22,
    "start_time": "2022-11-21T05:46:06.421Z"
   },
   {
    "duration": 16,
    "start_time": "2022-11-21T05:46:06.444Z"
   },
   {
    "duration": 20,
    "start_time": "2022-11-21T05:46:06.461Z"
   },
   {
    "duration": 15,
    "start_time": "2022-11-21T05:46:06.482Z"
   },
   {
    "duration": 9,
    "start_time": "2022-11-21T05:46:06.498Z"
   },
   {
    "duration": 8,
    "start_time": "2022-11-21T05:46:06.508Z"
   },
   {
    "duration": 4,
    "start_time": "2022-11-21T05:46:06.517Z"
   },
   {
    "duration": 7,
    "start_time": "2022-11-21T05:46:06.523Z"
   },
   {
    "duration": 15,
    "start_time": "2022-11-21T05:46:06.532Z"
   },
   {
    "duration": 28,
    "start_time": "2022-11-21T05:46:06.548Z"
   },
   {
    "duration": 21,
    "start_time": "2022-11-21T05:46:06.578Z"
   },
   {
    "duration": 10,
    "start_time": "2022-11-21T05:46:06.600Z"
   },
   {
    "duration": 20,
    "start_time": "2022-11-21T05:46:06.612Z"
   },
   {
    "duration": 181,
    "start_time": "2022-11-21T05:46:06.633Z"
   },
   {
    "duration": 113,
    "start_time": "2022-11-21T05:46:06.816Z"
   },
   {
    "duration": 10,
    "start_time": "2022-11-21T05:46:06.931Z"
   },
   {
    "duration": 297,
    "start_time": "2022-11-21T05:46:06.943Z"
   },
   {
    "duration": 224,
    "start_time": "2022-11-21T05:46:07.242Z"
   },
   {
    "duration": 291,
    "start_time": "2022-11-21T05:46:07.467Z"
   },
   {
    "duration": 224,
    "start_time": "2022-11-21T05:46:07.759Z"
   },
   {
    "duration": 354,
    "start_time": "2022-11-21T05:46:07.985Z"
   },
   {
    "duration": 11,
    "start_time": "2022-11-21T05:46:08.340Z"
   },
   {
    "duration": 129,
    "start_time": "2022-11-21T05:46:08.352Z"
   },
   {
    "duration": 4,
    "start_time": "2022-11-21T05:46:08.482Z"
   },
   {
    "duration": 138,
    "start_time": "2022-11-21T05:46:08.488Z"
   },
   {
    "duration": 204,
    "start_time": "2022-11-21T05:46:08.628Z"
   },
   {
    "duration": 5,
    "start_time": "2022-11-21T05:46:08.834Z"
   },
   {
    "duration": 210,
    "start_time": "2022-11-21T05:46:08.840Z"
   },
   {
    "duration": 171,
    "start_time": "2022-11-21T05:46:09.051Z"
   },
   {
    "duration": 6,
    "start_time": "2022-11-21T05:46:09.223Z"
   },
   {
    "duration": 25,
    "start_time": "2022-11-21T05:46:09.230Z"
   },
   {
    "duration": 9,
    "start_time": "2022-11-21T05:46:09.256Z"
   },
   {
    "duration": 8,
    "start_time": "2022-11-21T05:46:09.266Z"
   },
   {
    "duration": 52,
    "start_time": "2022-11-21T05:46:09.275Z"
   },
   {
    "duration": 13,
    "start_time": "2022-11-21T05:46:09.330Z"
   },
   {
    "duration": 1099,
    "start_time": "2022-11-21T05:52:43.700Z"
   },
   {
    "duration": 2,
    "start_time": "2022-11-21T05:52:44.801Z"
   },
   {
    "duration": 145,
    "start_time": "2022-11-21T05:52:44.805Z"
   },
   {
    "duration": 10,
    "start_time": "2022-11-21T05:52:44.952Z"
   },
   {
    "duration": 10,
    "start_time": "2022-11-21T05:52:44.963Z"
   },
   {
    "duration": 9,
    "start_time": "2022-11-21T05:52:44.974Z"
   },
   {
    "duration": 13,
    "start_time": "2022-11-21T05:52:44.984Z"
   },
   {
    "duration": 9,
    "start_time": "2022-11-21T05:52:44.998Z"
   },
   {
    "duration": 37,
    "start_time": "2022-11-21T05:52:45.009Z"
   },
   {
    "duration": 13,
    "start_time": "2022-11-21T05:52:45.049Z"
   },
   {
    "duration": 8,
    "start_time": "2022-11-21T05:52:45.064Z"
   },
   {
    "duration": 14,
    "start_time": "2022-11-21T05:52:45.073Z"
   },
   {
    "duration": 6,
    "start_time": "2022-11-21T05:52:45.089Z"
   },
   {
    "duration": 16,
    "start_time": "2022-11-21T05:52:45.096Z"
   },
   {
    "duration": 14,
    "start_time": "2022-11-21T05:52:45.113Z"
   },
   {
    "duration": 16,
    "start_time": "2022-11-21T05:52:45.129Z"
   },
   {
    "duration": 7,
    "start_time": "2022-11-21T05:52:45.146Z"
   },
   {
    "duration": 9,
    "start_time": "2022-11-21T05:52:45.154Z"
   },
   {
    "duration": 7,
    "start_time": "2022-11-21T05:52:45.165Z"
   },
   {
    "duration": 181,
    "start_time": "2022-11-21T05:52:45.173Z"
   },
   {
    "duration": 139,
    "start_time": "2022-11-21T05:52:45.356Z"
   },
   {
    "duration": 12,
    "start_time": "2022-11-21T05:52:45.496Z"
   },
   {
    "duration": 283,
    "start_time": "2022-11-21T05:52:45.521Z"
   },
   {
    "duration": 209,
    "start_time": "2022-11-21T05:52:45.805Z"
   },
   {
    "duration": 316,
    "start_time": "2022-11-21T05:52:46.020Z"
   },
   {
    "duration": 236,
    "start_time": "2022-11-21T05:52:46.338Z"
   },
   {
    "duration": 359,
    "start_time": "2022-11-21T05:52:46.576Z"
   },
   {
    "duration": 10,
    "start_time": "2022-11-21T05:52:46.938Z"
   },
   {
    "duration": 125,
    "start_time": "2022-11-21T05:52:46.949Z"
   },
   {
    "duration": 4,
    "start_time": "2022-11-21T05:52:47.076Z"
   },
   {
    "duration": 133,
    "start_time": "2022-11-21T05:52:47.081Z"
   },
   {
    "duration": 209,
    "start_time": "2022-11-21T05:52:47.220Z"
   },
   {
    "duration": 4,
    "start_time": "2022-11-21T05:52:47.431Z"
   },
   {
    "duration": 198,
    "start_time": "2022-11-21T05:52:47.437Z"
   },
   {
    "duration": 122,
    "start_time": "2022-11-21T05:52:47.637Z"
   },
   {
    "duration": 5,
    "start_time": "2022-11-21T05:52:47.761Z"
   },
   {
    "duration": 22,
    "start_time": "2022-11-21T05:52:47.767Z"
   },
   {
    "duration": 8,
    "start_time": "2022-11-21T05:52:47.791Z"
   },
   {
    "duration": 26,
    "start_time": "2022-11-21T05:52:47.800Z"
   },
   {
    "duration": 26,
    "start_time": "2022-11-21T05:52:47.827Z"
   },
   {
    "duration": 11,
    "start_time": "2022-11-21T05:52:47.855Z"
   }
  ],
  "kernelspec": {
   "display_name": "Python 3",
   "language": "python",
   "name": "python3"
  },
  "language_info": {
   "codemirror_mode": {
    "name": "ipython",
    "version": 3
   },
   "file_extension": ".py",
   "mimetype": "text/x-python",
   "name": "python",
   "nbconvert_exporter": "python",
   "pygments_lexer": "ipython3",
   "version": "3.8.8"
  },
  "toc": {
   "base_numbering": 1,
   "nav_menu": {},
   "number_sections": true,
   "sideBar": true,
   "skip_h1_title": true,
   "title_cell": "Table of Contents",
   "title_sidebar": "Contents",
   "toc_cell": false,
   "toc_position": {},
   "toc_section_display": true,
   "toc_window_display": false
  }
 },
 "nbformat": 4,
 "nbformat_minor": 5
}
