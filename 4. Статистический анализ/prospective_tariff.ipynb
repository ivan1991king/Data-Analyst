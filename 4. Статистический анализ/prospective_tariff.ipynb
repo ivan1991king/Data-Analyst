{
 "cells": [
  {
   "cell_type": "markdown",
   "id": "3e998204",
   "metadata": {},
   "source": [
    "## Определение перспективного тарифа для телеком компании\n",
    "\n",
    "\n",
    "Нашей задачей является анализ тарифных планов компании «Мегалайн» — федерального оператора сотовой связи. Клиентам предлагают два тарифных плана: «Смарт» и «Ультра». Чтобы скорректировать рекламный бюджет, коммерческий департамент хочет понять, какой тариф приносит больше денег.\n",
    "В проекте будет реализован предварительный анализ тарифов на небольшой выборке клиентов. У нас есть данные 500 пользователей «Мегалайна»: кто они, откуда, каким тарифом пользуются, сколько звонков и сообщений каждый отправил за 2018 год. В данном проекте мы проанализируем поведение клиентов и сделаем вывод — какой тариф лучше."
   ]
  },
  {
   "cell_type": "markdown",
   "id": "de72c4df",
   "metadata": {},
   "source": [
    "## Описание данных"
   ]
  },
  {
   "cell_type": "markdown",
   "id": "4c685095",
   "metadata": {},
   "source": [
    "Таблица `users` (информация о пользователях):\n",
    "\n",
    "* `user_id` — уникальный идентификатор пользователя\n",
    "*`first_name` — имя пользователя\n",
    "* `last_name` — фамилия пользователя\n",
    "* `age` — возраст пользователя (годы)\n",
    "* `reg_date` — дата подключения тарифа (день, месяц, год)\n",
    "* `churn_date` — дата прекращения пользования тарифом (если значение пропущено, то тариф ещё действовал на момент выгрузки данных)\n",
    "* `city` — город проживания пользователя\n",
    "* `tariff` — название тарифного плана\n",
    "\n",
    "Таблица `calls` (информация о звонках):\n",
    "\n",
    "* `id` — уникальный номер звонка\n",
    "* `call_date` — дата звонка\n",
    "* `duration` — длительность звонка в минутах\n",
    "* `user_id` — идентификатор пользователя, сделавшего звонок\n",
    "\n",
    "Таблица `messages` (информация о сообщениях):\n",
    "\n",
    "* `id` — уникальный номер сообщения\n",
    "* `message_date` — дата сообщения\n",
    "* `user_id` — идентификатор пользователя, отправившего сообщение\n",
    "\n",
    "Таблица internet (информация об интернет-сессиях):\n",
    "\n",
    "* `id` — уникальный номер сессии\n",
    "* `mb_used` — объём потраченного за сессию интернет-трафика (в мегабайтах)\n",
    "* `session_date` — дата интернет-сессии\n",
    "* `user_id` — идентификатор пользователя\n",
    "\n",
    "Таблица `tariffs` (информация о тарифах):\n",
    "\n",
    "* `tariff_name` — название тарифа\n",
    "* `rub_monthly_fee` — ежемесячная абонентская плата в рублях\n",
    "* `minutes_included` — количество минут разговора в месяц, включённых в абонентскую плату\n",
    "* `messages_included` — количество сообщений в месяц, включённых в абонентскую плату\n",
    "* `mb_per_month_included` — объём интернет-трафика, включённого в абонентскую плату (в мегабайтах)\n",
    "* `rub_per_minute` — стоимость минуты разговора сверх тарифного пакета (например, если в тарифе 100 минут разговора в месяц, то со 101 минуты будет взиматься плата)\n",
    "* `ub_per_message` — стоимость отправки сообщения сверх тарифного пакета\n",
    "* `rub_per_gb` — стоимость дополнительного гигабайта интернет-трафика сверх тарифного пакета (1 гигабайт = 1024 мегабайта)"
   ]
  },
  {
   "cell_type": "markdown",
   "id": "65e0b09b",
   "metadata": {},
   "source": [
    "## Изучение данных из файла"
   ]
  },
  {
   "cell_type": "markdown",
   "id": "a9c74b2d",
   "metadata": {},
   "source": [
    "### Импорт библиотек"
   ]
  },
  {
   "cell_type": "code",
   "execution_count": 1,
   "id": "c9df1368",
   "metadata": {},
   "outputs": [],
   "source": [
    "import pandas as pd\n",
    "import numpy as np\n",
    "import matplotlib.pyplot as plt\n",
    "from scipy import stats as st"
   ]
  },
  {
   "cell_type": "markdown",
   "id": "849a4044",
   "metadata": {},
   "source": [
    "### Обзор данных"
   ]
  },
  {
   "cell_type": "code",
   "execution_count": 2,
   "id": "ae6b371a",
   "metadata": {},
   "outputs": [],
   "source": [
    "# загружаем файлы с данными\n",
    "\n",
    "try:\n",
    "    calls = pd.read_csv('calls.csv')\n",
    "except FileNotFoundError:\n",
    "    calls = pd.read_csv('/datasets/calls.csv')\n",
    "\n",
    "try:\n",
    "    internet = pd.read_csv('internet.csv')\n",
    "except FileNotFoundError:\n",
    "    internet = pd.read_csv('/datasets/internet.csv')   \n",
    "    \n",
    "try:\n",
    "    messages = pd.read_csv('messages.csv')\n",
    "except FileNotFoundError:\n",
    "    messages = pd.read_csv('/datasets/messages.csv')  \n",
    "    \n",
    "try:\n",
    "    tariffs = pd.read_csv('tariffs.csv')\n",
    "except FileNotFoundError:\n",
    "    tariffs = pd.read_csv('/datasets/tariffs.csv')      \n",
    "    \n",
    "try:\n",
    "    users = pd.read_csv('users.csv')\n",
    "except FileNotFoundError:\n",
    "    users = pd.read_csv('/datasets/users.csv')      \n",
    "\n",
    "data_list = [calls, internet, messages, tariffs, users]"
   ]
  },
  {
   "cell_type": "markdown",
   "id": "0a73426b",
   "metadata": {},
   "source": [
    "**Посмотрим и подготовим таблицу звонков**"
   ]
  },
  {
   "cell_type": "code",
   "execution_count": 3,
   "id": "300db09b",
   "metadata": {},
   "outputs": [
    {
     "data": {
      "text/html": [
       "<div>\n",
       "<style scoped>\n",
       "    .dataframe tbody tr th:only-of-type {\n",
       "        vertical-align: middle;\n",
       "    }\n",
       "\n",
       "    .dataframe tbody tr th {\n",
       "        vertical-align: top;\n",
       "    }\n",
       "\n",
       "    .dataframe thead th {\n",
       "        text-align: right;\n",
       "    }\n",
       "</style>\n",
       "<table border=\"1\" class=\"dataframe\">\n",
       "  <thead>\n",
       "    <tr style=\"text-align: right;\">\n",
       "      <th></th>\n",
       "      <th>id</th>\n",
       "      <th>call_date</th>\n",
       "      <th>duration</th>\n",
       "      <th>user_id</th>\n",
       "    </tr>\n",
       "  </thead>\n",
       "  <tbody>\n",
       "    <tr>\n",
       "      <th>0</th>\n",
       "      <td>1000_0</td>\n",
       "      <td>2018-07-25</td>\n",
       "      <td>0.00</td>\n",
       "      <td>1000</td>\n",
       "    </tr>\n",
       "    <tr>\n",
       "      <th>1</th>\n",
       "      <td>1000_1</td>\n",
       "      <td>2018-08-17</td>\n",
       "      <td>0.00</td>\n",
       "      <td>1000</td>\n",
       "    </tr>\n",
       "    <tr>\n",
       "      <th>2</th>\n",
       "      <td>1000_2</td>\n",
       "      <td>2018-06-11</td>\n",
       "      <td>2.85</td>\n",
       "      <td>1000</td>\n",
       "    </tr>\n",
       "    <tr>\n",
       "      <th>3</th>\n",
       "      <td>1000_3</td>\n",
       "      <td>2018-09-21</td>\n",
       "      <td>13.80</td>\n",
       "      <td>1000</td>\n",
       "    </tr>\n",
       "    <tr>\n",
       "      <th>4</th>\n",
       "      <td>1000_4</td>\n",
       "      <td>2018-12-15</td>\n",
       "      <td>5.18</td>\n",
       "      <td>1000</td>\n",
       "    </tr>\n",
       "  </tbody>\n",
       "</table>\n",
       "</div>"
      ],
      "text/plain": [
       "       id   call_date  duration  user_id\n",
       "0  1000_0  2018-07-25      0.00     1000\n",
       "1  1000_1  2018-08-17      0.00     1000\n",
       "2  1000_2  2018-06-11      2.85     1000\n",
       "3  1000_3  2018-09-21     13.80     1000\n",
       "4  1000_4  2018-12-15      5.18     1000"
      ]
     },
     "execution_count": 3,
     "metadata": {},
     "output_type": "execute_result"
    }
   ],
   "source": [
    "calls.head()"
   ]
  },
  {
   "cell_type": "code",
   "execution_count": 4,
   "id": "b78cd411",
   "metadata": {},
   "outputs": [
    {
     "name": "stdout",
     "output_type": "stream",
     "text": [
      "<class 'pandas.core.frame.DataFrame'>\n",
      "RangeIndex: 202607 entries, 0 to 202606\n",
      "Data columns (total 4 columns):\n",
      " #   Column     Non-Null Count   Dtype  \n",
      "---  ------     --------------   -----  \n",
      " 0   id         202607 non-null  object \n",
      " 1   call_date  202607 non-null  object \n",
      " 2   duration   202607 non-null  float64\n",
      " 3   user_id    202607 non-null  int64  \n",
      "dtypes: float64(1), int64(1), object(2)\n",
      "memory usage: 6.2+ MB\n"
     ]
    }
   ],
   "source": [
    "calls.info()"
   ]
  },
  {
   "cell_type": "code",
   "execution_count": 5,
   "id": "9dcf52ce",
   "metadata": {},
   "outputs": [],
   "source": [
    "# приведем дату к datetime\n",
    "calls['call_date'] = pd.to_datetime(calls['call_date'], format = '%Y-%m-%d')"
   ]
  },
  {
   "cell_type": "code",
   "execution_count": 6,
   "id": "bf301b4d",
   "metadata": {},
   "outputs": [],
   "source": [
    "# округлим длительность разговора в большую сторону и приведем к целому значению\n",
    "calls['duration'] = np.ceil(calls['duration']).astype('int')"
   ]
  },
  {
   "cell_type": "code",
   "execution_count": 7,
   "id": "32a2bade",
   "metadata": {},
   "outputs": [],
   "source": [
    "# приведем id к int\n",
    "calls['id'] = calls['id'].astype('int')"
   ]
  },
  {
   "cell_type": "code",
   "execution_count": 8,
   "id": "15805902",
   "metadata": {},
   "outputs": [
    {
     "data": {
      "text/html": [
       "<div>\n",
       "<style scoped>\n",
       "    .dataframe tbody tr th:only-of-type {\n",
       "        vertical-align: middle;\n",
       "    }\n",
       "\n",
       "    .dataframe tbody tr th {\n",
       "        vertical-align: top;\n",
       "    }\n",
       "\n",
       "    .dataframe thead th {\n",
       "        text-align: right;\n",
       "    }\n",
       "</style>\n",
       "<table border=\"1\" class=\"dataframe\">\n",
       "  <thead>\n",
       "    <tr style=\"text-align: right;\">\n",
       "      <th></th>\n",
       "      <th>id</th>\n",
       "      <th>call_date</th>\n",
       "      <th>duration</th>\n",
       "      <th>user_id</th>\n",
       "    </tr>\n",
       "  </thead>\n",
       "  <tbody>\n",
       "    <tr>\n",
       "      <th>0</th>\n",
       "      <td>10000</td>\n",
       "      <td>2018-07-25</td>\n",
       "      <td>0</td>\n",
       "      <td>1000</td>\n",
       "    </tr>\n",
       "    <tr>\n",
       "      <th>1</th>\n",
       "      <td>10001</td>\n",
       "      <td>2018-08-17</td>\n",
       "      <td>0</td>\n",
       "      <td>1000</td>\n",
       "    </tr>\n",
       "    <tr>\n",
       "      <th>2</th>\n",
       "      <td>10002</td>\n",
       "      <td>2018-06-11</td>\n",
       "      <td>3</td>\n",
       "      <td>1000</td>\n",
       "    </tr>\n",
       "    <tr>\n",
       "      <th>3</th>\n",
       "      <td>10003</td>\n",
       "      <td>2018-09-21</td>\n",
       "      <td>14</td>\n",
       "      <td>1000</td>\n",
       "    </tr>\n",
       "    <tr>\n",
       "      <th>4</th>\n",
       "      <td>10004</td>\n",
       "      <td>2018-12-15</td>\n",
       "      <td>6</td>\n",
       "      <td>1000</td>\n",
       "    </tr>\n",
       "  </tbody>\n",
       "</table>\n",
       "</div>"
      ],
      "text/plain": [
       "      id  call_date  duration  user_id\n",
       "0  10000 2018-07-25         0     1000\n",
       "1  10001 2018-08-17         0     1000\n",
       "2  10002 2018-06-11         3     1000\n",
       "3  10003 2018-09-21        14     1000\n",
       "4  10004 2018-12-15         6     1000"
      ]
     },
     "execution_count": 8,
     "metadata": {},
     "output_type": "execute_result"
    }
   ],
   "source": [
    "calls.head()"
   ]
  },
  {
   "cell_type": "code",
   "execution_count": 9,
   "id": "46fc4414",
   "metadata": {
    "scrolled": true
   },
   "outputs": [
    {
     "name": "stdout",
     "output_type": "stream",
     "text": [
      "<class 'pandas.core.frame.DataFrame'>\n",
      "RangeIndex: 202607 entries, 0 to 202606\n",
      "Data columns (total 4 columns):\n",
      " #   Column     Non-Null Count   Dtype         \n",
      "---  ------     --------------   -----         \n",
      " 0   id         202607 non-null  int64         \n",
      " 1   call_date  202607 non-null  datetime64[ns]\n",
      " 2   duration   202607 non-null  int64         \n",
      " 3   user_id    202607 non-null  int64         \n",
      "dtypes: datetime64[ns](1), int64(3)\n",
      "memory usage: 6.2 MB\n"
     ]
    }
   ],
   "source": [
    "calls.info()"
   ]
  },
  {
   "cell_type": "markdown",
   "id": "0937fa18",
   "metadata": {},
   "source": [
    "**Посмотрим и подготовим таблицу интернет-сессий**"
   ]
  },
  {
   "cell_type": "code",
   "execution_count": 10,
   "id": "2f388788",
   "metadata": {},
   "outputs": [
    {
     "data": {
      "text/html": [
       "<div>\n",
       "<style scoped>\n",
       "    .dataframe tbody tr th:only-of-type {\n",
       "        vertical-align: middle;\n",
       "    }\n",
       "\n",
       "    .dataframe tbody tr th {\n",
       "        vertical-align: top;\n",
       "    }\n",
       "\n",
       "    .dataframe thead th {\n",
       "        text-align: right;\n",
       "    }\n",
       "</style>\n",
       "<table border=\"1\" class=\"dataframe\">\n",
       "  <thead>\n",
       "    <tr style=\"text-align: right;\">\n",
       "      <th></th>\n",
       "      <th>Unnamed: 0</th>\n",
       "      <th>id</th>\n",
       "      <th>mb_used</th>\n",
       "      <th>session_date</th>\n",
       "      <th>user_id</th>\n",
       "    </tr>\n",
       "  </thead>\n",
       "  <tbody>\n",
       "    <tr>\n",
       "      <th>0</th>\n",
       "      <td>0</td>\n",
       "      <td>1000_0</td>\n",
       "      <td>112.95</td>\n",
       "      <td>2018-11-25</td>\n",
       "      <td>1000</td>\n",
       "    </tr>\n",
       "    <tr>\n",
       "      <th>1</th>\n",
       "      <td>1</td>\n",
       "      <td>1000_1</td>\n",
       "      <td>1052.81</td>\n",
       "      <td>2018-09-07</td>\n",
       "      <td>1000</td>\n",
       "    </tr>\n",
       "    <tr>\n",
       "      <th>2</th>\n",
       "      <td>2</td>\n",
       "      <td>1000_2</td>\n",
       "      <td>1197.26</td>\n",
       "      <td>2018-06-25</td>\n",
       "      <td>1000</td>\n",
       "    </tr>\n",
       "    <tr>\n",
       "      <th>3</th>\n",
       "      <td>3</td>\n",
       "      <td>1000_3</td>\n",
       "      <td>550.27</td>\n",
       "      <td>2018-08-22</td>\n",
       "      <td>1000</td>\n",
       "    </tr>\n",
       "    <tr>\n",
       "      <th>4</th>\n",
       "      <td>4</td>\n",
       "      <td>1000_4</td>\n",
       "      <td>302.56</td>\n",
       "      <td>2018-09-24</td>\n",
       "      <td>1000</td>\n",
       "    </tr>\n",
       "  </tbody>\n",
       "</table>\n",
       "</div>"
      ],
      "text/plain": [
       "   Unnamed: 0      id  mb_used session_date  user_id\n",
       "0           0  1000_0   112.95   2018-11-25     1000\n",
       "1           1  1000_1  1052.81   2018-09-07     1000\n",
       "2           2  1000_2  1197.26   2018-06-25     1000\n",
       "3           3  1000_3   550.27   2018-08-22     1000\n",
       "4           4  1000_4   302.56   2018-09-24     1000"
      ]
     },
     "execution_count": 10,
     "metadata": {},
     "output_type": "execute_result"
    }
   ],
   "source": [
    "internet.head()"
   ]
  },
  {
   "cell_type": "code",
   "execution_count": 11,
   "id": "5b1797f6",
   "metadata": {},
   "outputs": [
    {
     "name": "stdout",
     "output_type": "stream",
     "text": [
      "<class 'pandas.core.frame.DataFrame'>\n",
      "RangeIndex: 149396 entries, 0 to 149395\n",
      "Data columns (total 5 columns):\n",
      " #   Column        Non-Null Count   Dtype  \n",
      "---  ------        --------------   -----  \n",
      " 0   Unnamed: 0    149396 non-null  int64  \n",
      " 1   id            149396 non-null  object \n",
      " 2   mb_used       149396 non-null  float64\n",
      " 3   session_date  149396 non-null  object \n",
      " 4   user_id       149396 non-null  int64  \n",
      "dtypes: float64(1), int64(2), object(2)\n",
      "memory usage: 5.7+ MB\n"
     ]
    }
   ],
   "source": [
    "internet.info()"
   ]
  },
  {
   "cell_type": "code",
   "execution_count": 12,
   "id": "a4abf600",
   "metadata": {},
   "outputs": [],
   "source": [
    "# приведем дату к datetime\n",
    "internet['session_date'] = pd.to_datetime(internet['session_date'], format = '%Y-%m-%d')"
   ]
  },
  {
   "cell_type": "code",
   "execution_count": 13,
   "id": "0155fa59",
   "metadata": {},
   "outputs": [],
   "source": [
    "# округлим трафик в большую сторону и приведем к целому значению\n",
    "internet['mb_used'] = np.ceil(internet['mb_used']).astype('int')"
   ]
  },
  {
   "cell_type": "code",
   "execution_count": 14,
   "id": "b5eab2e3",
   "metadata": {},
   "outputs": [],
   "source": [
    "# приведем id к int\n",
    "internet['id'] = internet['id'].astype('int')"
   ]
  },
  {
   "cell_type": "code",
   "execution_count": 15,
   "id": "804dbede",
   "metadata": {},
   "outputs": [
    {
     "data": {
      "text/html": [
       "<div>\n",
       "<style scoped>\n",
       "    .dataframe tbody tr th:only-of-type {\n",
       "        vertical-align: middle;\n",
       "    }\n",
       "\n",
       "    .dataframe tbody tr th {\n",
       "        vertical-align: top;\n",
       "    }\n",
       "\n",
       "    .dataframe thead th {\n",
       "        text-align: right;\n",
       "    }\n",
       "</style>\n",
       "<table border=\"1\" class=\"dataframe\">\n",
       "  <thead>\n",
       "    <tr style=\"text-align: right;\">\n",
       "      <th></th>\n",
       "      <th>Unnamed: 0</th>\n",
       "      <th>id</th>\n",
       "      <th>mb_used</th>\n",
       "      <th>session_date</th>\n",
       "      <th>user_id</th>\n",
       "    </tr>\n",
       "  </thead>\n",
       "  <tbody>\n",
       "    <tr>\n",
       "      <th>0</th>\n",
       "      <td>0</td>\n",
       "      <td>10000</td>\n",
       "      <td>113</td>\n",
       "      <td>2018-11-25</td>\n",
       "      <td>1000</td>\n",
       "    </tr>\n",
       "    <tr>\n",
       "      <th>1</th>\n",
       "      <td>1</td>\n",
       "      <td>10001</td>\n",
       "      <td>1053</td>\n",
       "      <td>2018-09-07</td>\n",
       "      <td>1000</td>\n",
       "    </tr>\n",
       "    <tr>\n",
       "      <th>2</th>\n",
       "      <td>2</td>\n",
       "      <td>10002</td>\n",
       "      <td>1198</td>\n",
       "      <td>2018-06-25</td>\n",
       "      <td>1000</td>\n",
       "    </tr>\n",
       "    <tr>\n",
       "      <th>3</th>\n",
       "      <td>3</td>\n",
       "      <td>10003</td>\n",
       "      <td>551</td>\n",
       "      <td>2018-08-22</td>\n",
       "      <td>1000</td>\n",
       "    </tr>\n",
       "    <tr>\n",
       "      <th>4</th>\n",
       "      <td>4</td>\n",
       "      <td>10004</td>\n",
       "      <td>303</td>\n",
       "      <td>2018-09-24</td>\n",
       "      <td>1000</td>\n",
       "    </tr>\n",
       "  </tbody>\n",
       "</table>\n",
       "</div>"
      ],
      "text/plain": [
       "   Unnamed: 0     id  mb_used session_date  user_id\n",
       "0           0  10000      113   2018-11-25     1000\n",
       "1           1  10001     1053   2018-09-07     1000\n",
       "2           2  10002     1198   2018-06-25     1000\n",
       "3           3  10003      551   2018-08-22     1000\n",
       "4           4  10004      303   2018-09-24     1000"
      ]
     },
     "execution_count": 15,
     "metadata": {},
     "output_type": "execute_result"
    }
   ],
   "source": [
    "internet.head()"
   ]
  },
  {
   "cell_type": "code",
   "execution_count": 16,
   "id": "fbfdacd9",
   "metadata": {
    "scrolled": true
   },
   "outputs": [
    {
     "name": "stdout",
     "output_type": "stream",
     "text": [
      "<class 'pandas.core.frame.DataFrame'>\n",
      "RangeIndex: 149396 entries, 0 to 149395\n",
      "Data columns (total 5 columns):\n",
      " #   Column        Non-Null Count   Dtype         \n",
      "---  ------        --------------   -----         \n",
      " 0   Unnamed: 0    149396 non-null  int64         \n",
      " 1   id            149396 non-null  int64         \n",
      " 2   mb_used       149396 non-null  int64         \n",
      " 3   session_date  149396 non-null  datetime64[ns]\n",
      " 4   user_id       149396 non-null  int64         \n",
      "dtypes: datetime64[ns](1), int64(4)\n",
      "memory usage: 5.7 MB\n"
     ]
    }
   ],
   "source": [
    "internet.info()"
   ]
  },
  {
   "cell_type": "markdown",
   "id": "8d6336f8",
   "metadata": {},
   "source": [
    "**Посмотрим и подготовим таблицу сообщений**"
   ]
  },
  {
   "cell_type": "code",
   "execution_count": 17,
   "id": "132de14c",
   "metadata": {},
   "outputs": [
    {
     "data": {
      "text/html": [
       "<div>\n",
       "<style scoped>\n",
       "    .dataframe tbody tr th:only-of-type {\n",
       "        vertical-align: middle;\n",
       "    }\n",
       "\n",
       "    .dataframe tbody tr th {\n",
       "        vertical-align: top;\n",
       "    }\n",
       "\n",
       "    .dataframe thead th {\n",
       "        text-align: right;\n",
       "    }\n",
       "</style>\n",
       "<table border=\"1\" class=\"dataframe\">\n",
       "  <thead>\n",
       "    <tr style=\"text-align: right;\">\n",
       "      <th></th>\n",
       "      <th>id</th>\n",
       "      <th>message_date</th>\n",
       "      <th>user_id</th>\n",
       "    </tr>\n",
       "  </thead>\n",
       "  <tbody>\n",
       "    <tr>\n",
       "      <th>0</th>\n",
       "      <td>1000_0</td>\n",
       "      <td>2018-06-27</td>\n",
       "      <td>1000</td>\n",
       "    </tr>\n",
       "    <tr>\n",
       "      <th>1</th>\n",
       "      <td>1000_1</td>\n",
       "      <td>2018-10-08</td>\n",
       "      <td>1000</td>\n",
       "    </tr>\n",
       "    <tr>\n",
       "      <th>2</th>\n",
       "      <td>1000_2</td>\n",
       "      <td>2018-08-04</td>\n",
       "      <td>1000</td>\n",
       "    </tr>\n",
       "    <tr>\n",
       "      <th>3</th>\n",
       "      <td>1000_3</td>\n",
       "      <td>2018-06-16</td>\n",
       "      <td>1000</td>\n",
       "    </tr>\n",
       "    <tr>\n",
       "      <th>4</th>\n",
       "      <td>1000_4</td>\n",
       "      <td>2018-12-05</td>\n",
       "      <td>1000</td>\n",
       "    </tr>\n",
       "  </tbody>\n",
       "</table>\n",
       "</div>"
      ],
      "text/plain": [
       "       id message_date  user_id\n",
       "0  1000_0   2018-06-27     1000\n",
       "1  1000_1   2018-10-08     1000\n",
       "2  1000_2   2018-08-04     1000\n",
       "3  1000_3   2018-06-16     1000\n",
       "4  1000_4   2018-12-05     1000"
      ]
     },
     "execution_count": 17,
     "metadata": {},
     "output_type": "execute_result"
    }
   ],
   "source": [
    "messages.head()"
   ]
  },
  {
   "cell_type": "code",
   "execution_count": 18,
   "id": "1cbf25d2",
   "metadata": {},
   "outputs": [
    {
     "name": "stdout",
     "output_type": "stream",
     "text": [
      "<class 'pandas.core.frame.DataFrame'>\n",
      "RangeIndex: 123036 entries, 0 to 123035\n",
      "Data columns (total 3 columns):\n",
      " #   Column        Non-Null Count   Dtype \n",
      "---  ------        --------------   ----- \n",
      " 0   id            123036 non-null  object\n",
      " 1   message_date  123036 non-null  object\n",
      " 2   user_id       123036 non-null  int64 \n",
      "dtypes: int64(1), object(2)\n",
      "memory usage: 2.8+ MB\n"
     ]
    }
   ],
   "source": [
    "messages.info()"
   ]
  },
  {
   "cell_type": "code",
   "execution_count": 19,
   "id": "9300bfaa",
   "metadata": {},
   "outputs": [],
   "source": [
    "# приведем дату к datetime\n",
    "messages['message_date'] = pd.to_datetime(messages['message_date'], format = '%Y-%m-%d')"
   ]
  },
  {
   "cell_type": "code",
   "execution_count": 20,
   "id": "64f7eb69",
   "metadata": {},
   "outputs": [],
   "source": [
    "# приведем id к int\n",
    "messages['id'] = messages['id'].astype('int')"
   ]
  },
  {
   "cell_type": "code",
   "execution_count": 21,
   "id": "1933ec46",
   "metadata": {},
   "outputs": [
    {
     "data": {
      "text/html": [
       "<div>\n",
       "<style scoped>\n",
       "    .dataframe tbody tr th:only-of-type {\n",
       "        vertical-align: middle;\n",
       "    }\n",
       "\n",
       "    .dataframe tbody tr th {\n",
       "        vertical-align: top;\n",
       "    }\n",
       "\n",
       "    .dataframe thead th {\n",
       "        text-align: right;\n",
       "    }\n",
       "</style>\n",
       "<table border=\"1\" class=\"dataframe\">\n",
       "  <thead>\n",
       "    <tr style=\"text-align: right;\">\n",
       "      <th></th>\n",
       "      <th>id</th>\n",
       "      <th>message_date</th>\n",
       "      <th>user_id</th>\n",
       "    </tr>\n",
       "  </thead>\n",
       "  <tbody>\n",
       "    <tr>\n",
       "      <th>0</th>\n",
       "      <td>10000</td>\n",
       "      <td>2018-06-27</td>\n",
       "      <td>1000</td>\n",
       "    </tr>\n",
       "    <tr>\n",
       "      <th>1</th>\n",
       "      <td>10001</td>\n",
       "      <td>2018-10-08</td>\n",
       "      <td>1000</td>\n",
       "    </tr>\n",
       "    <tr>\n",
       "      <th>2</th>\n",
       "      <td>10002</td>\n",
       "      <td>2018-08-04</td>\n",
       "      <td>1000</td>\n",
       "    </tr>\n",
       "    <tr>\n",
       "      <th>3</th>\n",
       "      <td>10003</td>\n",
       "      <td>2018-06-16</td>\n",
       "      <td>1000</td>\n",
       "    </tr>\n",
       "    <tr>\n",
       "      <th>4</th>\n",
       "      <td>10004</td>\n",
       "      <td>2018-12-05</td>\n",
       "      <td>1000</td>\n",
       "    </tr>\n",
       "  </tbody>\n",
       "</table>\n",
       "</div>"
      ],
      "text/plain": [
       "      id message_date  user_id\n",
       "0  10000   2018-06-27     1000\n",
       "1  10001   2018-10-08     1000\n",
       "2  10002   2018-08-04     1000\n",
       "3  10003   2018-06-16     1000\n",
       "4  10004   2018-12-05     1000"
      ]
     },
     "execution_count": 21,
     "metadata": {},
     "output_type": "execute_result"
    }
   ],
   "source": [
    "messages.head()"
   ]
  },
  {
   "cell_type": "code",
   "execution_count": 22,
   "id": "66b9b706",
   "metadata": {},
   "outputs": [
    {
     "name": "stdout",
     "output_type": "stream",
     "text": [
      "<class 'pandas.core.frame.DataFrame'>\n",
      "RangeIndex: 123036 entries, 0 to 123035\n",
      "Data columns (total 3 columns):\n",
      " #   Column        Non-Null Count   Dtype         \n",
      "---  ------        --------------   -----         \n",
      " 0   id            123036 non-null  int64         \n",
      " 1   message_date  123036 non-null  datetime64[ns]\n",
      " 2   user_id       123036 non-null  int64         \n",
      "dtypes: datetime64[ns](1), int64(2)\n",
      "memory usage: 2.8 MB\n"
     ]
    }
   ],
   "source": [
    "messages.info()"
   ]
  },
  {
   "cell_type": "markdown",
   "id": "85d9f7ae",
   "metadata": {},
   "source": [
    "**Посмотрим и подготовим таблицу тарифов**"
   ]
  },
  {
   "cell_type": "code",
   "execution_count": 23,
   "id": "0e1fd26a",
   "metadata": {},
   "outputs": [
    {
     "data": {
      "text/html": [
       "<div>\n",
       "<style scoped>\n",
       "    .dataframe tbody tr th:only-of-type {\n",
       "        vertical-align: middle;\n",
       "    }\n",
       "\n",
       "    .dataframe tbody tr th {\n",
       "        vertical-align: top;\n",
       "    }\n",
       "\n",
       "    .dataframe thead th {\n",
       "        text-align: right;\n",
       "    }\n",
       "</style>\n",
       "<table border=\"1\" class=\"dataframe\">\n",
       "  <thead>\n",
       "    <tr style=\"text-align: right;\">\n",
       "      <th></th>\n",
       "      <th>messages_included</th>\n",
       "      <th>mb_per_month_included</th>\n",
       "      <th>minutes_included</th>\n",
       "      <th>rub_monthly_fee</th>\n",
       "      <th>rub_per_gb</th>\n",
       "      <th>rub_per_message</th>\n",
       "      <th>rub_per_minute</th>\n",
       "      <th>tariff_name</th>\n",
       "    </tr>\n",
       "  </thead>\n",
       "  <tbody>\n",
       "    <tr>\n",
       "      <th>0</th>\n",
       "      <td>50</td>\n",
       "      <td>15360</td>\n",
       "      <td>500</td>\n",
       "      <td>550</td>\n",
       "      <td>200</td>\n",
       "      <td>3</td>\n",
       "      <td>3</td>\n",
       "      <td>smart</td>\n",
       "    </tr>\n",
       "    <tr>\n",
       "      <th>1</th>\n",
       "      <td>1000</td>\n",
       "      <td>30720</td>\n",
       "      <td>3000</td>\n",
       "      <td>1950</td>\n",
       "      <td>150</td>\n",
       "      <td>1</td>\n",
       "      <td>1</td>\n",
       "      <td>ultra</td>\n",
       "    </tr>\n",
       "  </tbody>\n",
       "</table>\n",
       "</div>"
      ],
      "text/plain": [
       "   messages_included  mb_per_month_included  minutes_included  \\\n",
       "0                 50                  15360               500   \n",
       "1               1000                  30720              3000   \n",
       "\n",
       "   rub_monthly_fee  rub_per_gb  rub_per_message  rub_per_minute tariff_name  \n",
       "0              550         200                3               3       smart  \n",
       "1             1950         150                1               1       ultra  "
      ]
     },
     "execution_count": 23,
     "metadata": {},
     "output_type": "execute_result"
    }
   ],
   "source": [
    "tariffs.head()"
   ]
  },
  {
   "cell_type": "code",
   "execution_count": 24,
   "id": "8de3c59a",
   "metadata": {},
   "outputs": [
    {
     "name": "stdout",
     "output_type": "stream",
     "text": [
      "<class 'pandas.core.frame.DataFrame'>\n",
      "RangeIndex: 2 entries, 0 to 1\n",
      "Data columns (total 8 columns):\n",
      " #   Column                 Non-Null Count  Dtype \n",
      "---  ------                 --------------  ----- \n",
      " 0   messages_included      2 non-null      int64 \n",
      " 1   mb_per_month_included  2 non-null      int64 \n",
      " 2   minutes_included       2 non-null      int64 \n",
      " 3   rub_monthly_fee        2 non-null      int64 \n",
      " 4   rub_per_gb             2 non-null      int64 \n",
      " 5   rub_per_message        2 non-null      int64 \n",
      " 6   rub_per_minute         2 non-null      int64 \n",
      " 7   tariff_name            2 non-null      object\n",
      "dtypes: int64(7), object(1)\n",
      "memory usage: 256.0+ bytes\n"
     ]
    }
   ],
   "source": [
    "tariffs.info()"
   ]
  },
  {
   "cell_type": "code",
   "execution_count": 25,
   "id": "8a67f826",
   "metadata": {},
   "outputs": [],
   "source": [
    "# переименуем столбец с тарфом в соответствии с таблицей пользователей\n",
    "tariffs = tariffs.rename(columns = {'tariff_name': 'tariff'})"
   ]
  },
  {
   "cell_type": "markdown",
   "id": "0aefaff9",
   "metadata": {},
   "source": [
    "**Посмотрим и подготовим таблицу пользователей**"
   ]
  },
  {
   "cell_type": "code",
   "execution_count": 26,
   "id": "65a44d39",
   "metadata": {},
   "outputs": [
    {
     "data": {
      "text/html": [
       "<div>\n",
       "<style scoped>\n",
       "    .dataframe tbody tr th:only-of-type {\n",
       "        vertical-align: middle;\n",
       "    }\n",
       "\n",
       "    .dataframe tbody tr th {\n",
       "        vertical-align: top;\n",
       "    }\n",
       "\n",
       "    .dataframe thead th {\n",
       "        text-align: right;\n",
       "    }\n",
       "</style>\n",
       "<table border=\"1\" class=\"dataframe\">\n",
       "  <thead>\n",
       "    <tr style=\"text-align: right;\">\n",
       "      <th></th>\n",
       "      <th>user_id</th>\n",
       "      <th>age</th>\n",
       "      <th>churn_date</th>\n",
       "      <th>city</th>\n",
       "      <th>first_name</th>\n",
       "      <th>last_name</th>\n",
       "      <th>reg_date</th>\n",
       "      <th>tariff</th>\n",
       "    </tr>\n",
       "  </thead>\n",
       "  <tbody>\n",
       "    <tr>\n",
       "      <th>0</th>\n",
       "      <td>1000</td>\n",
       "      <td>52</td>\n",
       "      <td>NaN</td>\n",
       "      <td>Краснодар</td>\n",
       "      <td>Рафаил</td>\n",
       "      <td>Верещагин</td>\n",
       "      <td>2018-05-25</td>\n",
       "      <td>ultra</td>\n",
       "    </tr>\n",
       "    <tr>\n",
       "      <th>1</th>\n",
       "      <td>1001</td>\n",
       "      <td>41</td>\n",
       "      <td>NaN</td>\n",
       "      <td>Москва</td>\n",
       "      <td>Иван</td>\n",
       "      <td>Ежов</td>\n",
       "      <td>2018-11-01</td>\n",
       "      <td>smart</td>\n",
       "    </tr>\n",
       "    <tr>\n",
       "      <th>2</th>\n",
       "      <td>1002</td>\n",
       "      <td>59</td>\n",
       "      <td>NaN</td>\n",
       "      <td>Стерлитамак</td>\n",
       "      <td>Евгений</td>\n",
       "      <td>Абрамович</td>\n",
       "      <td>2018-06-17</td>\n",
       "      <td>smart</td>\n",
       "    </tr>\n",
       "    <tr>\n",
       "      <th>3</th>\n",
       "      <td>1003</td>\n",
       "      <td>23</td>\n",
       "      <td>NaN</td>\n",
       "      <td>Москва</td>\n",
       "      <td>Белла</td>\n",
       "      <td>Белякова</td>\n",
       "      <td>2018-08-17</td>\n",
       "      <td>ultra</td>\n",
       "    </tr>\n",
       "    <tr>\n",
       "      <th>4</th>\n",
       "      <td>1004</td>\n",
       "      <td>68</td>\n",
       "      <td>NaN</td>\n",
       "      <td>Новокузнецк</td>\n",
       "      <td>Татьяна</td>\n",
       "      <td>Авдеенко</td>\n",
       "      <td>2018-05-14</td>\n",
       "      <td>ultra</td>\n",
       "    </tr>\n",
       "  </tbody>\n",
       "</table>\n",
       "</div>"
      ],
      "text/plain": [
       "   user_id  age churn_date         city first_name  last_name    reg_date  \\\n",
       "0     1000   52        NaN    Краснодар     Рафаил  Верещагин  2018-05-25   \n",
       "1     1001   41        NaN       Москва       Иван       Ежов  2018-11-01   \n",
       "2     1002   59        NaN  Стерлитамак    Евгений  Абрамович  2018-06-17   \n",
       "3     1003   23        NaN       Москва      Белла   Белякова  2018-08-17   \n",
       "4     1004   68        NaN  Новокузнецк    Татьяна   Авдеенко  2018-05-14   \n",
       "\n",
       "  tariff  \n",
       "0  ultra  \n",
       "1  smart  \n",
       "2  smart  \n",
       "3  ultra  \n",
       "4  ultra  "
      ]
     },
     "execution_count": 26,
     "metadata": {},
     "output_type": "execute_result"
    }
   ],
   "source": [
    "users.head()"
   ]
  },
  {
   "cell_type": "code",
   "execution_count": 27,
   "id": "a526efb0",
   "metadata": {},
   "outputs": [
    {
     "name": "stdout",
     "output_type": "stream",
     "text": [
      "<class 'pandas.core.frame.DataFrame'>\n",
      "RangeIndex: 500 entries, 0 to 499\n",
      "Data columns (total 8 columns):\n",
      " #   Column      Non-Null Count  Dtype \n",
      "---  ------      --------------  ----- \n",
      " 0   user_id     500 non-null    int64 \n",
      " 1   age         500 non-null    int64 \n",
      " 2   churn_date  38 non-null     object\n",
      " 3   city        500 non-null    object\n",
      " 4   first_name  500 non-null    object\n",
      " 5   last_name   500 non-null    object\n",
      " 6   reg_date    500 non-null    object\n",
      " 7   tariff      500 non-null    object\n",
      "dtypes: int64(2), object(6)\n",
      "memory usage: 31.4+ KB\n"
     ]
    }
   ],
   "source": [
    "users.info()"
   ]
  },
  {
   "cell_type": "code",
   "execution_count": 28,
   "id": "47343fa7",
   "metadata": {},
   "outputs": [],
   "source": [
    "# приведем даты к datetime\n",
    "users['churn_date'] = pd.to_datetime(users['churn_date'], format = '%Y-%m-%d')\n",
    "users['reg_date'] = pd.to_datetime(users['reg_date'], format = '%Y-%m-%d')"
   ]
  },
  {
   "cell_type": "markdown",
   "id": "dfe22c96",
   "metadata": {},
   "source": [
    "38 человек прекратили пользование тарифом"
   ]
  },
  {
   "cell_type": "markdown",
   "id": "51871e9a",
   "metadata": {},
   "source": [
    "## Подготовка данных"
   ]
  },
  {
   "cell_type": "markdown",
   "id": "35ee5146",
   "metadata": {},
   "source": [
    "**Посчитаем количество сделанных звонков и израсходованных минут разговора по месяцам**"
   ]
  },
  {
   "cell_type": "code",
   "execution_count": 29,
   "id": "e94eeee1",
   "metadata": {},
   "outputs": [],
   "source": [
    "# добавим колонку месяца в таблицу звонков\n",
    "calls['month'] = calls['call_date'].dt.month"
   ]
  },
  {
   "cell_type": "code",
   "execution_count": 30,
   "id": "de9381ad",
   "metadata": {},
   "outputs": [
    {
     "data": {
      "text/html": [
       "<div>\n",
       "<style scoped>\n",
       "    .dataframe tbody tr th:only-of-type {\n",
       "        vertical-align: middle;\n",
       "    }\n",
       "\n",
       "    .dataframe tbody tr th {\n",
       "        vertical-align: top;\n",
       "    }\n",
       "\n",
       "    .dataframe thead th {\n",
       "        text-align: right;\n",
       "    }\n",
       "</style>\n",
       "<table border=\"1\" class=\"dataframe\">\n",
       "  <thead>\n",
       "    <tr style=\"text-align: right;\">\n",
       "      <th></th>\n",
       "      <th>user_id</th>\n",
       "      <th>month</th>\n",
       "      <th>calls_total_in_month</th>\n",
       "      <th>calls_duration_in_month</th>\n",
       "    </tr>\n",
       "  </thead>\n",
       "  <tbody>\n",
       "    <tr>\n",
       "      <th>0</th>\n",
       "      <td>1000</td>\n",
       "      <td>5</td>\n",
       "      <td>22</td>\n",
       "      <td>159</td>\n",
       "    </tr>\n",
       "    <tr>\n",
       "      <th>1</th>\n",
       "      <td>1000</td>\n",
       "      <td>6</td>\n",
       "      <td>43</td>\n",
       "      <td>172</td>\n",
       "    </tr>\n",
       "    <tr>\n",
       "      <th>2</th>\n",
       "      <td>1000</td>\n",
       "      <td>7</td>\n",
       "      <td>47</td>\n",
       "      <td>340</td>\n",
       "    </tr>\n",
       "    <tr>\n",
       "      <th>3</th>\n",
       "      <td>1000</td>\n",
       "      <td>8</td>\n",
       "      <td>52</td>\n",
       "      <td>408</td>\n",
       "    </tr>\n",
       "    <tr>\n",
       "      <th>4</th>\n",
       "      <td>1000</td>\n",
       "      <td>9</td>\n",
       "      <td>58</td>\n",
       "      <td>466</td>\n",
       "    </tr>\n",
       "  </tbody>\n",
       "</table>\n",
       "</div>"
      ],
      "text/plain": [
       "   user_id  month  calls_total_in_month  calls_duration_in_month\n",
       "0     1000      5                    22                      159\n",
       "1     1000      6                    43                      172\n",
       "2     1000      7                    47                      340\n",
       "3     1000      8                    52                      408\n",
       "4     1000      9                    58                      466"
      ]
     },
     "execution_count": 30,
     "metadata": {},
     "output_type": "execute_result"
    }
   ],
   "source": [
    "user_calls = (calls.groupby(['user_id', 'month'])\n",
    "                  .agg({'id':'count', 'duration':'sum'})\n",
    "                  .reset_index()\n",
    "                  .rename(columns={'id':'calls_total_in_month', 'duration':'calls_duration_in_month'})\n",
    "             )\n",
    "user_calls.head()"
   ]
  },
  {
   "cell_type": "markdown",
   "id": "947e1e9a",
   "metadata": {},
   "source": [
    "**Посчитаем количество отправленных сообщений по месяцам**"
   ]
  },
  {
   "cell_type": "code",
   "execution_count": 31,
   "id": "6cd62a99",
   "metadata": {},
   "outputs": [],
   "source": [
    "# добавим колонку месяца в таблицу сообщений\n",
    "messages['month'] = messages['message_date'].dt.month"
   ]
  },
  {
   "cell_type": "code",
   "execution_count": 32,
   "id": "e0c29687",
   "metadata": {},
   "outputs": [
    {
     "data": {
      "text/html": [
       "<div>\n",
       "<style scoped>\n",
       "    .dataframe tbody tr th:only-of-type {\n",
       "        vertical-align: middle;\n",
       "    }\n",
       "\n",
       "    .dataframe tbody tr th {\n",
       "        vertical-align: top;\n",
       "    }\n",
       "\n",
       "    .dataframe thead th {\n",
       "        text-align: right;\n",
       "    }\n",
       "</style>\n",
       "<table border=\"1\" class=\"dataframe\">\n",
       "  <thead>\n",
       "    <tr style=\"text-align: right;\">\n",
       "      <th></th>\n",
       "      <th>user_id</th>\n",
       "      <th>month</th>\n",
       "      <th>messages_total_in_month</th>\n",
       "    </tr>\n",
       "  </thead>\n",
       "  <tbody>\n",
       "    <tr>\n",
       "      <th>0</th>\n",
       "      <td>1000</td>\n",
       "      <td>5</td>\n",
       "      <td>22</td>\n",
       "    </tr>\n",
       "    <tr>\n",
       "      <th>1</th>\n",
       "      <td>1000</td>\n",
       "      <td>6</td>\n",
       "      <td>60</td>\n",
       "    </tr>\n",
       "    <tr>\n",
       "      <th>2</th>\n",
       "      <td>1000</td>\n",
       "      <td>7</td>\n",
       "      <td>75</td>\n",
       "    </tr>\n",
       "    <tr>\n",
       "      <th>3</th>\n",
       "      <td>1000</td>\n",
       "      <td>8</td>\n",
       "      <td>81</td>\n",
       "    </tr>\n",
       "    <tr>\n",
       "      <th>4</th>\n",
       "      <td>1000</td>\n",
       "      <td>9</td>\n",
       "      <td>57</td>\n",
       "    </tr>\n",
       "  </tbody>\n",
       "</table>\n",
       "</div>"
      ],
      "text/plain": [
       "   user_id  month  messages_total_in_month\n",
       "0     1000      5                       22\n",
       "1     1000      6                       60\n",
       "2     1000      7                       75\n",
       "3     1000      8                       81\n",
       "4     1000      9                       57"
      ]
     },
     "execution_count": 32,
     "metadata": {},
     "output_type": "execute_result"
    }
   ],
   "source": [
    "user_messages = (messages.groupby(['user_id', 'month'])\n",
    "                        .agg({'id': 'count'})\n",
    "                        .reset_index()\n",
    "                        .rename(columns={'id':'messages_total_in_month'})\n",
    "                )\n",
    "user_messages.head()"
   ]
  },
  {
   "cell_type": "markdown",
   "id": "e4b02d87",
   "metadata": {},
   "source": [
    "**Посчитаем объем израсходованного интернет-трафика по месяцам**"
   ]
  },
  {
   "cell_type": "code",
   "execution_count": 33,
   "id": "825fa6be",
   "metadata": {},
   "outputs": [],
   "source": [
    "# добавим колонку месяца в таблицу интернет-трафика\n",
    "internet['month'] = internet['session_date'].dt.month"
   ]
  },
  {
   "cell_type": "code",
   "execution_count": 34,
   "id": "1da8a985",
   "metadata": {},
   "outputs": [
    {
     "data": {
      "text/html": [
       "<div>\n",
       "<style scoped>\n",
       "    .dataframe tbody tr th:only-of-type {\n",
       "        vertical-align: middle;\n",
       "    }\n",
       "\n",
       "    .dataframe tbody tr th {\n",
       "        vertical-align: top;\n",
       "    }\n",
       "\n",
       "    .dataframe thead th {\n",
       "        text-align: right;\n",
       "    }\n",
       "</style>\n",
       "<table border=\"1\" class=\"dataframe\">\n",
       "  <thead>\n",
       "    <tr style=\"text-align: right;\">\n",
       "      <th></th>\n",
       "      <th>user_id</th>\n",
       "      <th>month</th>\n",
       "      <th>gb_total_in_month</th>\n",
       "    </tr>\n",
       "  </thead>\n",
       "  <tbody>\n",
       "    <tr>\n",
       "      <th>0</th>\n",
       "      <td>1000</td>\n",
       "      <td>5</td>\n",
       "      <td>3.0</td>\n",
       "    </tr>\n",
       "    <tr>\n",
       "      <th>1</th>\n",
       "      <td>1000</td>\n",
       "      <td>6</td>\n",
       "      <td>23.0</td>\n",
       "    </tr>\n",
       "    <tr>\n",
       "      <th>2</th>\n",
       "      <td>1000</td>\n",
       "      <td>7</td>\n",
       "      <td>14.0</td>\n",
       "    </tr>\n",
       "    <tr>\n",
       "      <th>3</th>\n",
       "      <td>1000</td>\n",
       "      <td>8</td>\n",
       "      <td>14.0</td>\n",
       "    </tr>\n",
       "    <tr>\n",
       "      <th>4</th>\n",
       "      <td>1000</td>\n",
       "      <td>9</td>\n",
       "      <td>15.0</td>\n",
       "    </tr>\n",
       "    <tr>\n",
       "      <th>...</th>\n",
       "      <td>...</td>\n",
       "      <td>...</td>\n",
       "      <td>...</td>\n",
       "    </tr>\n",
       "    <tr>\n",
       "      <th>3198</th>\n",
       "      <td>1498</td>\n",
       "      <td>10</td>\n",
       "      <td>21.0</td>\n",
       "    </tr>\n",
       "    <tr>\n",
       "      <th>3199</th>\n",
       "      <td>1499</td>\n",
       "      <td>9</td>\n",
       "      <td>2.0</td>\n",
       "    </tr>\n",
       "    <tr>\n",
       "      <th>3200</th>\n",
       "      <td>1499</td>\n",
       "      <td>10</td>\n",
       "      <td>18.0</td>\n",
       "    </tr>\n",
       "    <tr>\n",
       "      <th>3201</th>\n",
       "      <td>1499</td>\n",
       "      <td>11</td>\n",
       "      <td>18.0</td>\n",
       "    </tr>\n",
       "    <tr>\n",
       "      <th>3202</th>\n",
       "      <td>1499</td>\n",
       "      <td>12</td>\n",
       "      <td>13.0</td>\n",
       "    </tr>\n",
       "  </tbody>\n",
       "</table>\n",
       "<p>3203 rows × 3 columns</p>\n",
       "</div>"
      ],
      "text/plain": [
       "      user_id  month  gb_total_in_month\n",
       "0        1000      5                3.0\n",
       "1        1000      6               23.0\n",
       "2        1000      7               14.0\n",
       "3        1000      8               14.0\n",
       "4        1000      9               15.0\n",
       "...       ...    ...                ...\n",
       "3198     1498     10               21.0\n",
       "3199     1499      9                2.0\n",
       "3200     1499     10               18.0\n",
       "3201     1499     11               18.0\n",
       "3202     1499     12               13.0\n",
       "\n",
       "[3203 rows x 3 columns]"
      ]
     },
     "execution_count": 34,
     "metadata": {},
     "output_type": "execute_result"
    }
   ],
   "source": [
    "user_internet = (internet.groupby(['user_id', 'month'])\n",
    "                         .agg({'mb_used': 'sum'})\n",
    "                         .reset_index()\n",
    "                         .rename(columns={'mb_used': 'gb_total_in_month'})\n",
    "                )\n",
    "user_internet['gb_total_in_month'] = np.ceil((user_internet['gb_total_in_month']/1024))\n",
    "user_internet\n"
   ]
  },
  {
   "cell_type": "markdown",
   "id": "a4fb65ee",
   "metadata": {},
   "source": [
    "**Посчитаем помесячную выручку с каждого пользователя**"
   ]
  },
  {
   "cell_type": "code",
   "execution_count": 35,
   "id": "29fcf374",
   "metadata": {},
   "outputs": [
    {
     "data": {
      "text/html": [
       "<div>\n",
       "<style scoped>\n",
       "    .dataframe tbody tr th:only-of-type {\n",
       "        vertical-align: middle;\n",
       "    }\n",
       "\n",
       "    .dataframe tbody tr th {\n",
       "        vertical-align: top;\n",
       "    }\n",
       "\n",
       "    .dataframe thead th {\n",
       "        text-align: right;\n",
       "    }\n",
       "</style>\n",
       "<table border=\"1\" class=\"dataframe\">\n",
       "  <thead>\n",
       "    <tr style=\"text-align: right;\">\n",
       "      <th></th>\n",
       "      <th>user_id</th>\n",
       "      <th>month</th>\n",
       "      <th>calls_total_in_month</th>\n",
       "      <th>calls_duration_in_month</th>\n",
       "      <th>messages_total_in_month</th>\n",
       "      <th>gb_total_in_month</th>\n",
       "    </tr>\n",
       "  </thead>\n",
       "  <tbody>\n",
       "    <tr>\n",
       "      <th>0</th>\n",
       "      <td>1000</td>\n",
       "      <td>5</td>\n",
       "      <td>22.0</td>\n",
       "      <td>159.0</td>\n",
       "      <td>22.0</td>\n",
       "      <td>3.0</td>\n",
       "    </tr>\n",
       "    <tr>\n",
       "      <th>1</th>\n",
       "      <td>1000</td>\n",
       "      <td>6</td>\n",
       "      <td>43.0</td>\n",
       "      <td>172.0</td>\n",
       "      <td>60.0</td>\n",
       "      <td>23.0</td>\n",
       "    </tr>\n",
       "    <tr>\n",
       "      <th>2</th>\n",
       "      <td>1000</td>\n",
       "      <td>7</td>\n",
       "      <td>47.0</td>\n",
       "      <td>340.0</td>\n",
       "      <td>75.0</td>\n",
       "      <td>14.0</td>\n",
       "    </tr>\n",
       "    <tr>\n",
       "      <th>3</th>\n",
       "      <td>1000</td>\n",
       "      <td>8</td>\n",
       "      <td>52.0</td>\n",
       "      <td>408.0</td>\n",
       "      <td>81.0</td>\n",
       "      <td>14.0</td>\n",
       "    </tr>\n",
       "    <tr>\n",
       "      <th>4</th>\n",
       "      <td>1000</td>\n",
       "      <td>9</td>\n",
       "      <td>58.0</td>\n",
       "      <td>466.0</td>\n",
       "      <td>57.0</td>\n",
       "      <td>15.0</td>\n",
       "    </tr>\n",
       "    <tr>\n",
       "      <th>...</th>\n",
       "      <td>...</td>\n",
       "      <td>...</td>\n",
       "      <td>...</td>\n",
       "      <td>...</td>\n",
       "      <td>...</td>\n",
       "      <td>...</td>\n",
       "    </tr>\n",
       "    <tr>\n",
       "      <th>3209</th>\n",
       "      <td>1489</td>\n",
       "      <td>9</td>\n",
       "      <td>NaN</td>\n",
       "      <td>NaN</td>\n",
       "      <td>32.0</td>\n",
       "      <td>17.0</td>\n",
       "    </tr>\n",
       "    <tr>\n",
       "      <th>3210</th>\n",
       "      <td>1489</td>\n",
       "      <td>10</td>\n",
       "      <td>NaN</td>\n",
       "      <td>NaN</td>\n",
       "      <td>21.0</td>\n",
       "      <td>20.0</td>\n",
       "    </tr>\n",
       "    <tr>\n",
       "      <th>3211</th>\n",
       "      <td>1489</td>\n",
       "      <td>11</td>\n",
       "      <td>NaN</td>\n",
       "      <td>NaN</td>\n",
       "      <td>20.0</td>\n",
       "      <td>18.0</td>\n",
       "    </tr>\n",
       "    <tr>\n",
       "      <th>3212</th>\n",
       "      <td>1489</td>\n",
       "      <td>12</td>\n",
       "      <td>NaN</td>\n",
       "      <td>NaN</td>\n",
       "      <td>35.0</td>\n",
       "      <td>17.0</td>\n",
       "    </tr>\n",
       "    <tr>\n",
       "      <th>3213</th>\n",
       "      <td>1476</td>\n",
       "      <td>4</td>\n",
       "      <td>NaN</td>\n",
       "      <td>NaN</td>\n",
       "      <td>NaN</td>\n",
       "      <td>1.0</td>\n",
       "    </tr>\n",
       "  </tbody>\n",
       "</table>\n",
       "<p>3214 rows × 6 columns</p>\n",
       "</div>"
      ],
      "text/plain": [
       "      user_id  month  calls_total_in_month  calls_duration_in_month  \\\n",
       "0        1000      5                  22.0                    159.0   \n",
       "1        1000      6                  43.0                    172.0   \n",
       "2        1000      7                  47.0                    340.0   \n",
       "3        1000      8                  52.0                    408.0   \n",
       "4        1000      9                  58.0                    466.0   \n",
       "...       ...    ...                   ...                      ...   \n",
       "3209     1489      9                   NaN                      NaN   \n",
       "3210     1489     10                   NaN                      NaN   \n",
       "3211     1489     11                   NaN                      NaN   \n",
       "3212     1489     12                   NaN                      NaN   \n",
       "3213     1476      4                   NaN                      NaN   \n",
       "\n",
       "      messages_total_in_month  gb_total_in_month  \n",
       "0                        22.0                3.0  \n",
       "1                        60.0               23.0  \n",
       "2                        75.0               14.0  \n",
       "3                        81.0               14.0  \n",
       "4                        57.0               15.0  \n",
       "...                       ...                ...  \n",
       "3209                     32.0               17.0  \n",
       "3210                     21.0               20.0  \n",
       "3211                     20.0               18.0  \n",
       "3212                     35.0               17.0  \n",
       "3213                      NaN                1.0  \n",
       "\n",
       "[3214 rows x 6 columns]"
      ]
     },
     "execution_count": 35,
     "metadata": {},
     "output_type": "execute_result"
    }
   ],
   "source": [
    "# сформируем  таблицу, где объединим данные о звонках, сообщениях, интернет-траффике по месяцам\n",
    "user_total = user_calls.merge(user_messages, on = ['user_id', 'month'], how = 'outer')\n",
    "user_total = user_total.merge(user_internet, on = ['user_id', 'month'], how = 'outer')\n",
    "user_total"
   ]
  },
  {
   "cell_type": "code",
   "execution_count": 36,
   "id": "2ab38bb5",
   "metadata": {
    "scrolled": true
   },
   "outputs": [
    {
     "data": {
      "text/html": [
       "<div>\n",
       "<style scoped>\n",
       "    .dataframe tbody tr th:only-of-type {\n",
       "        vertical-align: middle;\n",
       "    }\n",
       "\n",
       "    .dataframe tbody tr th {\n",
       "        vertical-align: top;\n",
       "    }\n",
       "\n",
       "    .dataframe thead th {\n",
       "        text-align: right;\n",
       "    }\n",
       "</style>\n",
       "<table border=\"1\" class=\"dataframe\">\n",
       "  <thead>\n",
       "    <tr style=\"text-align: right;\">\n",
       "      <th></th>\n",
       "      <th>user_id</th>\n",
       "      <th>month</th>\n",
       "      <th>calls_total_in_month</th>\n",
       "      <th>calls_duration_in_month</th>\n",
       "      <th>messages_total_in_month</th>\n",
       "      <th>gb_total_in_month</th>\n",
       "      <th>city</th>\n",
       "      <th>tariff</th>\n",
       "    </tr>\n",
       "  </thead>\n",
       "  <tbody>\n",
       "    <tr>\n",
       "      <th>0</th>\n",
       "      <td>1000</td>\n",
       "      <td>5.0</td>\n",
       "      <td>22.0</td>\n",
       "      <td>159.0</td>\n",
       "      <td>22.0</td>\n",
       "      <td>3.0</td>\n",
       "      <td>Краснодар</td>\n",
       "      <td>ultra</td>\n",
       "    </tr>\n",
       "    <tr>\n",
       "      <th>1</th>\n",
       "      <td>1000</td>\n",
       "      <td>6.0</td>\n",
       "      <td>43.0</td>\n",
       "      <td>172.0</td>\n",
       "      <td>60.0</td>\n",
       "      <td>23.0</td>\n",
       "      <td>Краснодар</td>\n",
       "      <td>ultra</td>\n",
       "    </tr>\n",
       "    <tr>\n",
       "      <th>2</th>\n",
       "      <td>1000</td>\n",
       "      <td>7.0</td>\n",
       "      <td>47.0</td>\n",
       "      <td>340.0</td>\n",
       "      <td>75.0</td>\n",
       "      <td>14.0</td>\n",
       "      <td>Краснодар</td>\n",
       "      <td>ultra</td>\n",
       "    </tr>\n",
       "    <tr>\n",
       "      <th>3</th>\n",
       "      <td>1000</td>\n",
       "      <td>8.0</td>\n",
       "      <td>52.0</td>\n",
       "      <td>408.0</td>\n",
       "      <td>81.0</td>\n",
       "      <td>14.0</td>\n",
       "      <td>Краснодар</td>\n",
       "      <td>ultra</td>\n",
       "    </tr>\n",
       "    <tr>\n",
       "      <th>4</th>\n",
       "      <td>1000</td>\n",
       "      <td>9.0</td>\n",
       "      <td>58.0</td>\n",
       "      <td>466.0</td>\n",
       "      <td>57.0</td>\n",
       "      <td>15.0</td>\n",
       "      <td>Краснодар</td>\n",
       "      <td>ultra</td>\n",
       "    </tr>\n",
       "    <tr>\n",
       "      <th>...</th>\n",
       "      <td>...</td>\n",
       "      <td>...</td>\n",
       "      <td>...</td>\n",
       "      <td>...</td>\n",
       "      <td>...</td>\n",
       "      <td>...</td>\n",
       "      <td>...</td>\n",
       "      <td>...</td>\n",
       "    </tr>\n",
       "    <tr>\n",
       "      <th>3211</th>\n",
       "      <td>1489</td>\n",
       "      <td>10.0</td>\n",
       "      <td>NaN</td>\n",
       "      <td>NaN</td>\n",
       "      <td>21.0</td>\n",
       "      <td>20.0</td>\n",
       "      <td>Санкт-Петербург</td>\n",
       "      <td>smart</td>\n",
       "    </tr>\n",
       "    <tr>\n",
       "      <th>3212</th>\n",
       "      <td>1489</td>\n",
       "      <td>11.0</td>\n",
       "      <td>NaN</td>\n",
       "      <td>NaN</td>\n",
       "      <td>20.0</td>\n",
       "      <td>18.0</td>\n",
       "      <td>Санкт-Петербург</td>\n",
       "      <td>smart</td>\n",
       "    </tr>\n",
       "    <tr>\n",
       "      <th>3213</th>\n",
       "      <td>1489</td>\n",
       "      <td>12.0</td>\n",
       "      <td>NaN</td>\n",
       "      <td>NaN</td>\n",
       "      <td>35.0</td>\n",
       "      <td>17.0</td>\n",
       "      <td>Санкт-Петербург</td>\n",
       "      <td>smart</td>\n",
       "    </tr>\n",
       "    <tr>\n",
       "      <th>3214</th>\n",
       "      <td>1128</td>\n",
       "      <td>NaN</td>\n",
       "      <td>NaN</td>\n",
       "      <td>NaN</td>\n",
       "      <td>NaN</td>\n",
       "      <td>NaN</td>\n",
       "      <td>Волжский</td>\n",
       "      <td>ultra</td>\n",
       "    </tr>\n",
       "    <tr>\n",
       "      <th>3215</th>\n",
       "      <td>1371</td>\n",
       "      <td>NaN</td>\n",
       "      <td>NaN</td>\n",
       "      <td>NaN</td>\n",
       "      <td>NaN</td>\n",
       "      <td>NaN</td>\n",
       "      <td>Омск</td>\n",
       "      <td>smart</td>\n",
       "    </tr>\n",
       "  </tbody>\n",
       "</table>\n",
       "<p>3216 rows × 8 columns</p>\n",
       "</div>"
      ],
      "text/plain": [
       "      user_id  month  calls_total_in_month  calls_duration_in_month  \\\n",
       "0        1000    5.0                  22.0                    159.0   \n",
       "1        1000    6.0                  43.0                    172.0   \n",
       "2        1000    7.0                  47.0                    340.0   \n",
       "3        1000    8.0                  52.0                    408.0   \n",
       "4        1000    9.0                  58.0                    466.0   \n",
       "...       ...    ...                   ...                      ...   \n",
       "3211     1489   10.0                   NaN                      NaN   \n",
       "3212     1489   11.0                   NaN                      NaN   \n",
       "3213     1489   12.0                   NaN                      NaN   \n",
       "3214     1128    NaN                   NaN                      NaN   \n",
       "3215     1371    NaN                   NaN                      NaN   \n",
       "\n",
       "      messages_total_in_month  gb_total_in_month             city tariff  \n",
       "0                        22.0                3.0        Краснодар  ultra  \n",
       "1                        60.0               23.0        Краснодар  ultra  \n",
       "2                        75.0               14.0        Краснодар  ultra  \n",
       "3                        81.0               14.0        Краснодар  ultra  \n",
       "4                        57.0               15.0        Краснодар  ultra  \n",
       "...                       ...                ...              ...    ...  \n",
       "3211                     21.0               20.0  Санкт-Петербург  smart  \n",
       "3212                     20.0               18.0  Санкт-Петербург  smart  \n",
       "3213                     35.0               17.0  Санкт-Петербург  smart  \n",
       "3214                      NaN                NaN         Волжский  ultra  \n",
       "3215                      NaN                NaN             Омск  smart  \n",
       "\n",
       "[3216 rows x 8 columns]"
      ]
     },
     "execution_count": 36,
     "metadata": {},
     "output_type": "execute_result"
    }
   ],
   "source": [
    "# добавим столбец с городом и  тарифом, к которому он подключен\n",
    "user_total = user_total.merge(users[['user_id', 'city', 'tariff']], on = 'user_id', how = 'outer')\n",
    "user_total                              "
   ]
  },
  {
   "cell_type": "code",
   "execution_count": 37,
   "id": "79673f4d",
   "metadata": {},
   "outputs": [],
   "source": [
    "# избавимся от пропущенных значений\n",
    "user_total = user_total.fillna(0)"
   ]
  },
  {
   "cell_type": "code",
   "execution_count": 38,
   "id": "d99b2d9f",
   "metadata": {},
   "outputs": [],
   "source": [
    "# напишем фунцию для подсчета выручки\n",
    "def calc_revenue(row):\n",
    "    \n",
    "    x = 1 if row['tariff'] == 'ultra' else 0\n",
    "        \n",
    "    tariff_msg_limit = tariffs.loc[x, 'messages_included']\n",
    "    tariff_rub_per_msg = tariffs.loc[x, 'rub_per_message']\n",
    "        \n",
    "    tariff_calls_limit = tariffs.loc[x, 'minutes_included']\n",
    "    tariff_rub_per_min = tariffs.loc[x, 'rub_per_minute']\n",
    "        \n",
    "    tariff_gb_limit = tariffs.loc[x, 'mb_per_month_included']/1024\n",
    "    tariff_rub_per_gb = tariffs.loc[x, 'rub_per_gb']\n",
    "    \n",
    "    revenue = tariffs.loc[x, 'rub_monthly_fee']\n",
    "    \n",
    "    if row['calls_total_in_month'] > tariff_calls_limit:\n",
    "        revenue += (row['calls_total_in_month'] - tariff_calls_limit)*tariff_rub_per_min\n",
    "\n",
    "    if row['messages_total_in_month'] > tariff_msg_limit:\n",
    "        revenue += (row['messages_total_in_month'] - tariff_msg_limit)*tariff_rub_per_msg\n",
    "    \n",
    "    if row['gb_total_in_month'] > tariff_gb_limit:\n",
    "        revenue += (row['gb_total_in_month'] - tariff_gb_limit)*tariff_rub_per_gb       \n",
    "\n",
    "    return revenue"
   ]
  },
  {
   "cell_type": "code",
   "execution_count": 39,
   "id": "9ec2b667",
   "metadata": {},
   "outputs": [],
   "source": [
    "# посчитаем выручку для каждого пользователя\n",
    "user_total['revenue'] = 0\n",
    "user_total['revenue'] = user_total.apply(lambda x: calc_revenue(x), axis=1)"
   ]
  },
  {
   "cell_type": "code",
   "execution_count": 40,
   "id": "4d839e2c",
   "metadata": {
    "scrolled": true
   },
   "outputs": [
    {
     "data": {
      "text/html": [
       "<div>\n",
       "<style scoped>\n",
       "    .dataframe tbody tr th:only-of-type {\n",
       "        vertical-align: middle;\n",
       "    }\n",
       "\n",
       "    .dataframe tbody tr th {\n",
       "        vertical-align: top;\n",
       "    }\n",
       "\n",
       "    .dataframe thead th {\n",
       "        text-align: right;\n",
       "    }\n",
       "</style>\n",
       "<table border=\"1\" class=\"dataframe\">\n",
       "  <thead>\n",
       "    <tr style=\"text-align: right;\">\n",
       "      <th></th>\n",
       "      <th>user_id</th>\n",
       "      <th>month</th>\n",
       "      <th>calls_total_in_month</th>\n",
       "      <th>calls_duration_in_month</th>\n",
       "      <th>messages_total_in_month</th>\n",
       "      <th>gb_total_in_month</th>\n",
       "      <th>city</th>\n",
       "      <th>tariff</th>\n",
       "      <th>revenue</th>\n",
       "    </tr>\n",
       "  </thead>\n",
       "  <tbody>\n",
       "    <tr>\n",
       "      <th>0</th>\n",
       "      <td>1000</td>\n",
       "      <td>5.0</td>\n",
       "      <td>22.0</td>\n",
       "      <td>159.0</td>\n",
       "      <td>22.0</td>\n",
       "      <td>3.0</td>\n",
       "      <td>Краснодар</td>\n",
       "      <td>ultra</td>\n",
       "      <td>1950.0</td>\n",
       "    </tr>\n",
       "    <tr>\n",
       "      <th>1</th>\n",
       "      <td>1000</td>\n",
       "      <td>6.0</td>\n",
       "      <td>43.0</td>\n",
       "      <td>172.0</td>\n",
       "      <td>60.0</td>\n",
       "      <td>23.0</td>\n",
       "      <td>Краснодар</td>\n",
       "      <td>ultra</td>\n",
       "      <td>1950.0</td>\n",
       "    </tr>\n",
       "    <tr>\n",
       "      <th>2</th>\n",
       "      <td>1000</td>\n",
       "      <td>7.0</td>\n",
       "      <td>47.0</td>\n",
       "      <td>340.0</td>\n",
       "      <td>75.0</td>\n",
       "      <td>14.0</td>\n",
       "      <td>Краснодар</td>\n",
       "      <td>ultra</td>\n",
       "      <td>1950.0</td>\n",
       "    </tr>\n",
       "    <tr>\n",
       "      <th>3</th>\n",
       "      <td>1000</td>\n",
       "      <td>8.0</td>\n",
       "      <td>52.0</td>\n",
       "      <td>408.0</td>\n",
       "      <td>81.0</td>\n",
       "      <td>14.0</td>\n",
       "      <td>Краснодар</td>\n",
       "      <td>ultra</td>\n",
       "      <td>1950.0</td>\n",
       "    </tr>\n",
       "    <tr>\n",
       "      <th>4</th>\n",
       "      <td>1000</td>\n",
       "      <td>9.0</td>\n",
       "      <td>58.0</td>\n",
       "      <td>466.0</td>\n",
       "      <td>57.0</td>\n",
       "      <td>15.0</td>\n",
       "      <td>Краснодар</td>\n",
       "      <td>ultra</td>\n",
       "      <td>1950.0</td>\n",
       "    </tr>\n",
       "    <tr>\n",
       "      <th>5</th>\n",
       "      <td>1000</td>\n",
       "      <td>10.0</td>\n",
       "      <td>57.0</td>\n",
       "      <td>350.0</td>\n",
       "      <td>73.0</td>\n",
       "      <td>15.0</td>\n",
       "      <td>Краснодар</td>\n",
       "      <td>ultra</td>\n",
       "      <td>1950.0</td>\n",
       "    </tr>\n",
       "    <tr>\n",
       "      <th>6</th>\n",
       "      <td>1000</td>\n",
       "      <td>11.0</td>\n",
       "      <td>43.0</td>\n",
       "      <td>338.0</td>\n",
       "      <td>58.0</td>\n",
       "      <td>15.0</td>\n",
       "      <td>Краснодар</td>\n",
       "      <td>ultra</td>\n",
       "      <td>1950.0</td>\n",
       "    </tr>\n",
       "    <tr>\n",
       "      <th>7</th>\n",
       "      <td>1000</td>\n",
       "      <td>12.0</td>\n",
       "      <td>46.0</td>\n",
       "      <td>333.0</td>\n",
       "      <td>70.0</td>\n",
       "      <td>10.0</td>\n",
       "      <td>Краснодар</td>\n",
       "      <td>ultra</td>\n",
       "      <td>1950.0</td>\n",
       "    </tr>\n",
       "    <tr>\n",
       "      <th>8</th>\n",
       "      <td>1001</td>\n",
       "      <td>11.0</td>\n",
       "      <td>59.0</td>\n",
       "      <td>430.0</td>\n",
       "      <td>0.0</td>\n",
       "      <td>19.0</td>\n",
       "      <td>Москва</td>\n",
       "      <td>smart</td>\n",
       "      <td>1350.0</td>\n",
       "    </tr>\n",
       "    <tr>\n",
       "      <th>9</th>\n",
       "      <td>1001</td>\n",
       "      <td>12.0</td>\n",
       "      <td>63.0</td>\n",
       "      <td>414.0</td>\n",
       "      <td>0.0</td>\n",
       "      <td>14.0</td>\n",
       "      <td>Москва</td>\n",
       "      <td>smart</td>\n",
       "      <td>550.0</td>\n",
       "    </tr>\n",
       "  </tbody>\n",
       "</table>\n",
       "</div>"
      ],
      "text/plain": [
       "   user_id  month  calls_total_in_month  calls_duration_in_month  \\\n",
       "0     1000    5.0                  22.0                    159.0   \n",
       "1     1000    6.0                  43.0                    172.0   \n",
       "2     1000    7.0                  47.0                    340.0   \n",
       "3     1000    8.0                  52.0                    408.0   \n",
       "4     1000    9.0                  58.0                    466.0   \n",
       "5     1000   10.0                  57.0                    350.0   \n",
       "6     1000   11.0                  43.0                    338.0   \n",
       "7     1000   12.0                  46.0                    333.0   \n",
       "8     1001   11.0                  59.0                    430.0   \n",
       "9     1001   12.0                  63.0                    414.0   \n",
       "\n",
       "   messages_total_in_month  gb_total_in_month       city tariff  revenue  \n",
       "0                     22.0                3.0  Краснодар  ultra   1950.0  \n",
       "1                     60.0               23.0  Краснодар  ultra   1950.0  \n",
       "2                     75.0               14.0  Краснодар  ultra   1950.0  \n",
       "3                     81.0               14.0  Краснодар  ultra   1950.0  \n",
       "4                     57.0               15.0  Краснодар  ultra   1950.0  \n",
       "5                     73.0               15.0  Краснодар  ultra   1950.0  \n",
       "6                     58.0               15.0  Краснодар  ultra   1950.0  \n",
       "7                     70.0               10.0  Краснодар  ultra   1950.0  \n",
       "8                      0.0               19.0     Москва  smart   1350.0  \n",
       "9                      0.0               14.0     Москва  smart    550.0  "
      ]
     },
     "execution_count": 40,
     "metadata": {},
     "output_type": "execute_result"
    }
   ],
   "source": [
    "user_total.head(10)"
   ]
  },
  {
   "cell_type": "markdown",
   "id": "9b01945b",
   "metadata": {},
   "source": [
    "## Анализ данных"
   ]
  },
  {
   "cell_type": "code",
   "execution_count": 41,
   "id": "a7dde9e8",
   "metadata": {},
   "outputs": [
    {
     "data": {
      "image/png": "[encoded data removed]",
      "text/plain": [
       "<Figure size 432x288 with 1 Axes>"
      ]
     },
     "metadata": {
      "needs_background": "light"
     },
     "output_type": "display_data"
    }
   ],
   "source": [
    "# посмотрим на звонки тарифа \"Смарт\" \n",
    "user_total[user_total['tariff'] == 'smart']['calls_duration_in_month'].plot(kind='hist', bins=20, label = \"Минуты\")\n",
    "limit = tariffs.loc[0, 'minutes_included']\n",
    "plt.title('Smart — Звонки в минутах в месяц')\n",
    "plt.axvline(limit, c = 'r', ls = '--', label = 'Лимит')\n",
    "plt.legend()\n",
    "plt.show()"
   ]
  },
  {
   "cell_type": "code",
   "execution_count": 42,
   "id": "b10a2063",
   "metadata": {},
   "outputs": [
    {
     "data": {
      "image/png": "[encoded data removed]",
      "text/plain": [
       "<Figure size 432x288 with 1 Axes>"
      ]
     },
     "metadata": {
      "needs_background": "light"
     },
     "output_type": "display_data"
    }
   ],
   "source": [
    "# посмотрим на звонки тарифа \"Ультра\" \n",
    "user_total[user_total['tariff'] == 'ultra']['calls_duration_in_month'].plot(kind='hist', bins=20, label = \"Минуты\")\n",
    "limit = tariffs.loc[1, 'minutes_included']\n",
    "plt.title('Ultra — Звонки в минутах в месяц')\n",
    "plt.axvline(limit, c = 'r', ls = '--', label = 'Лимит')\n",
    "plt.legend()\n",
    "plt.show()"
   ]
  },
  {
   "cell_type": "code",
   "execution_count": 43,
   "id": "2abce2bc",
   "metadata": {},
   "outputs": [
    {
     "data": {
      "text/html": [
       "<style  type=\"text/css\" >\n",
       "</style><table id=\"T_23838_\" ><thead>    <tr>        <th class=\"blank level0\" ></th>        <th class=\"col_heading level0 col0\" colspan=\"4\">calls_duration_in_month</th>    </tr>    <tr>        <th class=\"blank level1\" ></th>        <th class=\"col_heading level1 col0\" >median</th>        <th class=\"col_heading level1 col1\" >mean</th>        <th class=\"col_heading level1 col2\" >var</th>        <th class=\"col_heading level1 col3\" >std</th>    </tr>    <tr>        <th class=\"index_name level0\" >tariff</th>        <th class=\"blank\" ></th>        <th class=\"blank\" ></th>        <th class=\"blank\" ></th>        <th class=\"blank\" ></th>    </tr></thead><tbody>\n",
       "                <tr>\n",
       "                        <th id=\"T_23838_level0_row0\" class=\"row_heading level0 row0\" >smart</th>\n",
       "                        <td id=\"T_23838_row0_col0\" class=\"data row0 col0\" >421.50</td>\n",
       "                        <td id=\"T_23838_row0_col1\" class=\"data row0 col1\" >417.75</td>\n",
       "                        <td id=\"T_23838_row0_col2\" class=\"data row0 col2\" >36281.39</td>\n",
       "                        <td id=\"T_23838_row0_col3\" class=\"data row0 col3\" >190.48</td>\n",
       "            </tr>\n",
       "            <tr>\n",
       "                        <th id=\"T_23838_level0_row1\" class=\"row_heading level0 row1\" >ultra</th>\n",
       "                        <td id=\"T_23838_row1_col0\" class=\"data row1 col0\" >518.00</td>\n",
       "                        <td id=\"T_23838_row1_col1\" class=\"data row1 col1\" >526.09</td>\n",
       "                        <td id=\"T_23838_row1_col2\" class=\"data row1 col2\" >101052.49</td>\n",
       "                        <td id=\"T_23838_row1_col3\" class=\"data row1 col3\" >317.89</td>\n",
       "            </tr>\n",
       "    </tbody></table>"
      ],
      "text/plain": [
       "<pandas.io.formats.style.Styler at 0x7f430ebe66a0>"
      ]
     },
     "execution_count": 43,
     "metadata": {},
     "output_type": "execute_result"
    }
   ],
   "source": [
    "# посмотрим на медиану, среднее, дисперсию и стд отклонение каждого тарифа\n",
    "user_total.groupby('tariff')\\\n",
    "  .agg({'calls_duration_in_month':['median','mean','var','std']})\\\n",
    "  .style.format(\"{:.2f}\")"
   ]
  },
  {
   "cell_type": "markdown",
   "id": "048bfcf6",
   "metadata": {},
   "source": [
    "На тарифе \"Смарт\" пользователи в большей степени стараются уложиться в лимит 500 минут. В среднем они разговаривают по 420 минут. Есть правый хвост в распределении,который говорит нам что, есть пользователи которые разговаривают сверх лимита, количество их снижается. Возможно, им выгоднее будет перейти на тариф \"Ультра\".  \n",
    "По тарифу \"Ультра\" в среднем пользователи разговаривают 520 минут, разброс довольно большой, т.к. лимит на звонки довольный высокий. Никто не выходит за пределы лимита."
   ]
  },
  {
   "cell_type": "code",
   "execution_count": 44,
   "id": "383f7ab2",
   "metadata": {},
   "outputs": [
    {
     "data": {
      "image/png": "[encoded data removed]",
      "text/plain": [
       "<Figure size 432x288 with 1 Axes>"
      ]
     },
     "metadata": {
      "needs_background": "light"
     },
     "output_type": "display_data"
    }
   ],
   "source": [
    "# посмотрим на сообщения тарифа \"Смарт\" \n",
    "user_total[user_total['tariff'] == 'smart']['messages_total_in_month'].plot(kind='hist', bins=20, label = \"Количество смс\")\n",
    "limit = tariffs.loc[0, 'messages_included']\n",
    "plt.title('Smart — Количество смс в месяц')\n",
    "plt.axvline(limit, c = 'r', ls = '--', label = 'Лимит')\n",
    "plt.legend()\n",
    "plt.show()"
   ]
  },
  {
   "cell_type": "code",
   "execution_count": 45,
   "id": "9999a815",
   "metadata": {},
   "outputs": [
    {
     "data": {
      "image/png": "[encoded data removed]",
      "text/plain": [
       "<Figure size 432x288 with 1 Axes>"
      ]
     },
     "metadata": {
      "needs_background": "light"
     },
     "output_type": "display_data"
    }
   ],
   "source": [
    "# посмотрим на сообщения тарифа \"Ультра\" \n",
    "user_total[user_total['tariff'] == 'ultra']['messages_total_in_month'].plot(kind='hist', bins=20, label = \"Количество смс\")\n",
    "limit = tariffs.loc[1, 'messages_included']\n",
    "plt.title('Ultra — Количество смс в месяц')\n",
    "plt.axvline(limit, c = 'r', ls = '--', label = 'Лимит')\n",
    "plt.legend()\n",
    "plt.show()"
   ]
  },
  {
   "cell_type": "code",
   "execution_count": 46,
   "id": "63db85cf",
   "metadata": {},
   "outputs": [
    {
     "data": {
      "text/html": [
       "<style  type=\"text/css\" >\n",
       "</style><table id=\"T_96c52_\" ><thead>    <tr>        <th class=\"blank level0\" ></th>        <th class=\"col_heading level0 col0\" colspan=\"4\">messages_total_in_month</th>    </tr>    <tr>        <th class=\"blank level1\" ></th>        <th class=\"col_heading level1 col0\" >median</th>        <th class=\"col_heading level1 col1\" >mean</th>        <th class=\"col_heading level1 col2\" >var</th>        <th class=\"col_heading level1 col3\" >std</th>    </tr>    <tr>        <th class=\"index_name level0\" >tariff</th>        <th class=\"blank\" ></th>        <th class=\"blank\" ></th>        <th class=\"blank\" ></th>        <th class=\"blank\" ></th>    </tr></thead><tbody>\n",
       "                <tr>\n",
       "                        <th id=\"T_96c52_level0_row0\" class=\"row_heading level0 row0\" >smart</th>\n",
       "                        <td id=\"T_96c52_row0_col0\" class=\"data row0 col0\" >28.00</td>\n",
       "                        <td id=\"T_96c52_row0_col1\" class=\"data row0 col1\" >33.37</td>\n",
       "                        <td id=\"T_96c52_row0_col2\" class=\"data row0 col2\" >796.96</td>\n",
       "                        <td id=\"T_96c52_row0_col3\" class=\"data row0 col3\" >28.23</td>\n",
       "            </tr>\n",
       "            <tr>\n",
       "                        <th id=\"T_96c52_level0_row1\" class=\"row_heading level0 row1\" >ultra</th>\n",
       "                        <td id=\"T_96c52_row1_col0\" class=\"data row1 col0\" >38.00</td>\n",
       "                        <td id=\"T_96c52_row1_col1\" class=\"data row1 col1\" >49.31</td>\n",
       "                        <td id=\"T_96c52_row1_col2\" class=\"data row1 col2\" >2285.42</td>\n",
       "                        <td id=\"T_96c52_row1_col3\" class=\"data row1 col3\" >47.81</td>\n",
       "            </tr>\n",
       "    </tbody></table>"
      ],
      "text/plain": [
       "<pandas.io.formats.style.Styler at 0x7f430eacc4c0>"
      ]
     },
     "execution_count": 46,
     "metadata": {},
     "output_type": "execute_result"
    }
   ],
   "source": [
    "# посмотрим на медиану, среднее, дисперсию и стд отклонение каждого тарифа\n",
    "user_total.groupby('tariff')\\\n",
    "  .agg({'messages_total_in_month':['median','mean','var','std']})\\\n",
    "  .style.format(\"{:.2f}\")"
   ]
  },
  {
   "cell_type": "markdown",
   "id": "5c1fff03",
   "metadata": {},
   "source": [
    "Видим, что большинство пользователей на обоих тарифах очень мало пользуются SMS-сообщениями - способ общения непопулярный. Оба распределения имеют смещение влево. На тарифе \"Смарт\" есть пользователи, которые не укладываются в лимит по тарифу, в \"Ультре\" все в рамках лимита."
   ]
  },
  {
   "cell_type": "code",
   "execution_count": 47,
   "id": "12ad2da8",
   "metadata": {},
   "outputs": [
    {
     "data": {
      "text/html": [
       "<div>\n",
       "<style scoped>\n",
       "    .dataframe tbody tr th:only-of-type {\n",
       "        vertical-align: middle;\n",
       "    }\n",
       "\n",
       "    .dataframe tbody tr th {\n",
       "        vertical-align: top;\n",
       "    }\n",
       "\n",
       "    .dataframe thead th {\n",
       "        text-align: right;\n",
       "    }\n",
       "</style>\n",
       "<table border=\"1\" class=\"dataframe\">\n",
       "  <thead>\n",
       "    <tr style=\"text-align: right;\">\n",
       "      <th></th>\n",
       "      <th>messages_included</th>\n",
       "      <th>mb_per_month_included</th>\n",
       "      <th>minutes_included</th>\n",
       "      <th>rub_monthly_fee</th>\n",
       "      <th>rub_per_gb</th>\n",
       "      <th>rub_per_message</th>\n",
       "      <th>rub_per_minute</th>\n",
       "      <th>tariff</th>\n",
       "    </tr>\n",
       "  </thead>\n",
       "  <tbody>\n",
       "    <tr>\n",
       "      <th>0</th>\n",
       "      <td>50</td>\n",
       "      <td>15360</td>\n",
       "      <td>500</td>\n",
       "      <td>550</td>\n",
       "      <td>200</td>\n",
       "      <td>3</td>\n",
       "      <td>3</td>\n",
       "      <td>smart</td>\n",
       "    </tr>\n",
       "    <tr>\n",
       "      <th>1</th>\n",
       "      <td>1000</td>\n",
       "      <td>30720</td>\n",
       "      <td>3000</td>\n",
       "      <td>1950</td>\n",
       "      <td>150</td>\n",
       "      <td>1</td>\n",
       "      <td>1</td>\n",
       "      <td>ultra</td>\n",
       "    </tr>\n",
       "  </tbody>\n",
       "</table>\n",
       "</div>"
      ],
      "text/plain": [
       "   messages_included  mb_per_month_included  minutes_included  \\\n",
       "0                 50                  15360               500   \n",
       "1               1000                  30720              3000   \n",
       "\n",
       "   rub_monthly_fee  rub_per_gb  rub_per_message  rub_per_minute tariff  \n",
       "0              550         200                3               3  smart  \n",
       "1             1950         150                1               1  ultra  "
      ]
     },
     "execution_count": 47,
     "metadata": {},
     "output_type": "execute_result"
    }
   ],
   "source": [
    "tariffs"
   ]
  },
  {
   "cell_type": "code",
   "execution_count": 48,
   "id": "e4a21edf",
   "metadata": {},
   "outputs": [
    {
     "data": {
      "image/png": "[encoded data removed]",
      "text/plain": [
       "<Figure size 432x288 with 1 Axes>"
      ]
     },
     "metadata": {
      "needs_background": "light"
     },
     "output_type": "display_data"
    }
   ],
   "source": [
    "# посмотрим на интернет трафик тарифа \"Смарт\" \n",
    "user_total[user_total['tariff'] == 'smart']['gb_total_in_month'].plot(kind='hist', bins=20, label = \"Количество Гб\")\n",
    "limit = tariffs.loc[0, 'mb_per_month_included']/1024\n",
    "plt.title('Smart — Количество Гб в месяц')\n",
    "plt.axvline(limit, c = 'r', ls = '--', label = 'Лимит')\n",
    "plt.legend()\n",
    "plt.show()"
   ]
  },
  {
   "cell_type": "code",
   "execution_count": 49,
   "id": "bba2d787",
   "metadata": {},
   "outputs": [
    {
     "data": {
      "image/png": "[encoded data removed]",
      "text/plain": [
       "<Figure size 432x288 with 1 Axes>"
      ]
     },
     "metadata": {
      "needs_background": "light"
     },
     "output_type": "display_data"
    }
   ],
   "source": [
    "# посмотрим на интернет трафик тарифа \"Ультра\" \n",
    "user_total[user_total['tariff'] == 'ultra']['gb_total_in_month'].plot(kind='hist', bins=20, label = \"Количество Гб\")\n",
    "limit = tariffs.loc[1, 'mb_per_month_included']/1024\n",
    "plt.title('Ultra — Количество Гб в месяц')\n",
    "plt.axvline(limit, c = 'r', ls = '--', label = 'Лимит')\n",
    "plt.legend()\n",
    "plt.show()"
   ]
  },
  {
   "cell_type": "code",
   "execution_count": 50,
   "id": "73fb68ed",
   "metadata": {},
   "outputs": [
    {
     "data": {
      "text/html": [
       "<style  type=\"text/css\" >\n",
       "</style><table id=\"T_98f9f_\" ><thead>    <tr>        <th class=\"blank level0\" ></th>        <th class=\"col_heading level0 col0\" colspan=\"4\">gb_total_in_month</th>    </tr>    <tr>        <th class=\"blank level1\" ></th>        <th class=\"col_heading level1 col0\" >median</th>        <th class=\"col_heading level1 col1\" >mean</th>        <th class=\"col_heading level1 col2\" >var</th>        <th class=\"col_heading level1 col3\" >std</th>    </tr>    <tr>        <th class=\"index_name level0\" >tariff</th>        <th class=\"blank\" ></th>        <th class=\"blank\" ></th>        <th class=\"blank\" ></th>        <th class=\"blank\" ></th>    </tr></thead><tbody>\n",
       "                <tr>\n",
       "                        <th id=\"T_98f9f_level0_row0\" class=\"row_heading level0 row0\" >smart</th>\n",
       "                        <td id=\"T_98f9f_row0_col0\" class=\"data row0 col0\" >17.00</td>\n",
       "                        <td id=\"T_98f9f_row0_col1\" class=\"data row0 col1\" >16.35</td>\n",
       "                        <td id=\"T_98f9f_row0_col2\" class=\"data row0 col2\" >33.27</td>\n",
       "                        <td id=\"T_98f9f_row0_col3\" class=\"data row0 col3\" >5.77</td>\n",
       "            </tr>\n",
       "            <tr>\n",
       "                        <th id=\"T_98f9f_level0_row1\" class=\"row_heading level0 row1\" >ultra</th>\n",
       "                        <td id=\"T_98f9f_row1_col0\" class=\"data row1 col0\" >19.00</td>\n",
       "                        <td id=\"T_98f9f_row1_col1\" class=\"data row1 col1\" >19.51</td>\n",
       "                        <td id=\"T_98f9f_row1_col2\" class=\"data row1 col2\" >97.62</td>\n",
       "                        <td id=\"T_98f9f_row1_col3\" class=\"data row1 col3\" >9.88</td>\n",
       "            </tr>\n",
       "    </tbody></table>"
      ],
      "text/plain": [
       "<pandas.io.formats.style.Styler at 0x7f430e834a30>"
      ]
     },
     "execution_count": 50,
     "metadata": {},
     "output_type": "execute_result"
    }
   ],
   "source": [
    "# посмотрим на медиану, среднее, дисперсию и стд отклонение каждого тарифа\n",
    "user_total.groupby('tariff')\\\n",
    "  .agg({'gb_total_in_month':['median','mean','var','std']})\\\n",
    "  .style.format(\"{:.2f}\")"
   ]
  },
  {
   "cell_type": "markdown",
   "id": "4b81dff8",
   "metadata": {},
   "source": [
    "Видим, что медиана и средние у обоих тарифах лежат рядом, но на \"Ультра\" разброс значений выше. На тарифе \"Смарт\" большая часть пользователей использует интернет сверх лимита.   \n",
    "На \"Ультре\" из-за увеличенного тарифа пользователи в основном укладываются в лимиты по трафику (среднее и медиана ниже лимита в 30 Гб), но есть и те, которые используют интернет свыше лимита."
   ]
  },
  {
   "cell_type": "markdown",
   "id": "aff4c210",
   "metadata": {},
   "source": [
    "## Проверка гипотез"
   ]
  },
  {
   "cell_type": "markdown",
   "id": "ff24c5ff",
   "metadata": {},
   "source": [
    "*Будем использовать t-критерий Стьюдента, так как сравниваемые выборки независимы между собой.*"
   ]
  },
  {
   "cell_type": "markdown",
   "id": "db720085",
   "metadata": {},
   "source": [
    "### Гипотеза №1: Средняя выручка пользователей тарифов «Ультра» и «Смарт» различаются ###"
   ]
  },
  {
   "cell_type": "markdown",
   "id": "187cf574",
   "metadata": {},
   "source": [
    "**Сформулируем гипотезы:**\n",
    "\n",
    "- H0: выручка пользователей тарифов «Ультра» и «Смарт» не различается\n",
    "- H1: выручка пользователей тарифов «Ультра» и «Смарт» различается"
   ]
  },
  {
   "cell_type": "code",
   "execution_count": 51,
   "id": "1d5348ee",
   "metadata": {},
   "outputs": [],
   "source": [
    "# разобъем пользователей по тарифам \n",
    "smart = user_total[user_total['tariff'] == 'smart']['revenue']\n",
    "ultra = user_total[user_total['tariff'] == 'ultra']['revenue']"
   ]
  },
  {
   "cell_type": "code",
   "execution_count": 52,
   "id": "835df3e4",
   "metadata": {},
   "outputs": [
    {
     "name": "stdout",
     "output_type": "stream",
     "text": [
      "Средняя выручка тарифа \"smart\": 1169.5\n",
      "Средняя выручка тарифа \"ultra\": 2070.9\n",
      "Полная выручка тарифа \"smart\": 2608084.0\n",
      "Полная выручка тарифа \"ultra\": 2041950.0\n",
      "Количество пользователей тарифа \"smart\": 2230\n",
      "Количество пользователей тарифа \"ultra\": 986\n"
     ]
    }
   ],
   "source": [
    "print('Средняя выручка тарифа \"smart\": {:.1f}'.format(smart.mean()))\n",
    "print('Средняя выручка тарифа \"ultra\": {:.1f}'.format(ultra.mean()))\n",
    "print('Полная выручка тарифа \"smart\": {:.1f}'.format(smart.sum()))\n",
    "print('Полная выручка тарифа \"ultra\": {:.1f}'.format(ultra.sum()))\n",
    "print('Количество пользователей тарифа \"smart\": {}'.format(smart.count()))\n",
    "print('Количество пользователей тарифа \"ultra\": {}'.format(ultra.count()))\n"
   ]
  },
  {
   "cell_type": "code",
   "execution_count": 53,
   "id": "83122bcc",
   "metadata": {},
   "outputs": [],
   "source": [
    "# примем \n",
    "alpha = 0.05"
   ]
  },
  {
   "cell_type": "code",
   "execution_count": 54,
   "id": "c3700292",
   "metadata": {},
   "outputs": [],
   "source": [
    "results = st.ttest_ind(ultra, smart)"
   ]
  },
  {
   "cell_type": "code",
   "execution_count": 55,
   "id": "7afbfd83",
   "metadata": {},
   "outputs": [
    {
     "name": "stdout",
     "output_type": "stream",
     "text": [
      "p-значение: 1.957723028588673e-239\n",
      "Отвергаем нулевую гипотезу\n"
     ]
    }
   ],
   "source": [
    "print('p-значение:', results.pvalue)\n",
    "\n",
    "if (results.pvalue < alpha):\n",
    "    print(\"Отвергаем нулевую гипотезу\")\n",
    "else:\n",
    "    print(\"Не получилось отвергнуть нулевую гипотезу\")"
   ]
  },
  {
   "cell_type": "markdown",
   "id": "3c25b39e",
   "metadata": {},
   "source": [
    "Выручка пользователей тарифов «Ультра» и «Смарт» различается\n"
   ]
  },
  {
   "cell_type": "markdown",
   "id": "5d5eceee",
   "metadata": {},
   "source": [
    "### Гипотеза №2: Cредняя выручка пользователей из Москвы отличается от выручки пользователей из других регионов. ###"
   ]
  },
  {
   "cell_type": "markdown",
   "id": "81c18a0b",
   "metadata": {},
   "source": [
    "**Сформулируем гипотезы:**\n",
    "\n",
    "- H0: средняя выручка пользователей из Москвы не отличается от выручки пользователей из других регионов\n",
    "- H1: средняя выручка пользователей из Москвы отличается от выручки пользователей из других регионов"
   ]
  },
  {
   "cell_type": "code",
   "execution_count": 56,
   "id": "bcb78b6b",
   "metadata": {},
   "outputs": [
    {
     "data": {
      "text/plain": [
       "array(['Краснодар', 'Москва', 'Стерлитамак', 'Новокузнецк',\n",
       "       'Набережные Челны', 'Ульяновск', 'Челябинск', 'Пермь', 'Тюмень',\n",
       "       'Самара', 'Санкт-Петербург', 'Иваново', 'Чебоксары', 'Омск', 'Уфа',\n",
       "       'Томск', 'Чита', 'Мурманск', 'Петрозаводск', 'Тверь',\n",
       "       'Екатеринбург', 'Махачкала', 'Вологда', 'Череповец', 'Ярославль',\n",
       "       'Сочи', 'Хабаровск', 'Ставрополь', 'Рязань', 'Улан-Удэ', 'Тула',\n",
       "       'Саратов', 'Ростов-на-Дону', 'Казань', 'Иркутск', 'Курск',\n",
       "       'Калуга', 'Якутск', 'Астрахань', 'Химки', 'Владикавказ',\n",
       "       'Волгоград', 'Саранск', 'Ижевск', 'Новосибирск', 'Брянск',\n",
       "       'Тольятти', 'Нижний Тагил', 'Орёл', 'Белгород', 'Воронеж',\n",
       "       'Курган', 'Барнаул', 'Красноярск', 'Архангельск', 'Липецк',\n",
       "       'Кемерово', 'Киров', 'Сургут', 'Пенза', 'Волжский', 'Магнитогорск',\n",
       "       'Нижний Новгород', 'Кострома', 'Владивосток', 'Тамбов', 'Балашиха',\n",
       "       'Севастополь', 'Калининград', 'Оренбург', 'Смоленск',\n",
       "       'Нижневартовск', 'Владимир', 'Новороссийск', 'Грозный', 'Подольск'],\n",
       "      dtype=object)"
      ]
     },
     "execution_count": 56,
     "metadata": {},
     "output_type": "execute_result"
    }
   ],
   "source": [
    "# посмотрим города\n",
    "user_total['city'].unique()"
   ]
  },
  {
   "cell_type": "code",
   "execution_count": 57,
   "id": "763bc6a5",
   "metadata": {},
   "outputs": [],
   "source": [
    "# разобъем пользователей на Москву и другие регионы\n",
    "user_moscow = user_total[user_total['city'] == 'Москва']['revenue']\n",
    "user_other = user_total[user_total['city'] != 'Москва']['revenue']"
   ]
  },
  {
   "cell_type": "code",
   "execution_count": 58,
   "id": "19dbc7f9",
   "metadata": {},
   "outputs": [],
   "source": [
    "# примем \n",
    "alpha = 0.05"
   ]
  },
  {
   "cell_type": "code",
   "execution_count": 59,
   "id": "d46c5227",
   "metadata": {},
   "outputs": [],
   "source": [
    "results = st.ttest_ind(user_moscow, user_other)"
   ]
  },
  {
   "cell_type": "code",
   "execution_count": 60,
   "id": "598ffffd",
   "metadata": {},
   "outputs": [
    {
     "name": "stdout",
     "output_type": "stream",
     "text": [
      "p-значение: 0.2854624966111559\n",
      "Не получилось отвергнуть нулевую гипотезу\n"
     ]
    }
   ],
   "source": [
    "print('p-значение:', results.pvalue)\n",
    "\n",
    "if (results.pvalue < alpha):\n",
    "    print(\"Отвергаем нулевую гипотезу\")\n",
    "else:\n",
    "    print(\"Не получилось отвергнуть нулевую гипотезу\")"
   ]
  },
  {
   "cell_type": "markdown",
   "id": "16dae9fe",
   "metadata": {},
   "source": [
    "С вероятностью в 28% и выше такой результат может быть получен случайно. Это слишком большая вероятность, чтобы делать выводы о значимом различиии между средней выручкой пользователей из Москвы и пользователей из других регионов."
   ]
  },
  {
   "cell_type": "markdown",
   "id": "024b0d8c",
   "metadata": {},
   "source": [
    "## Общие выводы"
   ]
  },
  {
   "cell_type": "markdown",
   "id": "4b628b14",
   "metadata": {},
   "source": [
    "Мы провели сравнительный анализ тарифов \"Смарт\" и \"Ультра\". \n",
    "\n",
    "Тариф \"Смарт\" имеет более низкую абонентскую плату и высокие ограничения по тарифу.  \n",
    "Тариф \"Ультра\"имеет высокую абонентскую плату и широкий пакет включенных минут, SMS сообщений и интернета.  \n",
    "Суммарная выручка больше у тарифа \"Смарт\", т.к. этот тариф имеет больше количество пользователей.  \n",
    "Средние по звонкам, смс и интернет трафику у тарифов схожи. SMS сообщениями мало кто пользуется.  \n",
    "В тарифе \"Ультра\" основная выручка идет из-за абонентской платы, а не превышения тарифных условий как это происходит в тарифе \"Смарт\".   \n",
    "Тариф \"Ультра\" имеет неоправдано большие лимиты по услугам, большинству пользователей столько не нужно.  \n",
    "Выручка в различных городах и в Москве с вероятностью 24% и выше не различаются.  \n",
    "Тариф \"Смарт\" популярнее т.к. имеет относительно низкую абонентскую плату, но он покрывает основные потребности пользователя. Возможно можно создать новый тариф на основе \"Смарт\", но оптимизированного за счет широкого (с неоправданно большими лимитами) пакета \"Ультра\" и незначительного повышения абонентской платы. Гибрид рассмотренных тарифов."
   ]
  },
  {
   "cell_type": "code",
   "execution_count": null,
   "id": "ebb15e0f",
   "metadata": {},
   "outputs": [],
   "source": []
  }
 ],
 "metadata": {
  "ExecuteTimeLog": [
   {
    "duration": 1274,
    "start_time": "2022-05-31T09:21:27.595Z"
   },
   {
    "duration": 128,
    "start_time": "2022-05-31T09:21:28.872Z"
   },
   {
    "duration": 0,
    "start_time": "2022-05-31T09:21:29.004Z"
   },
   {
    "duration": 0,
    "start_time": "2022-05-31T09:21:29.006Z"
   },
   {
    "duration": 0,
    "start_time": "2022-05-31T09:21:29.007Z"
   },
   {
    "duration": 0,
    "start_time": "2022-05-31T09:21:29.007Z"
   },
   {
    "duration": 0,
    "start_time": "2022-05-31T09:21:29.009Z"
   },
   {
    "duration": 0,
    "start_time": "2022-05-31T09:21:29.010Z"
   },
   {
    "duration": 0,
    "start_time": "2022-05-31T09:21:29.011Z"
   },
   {
    "duration": 0,
    "start_time": "2022-05-31T09:21:29.013Z"
   },
   {
    "duration": 0,
    "start_time": "2022-05-31T09:21:29.014Z"
   },
   {
    "duration": 0,
    "start_time": "2022-05-31T09:21:29.015Z"
   },
   {
    "duration": 0,
    "start_time": "2022-05-31T09:21:29.016Z"
   },
   {
    "duration": 0,
    "start_time": "2022-05-31T09:21:29.017Z"
   },
   {
    "duration": 0,
    "start_time": "2022-05-31T09:21:29.019Z"
   },
   {
    "duration": 0,
    "start_time": "2022-05-31T09:21:29.019Z"
   },
   {
    "duration": 0,
    "start_time": "2022-05-31T09:21:29.021Z"
   },
   {
    "duration": 0,
    "start_time": "2022-05-31T09:21:29.022Z"
   },
   {
    "duration": 0,
    "start_time": "2022-05-31T09:21:29.023Z"
   },
   {
    "duration": 0,
    "start_time": "2022-05-31T09:21:29.024Z"
   },
   {
    "duration": 0,
    "start_time": "2022-05-31T09:21:29.025Z"
   },
   {
    "duration": 0,
    "start_time": "2022-05-31T09:21:29.026Z"
   },
   {
    "duration": 0,
    "start_time": "2022-05-31T09:21:29.027Z"
   },
   {
    "duration": 0,
    "start_time": "2022-05-31T09:21:29.027Z"
   },
   {
    "duration": 0,
    "start_time": "2022-05-31T09:21:29.027Z"
   },
   {
    "duration": 0,
    "start_time": "2022-05-31T09:21:29.028Z"
   },
   {
    "duration": 0,
    "start_time": "2022-05-31T09:21:29.028Z"
   },
   {
    "duration": 0,
    "start_time": "2022-05-31T09:21:29.029Z"
   },
   {
    "duration": 0,
    "start_time": "2022-05-31T09:21:29.057Z"
   },
   {
    "duration": 0,
    "start_time": "2022-05-31T09:21:29.059Z"
   },
   {
    "duration": 0,
    "start_time": "2022-05-31T09:21:29.060Z"
   },
   {
    "duration": 0,
    "start_time": "2022-05-31T09:21:29.061Z"
   },
   {
    "duration": 0,
    "start_time": "2022-05-31T09:21:29.061Z"
   },
   {
    "duration": 0,
    "start_time": "2022-05-31T09:21:29.062Z"
   },
   {
    "duration": 0,
    "start_time": "2022-05-31T09:21:29.063Z"
   },
   {
    "duration": 0,
    "start_time": "2022-05-31T09:21:29.064Z"
   },
   {
    "duration": 0,
    "start_time": "2022-05-31T09:21:29.065Z"
   },
   {
    "duration": 0,
    "start_time": "2022-05-31T09:21:29.076Z"
   },
   {
    "duration": 0,
    "start_time": "2022-05-31T09:21:29.077Z"
   },
   {
    "duration": 0,
    "start_time": "2022-05-31T09:21:29.079Z"
   },
   {
    "duration": 0,
    "start_time": "2022-05-31T09:21:29.081Z"
   },
   {
    "duration": 0,
    "start_time": "2022-05-31T09:21:29.082Z"
   },
   {
    "duration": 0,
    "start_time": "2022-05-31T09:21:29.084Z"
   },
   {
    "duration": 0,
    "start_time": "2022-05-31T09:21:29.085Z"
   },
   {
    "duration": 0,
    "start_time": "2022-05-31T09:21:29.086Z"
   },
   {
    "duration": 0,
    "start_time": "2022-05-31T09:21:29.088Z"
   },
   {
    "duration": 0,
    "start_time": "2022-05-31T09:21:29.089Z"
   },
   {
    "duration": 0,
    "start_time": "2022-05-31T09:21:29.090Z"
   },
   {
    "duration": 0,
    "start_time": "2022-05-31T09:21:29.091Z"
   },
   {
    "duration": 0,
    "start_time": "2022-05-31T09:21:29.093Z"
   },
   {
    "duration": 0,
    "start_time": "2022-05-31T09:21:29.094Z"
   },
   {
    "duration": 0,
    "start_time": "2022-05-31T09:21:29.095Z"
   },
   {
    "duration": 0,
    "start_time": "2022-05-31T09:21:29.098Z"
   },
   {
    "duration": 0,
    "start_time": "2022-05-31T09:21:29.099Z"
   },
   {
    "duration": 0,
    "start_time": "2022-05-31T09:21:29.100Z"
   },
   {
    "duration": 0,
    "start_time": "2022-05-31T09:21:29.102Z"
   },
   {
    "duration": 0,
    "start_time": "2022-05-31T09:21:29.103Z"
   },
   {
    "duration": 0,
    "start_time": "2022-05-31T09:21:29.155Z"
   },
   {
    "duration": 0,
    "start_time": "2022-05-31T09:21:29.156Z"
   },
   {
    "duration": 0,
    "start_time": "2022-05-31T09:21:29.156Z"
   },
   {
    "duration": 1059,
    "start_time": "2022-05-31T09:22:22.714Z"
   },
   {
    "duration": 1359,
    "start_time": "2022-05-31T09:22:23.776Z"
   },
   {
    "duration": 13,
    "start_time": "2022-05-31T09:22:25.136Z"
   },
   {
    "duration": 38,
    "start_time": "2022-05-31T09:22:25.151Z"
   },
   {
    "duration": 47,
    "start_time": "2022-05-31T09:22:25.191Z"
   },
   {
    "duration": 25,
    "start_time": "2022-05-31T09:22:25.240Z"
   },
   {
    "duration": 38,
    "start_time": "2022-05-31T09:22:25.270Z"
   },
   {
    "duration": 19,
    "start_time": "2022-05-31T09:22:25.310Z"
   },
   {
    "duration": 19,
    "start_time": "2022-05-31T09:22:25.331Z"
   },
   {
    "duration": 9,
    "start_time": "2022-05-31T09:22:25.362Z"
   },
   {
    "duration": 25,
    "start_time": "2022-05-31T09:22:25.372Z"
   },
   {
    "duration": 22,
    "start_time": "2022-05-31T09:22:25.398Z"
   },
   {
    "duration": 4,
    "start_time": "2022-05-31T09:22:25.422Z"
   },
   {
    "duration": 21,
    "start_time": "2022-05-31T09:22:25.427Z"
   },
   {
    "duration": 19,
    "start_time": "2022-05-31T09:22:25.450Z"
   },
   {
    "duration": 23,
    "start_time": "2022-05-31T09:22:25.470Z"
   },
   {
    "duration": 14,
    "start_time": "2022-05-31T09:22:25.494Z"
   },
   {
    "duration": 28,
    "start_time": "2022-05-31T09:22:25.510Z"
   },
   {
    "duration": 30,
    "start_time": "2022-05-31T09:22:25.540Z"
   },
   {
    "duration": 18,
    "start_time": "2022-05-31T09:22:25.574Z"
   },
   {
    "duration": 12,
    "start_time": "2022-05-31T09:22:25.593Z"
   },
   {
    "duration": 11,
    "start_time": "2022-05-31T09:22:25.607Z"
   },
   {
    "duration": 11,
    "start_time": "2022-05-31T09:22:25.621Z"
   },
   {
    "duration": 14,
    "start_time": "2022-05-31T09:22:25.634Z"
   },
   {
    "duration": 16,
    "start_time": "2022-05-31T09:22:25.654Z"
   },
   {
    "duration": 15,
    "start_time": "2022-05-31T09:22:25.672Z"
   },
   {
    "duration": 14,
    "start_time": "2022-05-31T09:22:25.688Z"
   },
   {
    "duration": 5,
    "start_time": "2022-05-31T09:22:25.705Z"
   },
   {
    "duration": 23,
    "start_time": "2022-05-31T09:22:25.711Z"
   },
   {
    "duration": 43,
    "start_time": "2022-05-31T09:22:25.735Z"
   },
   {
    "duration": 14,
    "start_time": "2022-05-31T09:22:25.779Z"
   },
   {
    "duration": 23,
    "start_time": "2022-05-31T09:22:25.795Z"
   },
   {
    "duration": 16,
    "start_time": "2022-05-31T09:22:25.819Z"
   },
   {
    "duration": 44,
    "start_time": "2022-05-31T09:22:25.837Z"
   },
   {
    "duration": 22,
    "start_time": "2022-05-31T09:22:25.883Z"
   },
   {
    "duration": 20,
    "start_time": "2022-05-31T09:22:25.907Z"
   },
   {
    "duration": 41,
    "start_time": "2022-05-31T09:22:25.929Z"
   },
   {
    "duration": 9,
    "start_time": "2022-05-31T09:22:25.972Z"
   },
   {
    "duration": 228,
    "start_time": "2022-05-31T09:22:25.983Z"
   },
   {
    "duration": 14,
    "start_time": "2022-05-31T09:22:26.212Z"
   },
   {
    "duration": 315,
    "start_time": "2022-05-31T09:22:26.228Z"
   },
   {
    "duration": 376,
    "start_time": "2022-05-31T09:22:26.545Z"
   },
   {
    "duration": 60,
    "start_time": "2022-05-31T09:22:26.923Z"
   },
   {
    "duration": 258,
    "start_time": "2022-05-31T09:22:26.984Z"
   },
   {
    "duration": 326,
    "start_time": "2022-05-31T09:22:27.244Z"
   },
   {
    "duration": 10,
    "start_time": "2022-05-31T09:22:27.571Z"
   },
   {
    "duration": 8,
    "start_time": "2022-05-31T09:22:27.583Z"
   },
   {
    "duration": 318,
    "start_time": "2022-05-31T09:22:27.593Z"
   },
   {
    "duration": 312,
    "start_time": "2022-05-31T09:22:27.913Z"
   },
   {
    "duration": 13,
    "start_time": "2022-05-31T09:22:28.227Z"
   },
   {
    "duration": 19,
    "start_time": "2022-05-31T09:22:28.242Z"
   },
   {
    "duration": 11,
    "start_time": "2022-05-31T09:22:28.263Z"
   },
   {
    "duration": 4,
    "start_time": "2022-05-31T09:22:28.275Z"
   },
   {
    "duration": 6,
    "start_time": "2022-05-31T09:22:28.281Z"
   },
   {
    "duration": 6,
    "start_time": "2022-05-31T09:22:28.288Z"
   },
   {
    "duration": 15,
    "start_time": "2022-05-31T09:22:28.295Z"
   },
   {
    "duration": 6,
    "start_time": "2022-05-31T09:22:28.312Z"
   },
   {
    "duration": 4,
    "start_time": "2022-05-31T09:22:28.319Z"
   },
   {
    "duration": 6,
    "start_time": "2022-05-31T09:22:28.324Z"
   },
   {
    "duration": 9,
    "start_time": "2022-05-31T09:22:28.331Z"
   },
   {
    "duration": 40,
    "start_time": "2022-05-31T20:01:52.700Z"
   },
   {
    "duration": 1282,
    "start_time": "2022-05-31T20:02:07.082Z"
   },
   {
    "duration": 1029,
    "start_time": "2022-05-31T20:02:08.367Z"
   },
   {
    "duration": 15,
    "start_time": "2022-05-31T20:02:09.399Z"
   },
   {
    "duration": 43,
    "start_time": "2022-05-31T20:02:09.416Z"
   },
   {
    "duration": 36,
    "start_time": "2022-05-31T20:02:09.461Z"
   },
   {
    "duration": 28,
    "start_time": "2022-05-31T20:02:09.499Z"
   },
   {
    "duration": 43,
    "start_time": "2022-05-31T20:02:09.529Z"
   },
   {
    "duration": 16,
    "start_time": "2022-05-31T20:02:09.575Z"
   },
   {
    "duration": 13,
    "start_time": "2022-05-31T20:02:09.593Z"
   },
   {
    "duration": 18,
    "start_time": "2022-05-31T20:02:09.609Z"
   },
   {
    "duration": 39,
    "start_time": "2022-05-31T20:02:09.629Z"
   },
   {
    "duration": 56,
    "start_time": "2022-05-31T20:02:09.670Z"
   },
   {
    "duration": 6,
    "start_time": "2022-05-31T20:02:09.729Z"
   },
   {
    "duration": 38,
    "start_time": "2022-05-31T20:02:09.737Z"
   },
   {
    "duration": 12,
    "start_time": "2022-05-31T20:02:09.777Z"
   },
   {
    "duration": 40,
    "start_time": "2022-05-31T20:02:09.791Z"
   },
   {
    "duration": 11,
    "start_time": "2022-05-31T20:02:09.833Z"
   },
   {
    "duration": 33,
    "start_time": "2022-05-31T20:02:09.846Z"
   },
   {
    "duration": 21,
    "start_time": "2022-05-31T20:02:09.881Z"
   },
   {
    "duration": 15,
    "start_time": "2022-05-31T20:02:09.926Z"
   },
   {
    "duration": 15,
    "start_time": "2022-05-31T20:02:09.943Z"
   },
   {
    "duration": 15,
    "start_time": "2022-05-31T20:02:09.960Z"
   },
   {
    "duration": 10,
    "start_time": "2022-05-31T20:02:09.977Z"
   },
   {
    "duration": 42,
    "start_time": "2022-05-31T20:02:09.989Z"
   },
   {
    "duration": 4,
    "start_time": "2022-05-31T20:02:10.035Z"
   },
   {
    "duration": 29,
    "start_time": "2022-05-31T20:02:10.042Z"
   },
   {
    "duration": 26,
    "start_time": "2022-05-31T20:02:10.073Z"
   },
   {
    "duration": 7,
    "start_time": "2022-05-31T20:02:10.104Z"
   },
   {
    "duration": 24,
    "start_time": "2022-05-31T20:02:10.127Z"
   },
   {
    "duration": 39,
    "start_time": "2022-05-31T20:02:10.153Z"
   },
   {
    "duration": 33,
    "start_time": "2022-05-31T20:02:10.194Z"
   },
   {
    "duration": 27,
    "start_time": "2022-05-31T20:02:10.229Z"
   },
   {
    "duration": 24,
    "start_time": "2022-05-31T20:02:10.258Z"
   },
   {
    "duration": 5,
    "start_time": "2022-05-31T20:02:21.949Z"
   },
   {
    "duration": 140,
    "start_time": "2022-05-31T20:02:30.473Z"
   },
   {
    "duration": 37,
    "start_time": "2022-05-31T20:02:41.050Z"
   },
   {
    "duration": 1202,
    "start_time": "2022-05-31T20:02:52.305Z"
   },
   {
    "duration": 509,
    "start_time": "2022-05-31T20:02:53.510Z"
   },
   {
    "duration": 15,
    "start_time": "2022-05-31T20:02:54.021Z"
   },
   {
    "duration": 83,
    "start_time": "2022-05-31T20:02:54.038Z"
   },
   {
    "duration": 51,
    "start_time": "2022-05-31T20:02:54.124Z"
   },
   {
    "duration": 6,
    "start_time": "2022-05-31T20:02:54.177Z"
   },
   {
    "duration": 37,
    "start_time": "2022-05-31T20:02:54.186Z"
   },
   {
    "duration": 32,
    "start_time": "2022-05-31T20:02:54.226Z"
   },
   {
    "duration": 37,
    "start_time": "2022-05-31T20:02:54.259Z"
   },
   {
    "duration": 21,
    "start_time": "2022-05-31T20:02:54.298Z"
   },
   {
    "duration": 48,
    "start_time": "2022-05-31T20:02:54.321Z"
   },
   {
    "duration": 28,
    "start_time": "2022-05-31T20:02:54.371Z"
   },
   {
    "duration": 8,
    "start_time": "2022-05-31T20:02:54.401Z"
   },
   {
    "duration": 50,
    "start_time": "2022-05-31T20:02:54.412Z"
   },
   {
    "duration": 21,
    "start_time": "2022-05-31T20:02:54.464Z"
   },
   {
    "duration": 36,
    "start_time": "2022-05-31T20:02:54.487Z"
   },
   {
    "duration": 55,
    "start_time": "2022-05-31T20:02:54.524Z"
   },
   {
    "duration": 50,
    "start_time": "2022-05-31T20:02:54.582Z"
   },
   {
    "duration": 50,
    "start_time": "2022-05-31T20:02:54.639Z"
   },
   {
    "duration": 27,
    "start_time": "2022-05-31T20:02:54.691Z"
   },
   {
    "duration": 58,
    "start_time": "2022-05-31T20:02:54.721Z"
   },
   {
    "duration": 26,
    "start_time": "2022-05-31T20:02:54.781Z"
   },
   {
    "duration": 47,
    "start_time": "2022-05-31T20:02:54.809Z"
   },
   {
    "duration": 29,
    "start_time": "2022-05-31T20:02:54.858Z"
   },
   {
    "duration": 30,
    "start_time": "2022-05-31T20:02:54.889Z"
   },
   {
    "duration": 61,
    "start_time": "2022-05-31T20:02:54.920Z"
   },
   {
    "duration": 20,
    "start_time": "2022-05-31T20:02:54.984Z"
   },
   {
    "duration": 9,
    "start_time": "2022-05-31T20:02:55.006Z"
   },
   {
    "duration": 59,
    "start_time": "2022-05-31T20:02:55.016Z"
   },
   {
    "duration": 29,
    "start_time": "2022-05-31T20:02:55.078Z"
   },
   {
    "duration": 14,
    "start_time": "2022-05-31T20:02:55.109Z"
   },
   {
    "duration": 27,
    "start_time": "2022-05-31T20:02:55.125Z"
   },
   {
    "duration": 47,
    "start_time": "2022-05-31T20:02:55.154Z"
   },
   {
    "duration": 40,
    "start_time": "2022-05-31T20:02:55.203Z"
   },
   {
    "duration": 33,
    "start_time": "2022-05-31T20:02:55.245Z"
   },
   {
    "duration": 22,
    "start_time": "2022-05-31T20:02:55.280Z"
   },
   {
    "duration": 24,
    "start_time": "2022-05-31T20:02:55.304Z"
   },
   {
    "duration": 24,
    "start_time": "2022-05-31T20:02:55.330Z"
   },
   {
    "duration": 257,
    "start_time": "2022-05-31T20:02:55.355Z"
   },
   {
    "duration": 21,
    "start_time": "2022-05-31T20:02:55.614Z"
   },
   {
    "duration": 329,
    "start_time": "2022-05-31T20:02:55.641Z"
   },
   {
    "duration": 398,
    "start_time": "2022-05-31T20:02:55.973Z"
   },
   {
    "duration": 75,
    "start_time": "2022-05-31T20:02:56.373Z"
   },
   {
    "duration": 313,
    "start_time": "2022-05-31T20:02:56.449Z"
   },
   {
    "duration": 337,
    "start_time": "2022-05-31T20:02:56.763Z"
   },
   {
    "duration": 12,
    "start_time": "2022-05-31T20:02:57.101Z"
   },
   {
    "duration": 32,
    "start_time": "2022-05-31T20:02:57.127Z"
   },
   {
    "duration": 331,
    "start_time": "2022-05-31T20:02:57.161Z"
   },
   {
    "duration": 366,
    "start_time": "2022-05-31T20:02:57.494Z"
   },
   {
    "duration": 13,
    "start_time": "2022-05-31T20:02:57.862Z"
   },
   {
    "duration": 25,
    "start_time": "2022-05-31T20:02:57.876Z"
   },
   {
    "duration": 17,
    "start_time": "2022-05-31T20:02:57.904Z"
   },
   {
    "duration": 51,
    "start_time": "2022-05-31T20:02:57.923Z"
   },
   {
    "duration": 26,
    "start_time": "2022-05-31T20:02:57.976Z"
   },
   {
    "duration": 18,
    "start_time": "2022-05-31T20:02:58.004Z"
   },
   {
    "duration": 39,
    "start_time": "2022-05-31T20:02:58.024Z"
   },
   {
    "duration": 16,
    "start_time": "2022-05-31T20:02:58.065Z"
   },
   {
    "duration": 15,
    "start_time": "2022-05-31T20:02:58.083Z"
   },
   {
    "duration": 11,
    "start_time": "2022-05-31T20:02:58.100Z"
   },
   {
    "duration": 32,
    "start_time": "2022-05-31T20:02:58.113Z"
   },
   {
    "duration": 34,
    "start_time": "2022-05-31T20:08:34.549Z"
   },
   {
    "duration": 36,
    "start_time": "2022-05-31T20:08:47.409Z"
   },
   {
    "duration": 63,
    "start_time": "2022-05-31T20:09:51.539Z"
   },
   {
    "duration": 1193,
    "start_time": "2022-05-31T20:14:36.444Z"
   },
   {
    "duration": 475,
    "start_time": "2022-05-31T20:14:37.640Z"
   },
   {
    "duration": 17,
    "start_time": "2022-05-31T20:14:38.118Z"
   },
   {
    "duration": 29,
    "start_time": "2022-05-31T20:14:38.137Z"
   },
   {
    "duration": 32,
    "start_time": "2022-05-31T20:14:38.168Z"
   },
   {
    "duration": 26,
    "start_time": "2022-05-31T20:14:38.201Z"
   },
   {
    "duration": 24,
    "start_time": "2022-05-31T20:14:38.229Z"
   },
   {
    "duration": 13,
    "start_time": "2022-05-31T20:14:38.254Z"
   },
   {
    "duration": 23,
    "start_time": "2022-05-31T20:14:38.269Z"
   },
   {
    "duration": 36,
    "start_time": "2022-05-31T20:14:38.296Z"
   },
   {
    "duration": 25,
    "start_time": "2022-05-31T20:14:38.334Z"
   },
   {
    "duration": 23,
    "start_time": "2022-05-31T20:14:38.361Z"
   },
   {
    "duration": 5,
    "start_time": "2022-05-31T20:14:38.386Z"
   },
   {
    "duration": 45,
    "start_time": "2022-05-31T20:14:38.393Z"
   },
   {
    "duration": 9,
    "start_time": "2022-05-31T20:14:38.440Z"
   },
   {
    "duration": 24,
    "start_time": "2022-05-31T20:14:38.451Z"
   },
   {
    "duration": 8,
    "start_time": "2022-05-31T20:14:38.478Z"
   },
   {
    "duration": 40,
    "start_time": "2022-05-31T20:14:38.487Z"
   },
   {
    "duration": 33,
    "start_time": "2022-05-31T20:14:38.529Z"
   },
   {
    "duration": 28,
    "start_time": "2022-05-31T20:14:38.565Z"
   },
   {
    "duration": 33,
    "start_time": "2022-05-31T20:14:38.595Z"
   },
   {
    "duration": 13,
    "start_time": "2022-05-31T20:14:38.631Z"
   },
   {
    "duration": 18,
    "start_time": "2022-05-31T20:14:38.646Z"
   },
   {
    "duration": 20,
    "start_time": "2022-05-31T20:14:38.667Z"
   },
   {
    "duration": 8,
    "start_time": "2022-05-31T20:14:38.689Z"
   },
   {
    "duration": 29,
    "start_time": "2022-05-31T20:14:38.699Z"
   },
   {
    "duration": 14,
    "start_time": "2022-05-31T20:14:38.729Z"
   },
   {
    "duration": 7,
    "start_time": "2022-05-31T20:14:38.748Z"
   },
   {
    "duration": 27,
    "start_time": "2022-05-31T20:14:38.758Z"
   },
   {
    "duration": 51,
    "start_time": "2022-05-31T20:14:38.786Z"
   },
   {
    "duration": 18,
    "start_time": "2022-05-31T20:14:38.839Z"
   },
   {
    "duration": 20,
    "start_time": "2022-05-31T20:14:38.860Z"
   },
   {
    "duration": 16,
    "start_time": "2022-05-31T20:14:38.882Z"
   },
   {
    "duration": 41,
    "start_time": "2022-05-31T20:14:38.927Z"
   },
   {
    "duration": 35,
    "start_time": "2022-05-31T20:14:38.971Z"
   },
   {
    "duration": 39,
    "start_time": "2022-05-31T20:14:39.007Z"
   },
   {
    "duration": 7,
    "start_time": "2022-05-31T20:14:39.049Z"
   },
   {
    "duration": 9,
    "start_time": "2022-05-31T20:14:39.058Z"
   },
   {
    "duration": 241,
    "start_time": "2022-05-31T20:14:39.069Z"
   },
   {
    "duration": 22,
    "start_time": "2022-05-31T20:14:39.312Z"
   },
   {
    "duration": 402,
    "start_time": "2022-05-31T20:14:39.349Z"
   },
   {
    "duration": 409,
    "start_time": "2022-05-31T20:14:39.753Z"
   },
   {
    "duration": 54,
    "start_time": "2022-05-31T20:14:40.164Z"
   },
   {
    "duration": 326,
    "start_time": "2022-05-31T20:14:40.221Z"
   },
   {
    "duration": 305,
    "start_time": "2022-05-31T20:14:40.549Z"
   },
   {
    "duration": 16,
    "start_time": "2022-05-31T20:14:40.856Z"
   },
   {
    "duration": 22,
    "start_time": "2022-05-31T20:14:40.874Z"
   },
   {
    "duration": 374,
    "start_time": "2022-05-31T20:14:40.897Z"
   },
   {
    "duration": 390,
    "start_time": "2022-05-31T20:14:41.274Z"
   },
   {
    "duration": 19,
    "start_time": "2022-05-31T20:14:41.666Z"
   },
   {
    "duration": 17,
    "start_time": "2022-05-31T20:14:41.687Z"
   },
   {
    "duration": 23,
    "start_time": "2022-05-31T20:14:41.706Z"
   },
   {
    "duration": 14,
    "start_time": "2022-05-31T20:14:41.731Z"
   },
   {
    "duration": 25,
    "start_time": "2022-05-31T20:14:41.748Z"
   },
   {
    "duration": 12,
    "start_time": "2022-05-31T20:14:41.775Z"
   },
   {
    "duration": 16,
    "start_time": "2022-05-31T20:14:41.789Z"
   },
   {
    "duration": 12,
    "start_time": "2022-05-31T20:14:41.807Z"
   },
   {
    "duration": 25,
    "start_time": "2022-05-31T20:14:41.821Z"
   },
   {
    "duration": 16,
    "start_time": "2022-05-31T20:14:41.848Z"
   },
   {
    "duration": 12,
    "start_time": "2022-05-31T20:14:41.866Z"
   }
  ],
  "kernelspec": {
   "display_name": "Python 3",
   "language": "python",
   "name": "python3"
  },
  "language_info": {
   "codemirror_mode": {
    "name": "ipython",
    "version": 3
   },
   "file_extension": ".py",
   "mimetype": "text/x-python",
   "name": "python",
   "nbconvert_exporter": "python",
   "pygments_lexer": "ipython3",
   "version": "3.8.8"
  },
  "toc": {
   "base_numbering": 1,
   "nav_menu": {},
   "number_sections": true,
   "sideBar": true,
   "skip_h1_title": true,
   "title_cell": "Table of Contents",
   "title_sidebar": "Contents",
   "toc_cell": false,
   "toc_position": {},
   "toc_section_display": true,
   "toc_window_display": false
  }
 },
 "nbformat": 4,
 "nbformat_minor": 5
}
